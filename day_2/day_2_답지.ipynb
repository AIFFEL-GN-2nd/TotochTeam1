{
  "nbformat": 4,
  "nbformat_minor": 2,
  "metadata": {
    "colab": {
      "name": "day_2_답지.ipynb",
      "private_outputs": true,
      "provenance": [],
      "collapsed_sections": []
    },
    "kernelspec": {
      "name": "python3",
      "display_name": "Python 3.8.0 64-bit ('torch': conda)"
    },
    "language_info": {
      "name": "python",
      "version": "3.8.0",
      "mimetype": "text/x-python",
      "codemirror_mode": {
        "name": "ipython",
        "version": 3
      },
      "pygments_lexer": "ipython3",
      "nbconvert_exporter": "python",
      "file_extension": ".py"
    },
    "interpreter": {
      "hash": "93f0d9e47ee3596f3a4c40963a5f80a2a8195902cfa23a0f0d123dcd43c69f1e"
    }
  },
  "cells": [
    {
      "cell_type": "markdown",
      "source": [
        "# 이웃집 토토치 파이토치 : Day 2_답지\r\n",
        "\r\n",
        "📢 해당 게시물은 파이토치 공식 튜토리얼 중 [신경망 모델 구성하기](https://tutorials.pytorch.kr/beginner/basics/buildmodel_tutorial.html)를 읽고 직접 작성해보는 실습 노트북입니다."
      ],
      "metadata": {}
    },
    {
      "cell_type": "code",
      "execution_count": null,
      "source": [
        "!pip install torchviz\r\n",
        "!pip install torchsummary"
      ],
      "outputs": [],
      "metadata": {
        "id": "GlG3qJEw--dO"
      }
    },
    {
      "cell_type": "markdown",
      "source": [
        "# 신경망 모델 구성하기"
      ],
      "metadata": {
        "id": "5VIRJWoQGU9S"
      }
    },
    {
      "cell_type": "code",
      "execution_count": 1,
      "source": [
        "import os\r\n",
        "import torch\r\n",
        "from torch import nn\r\n",
        "from torch.utils.data import DataLoader\r\n",
        "from torchvision import datasets, transforms\r\n",
        "from torchviz import make_dot\r\n",
        "from torchsummary import summary\r\n",
        "import torch.nn.functional as F"
      ],
      "outputs": [],
      "metadata": {
        "id": "qPOb8Tzh-rd5"
      }
    },
    {
      "cell_type": "code",
      "execution_count": 2,
      "source": [
        "device = 'cuda' if torch.cuda.is_available() else 'cpu'"
      ],
      "outputs": [],
      "metadata": {
        "id": "aacxDZWz_I32"
      }
    },
    {
      "cell_type": "markdown",
      "source": [
        "## 클래스 정의하기"
      ],
      "metadata": {
        "id": "0FTtZMY-GXr6"
      }
    },
    {
      "cell_type": "code",
      "execution_count": 3,
      "source": [
        "class NeuralNetwork(nn.Module):\r\n",
        "    def __init__(self):\r\n",
        "        super(NeuralNetwork, self).__init__()\r\n",
        "        self.flatten = nn.Flatten()\r\n",
        "        self.linear_relu_stack = nn.Sequential(\r\n",
        "            nn.Linear(28*28, 512),\r\n",
        "            nn.ReLU(),\r\n",
        "            nn.Linear(512, 512),\r\n",
        "            nn.ReLU(),\r\n",
        "            nn.Linear(512, 10),\r\n",
        "            nn.ReLU()\r\n",
        "        )\r\n",
        "\r\n",
        "    def forward(self, x):\r\n",
        "        x = self.flatten(x)\r\n",
        "        logits = self.linear_relu_stack(x)\r\n",
        "        return logits\r\n",
        "\r\n",
        "model = NeuralNetwork().to(device)\r\n",
        "print(model)"
      ],
      "outputs": [
        {
          "output_type": "stream",
          "name": "stdout",
          "text": [
            "NeuralNetwork(\n",
            "  (flatten): Flatten(start_dim=1, end_dim=-1)\n",
            "  (linear_relu_stack): Sequential(\n",
            "    (0): Linear(in_features=784, out_features=512, bias=True)\n",
            "    (1): ReLU()\n",
            "    (2): Linear(in_features=512, out_features=512, bias=True)\n",
            "    (3): ReLU()\n",
            "    (4): Linear(in_features=512, out_features=10, bias=True)\n",
            "    (5): ReLU()\n",
            "  )\n",
            ")\n"
          ]
        }
      ],
      "metadata": {
        "id": "f2PI7C5k_KKe"
      }
    },
    {
      "cell_type": "markdown",
      "source": [
        "## 예측하기"
      ],
      "metadata": {
        "id": "RGwEgBOHHAb7"
      }
    },
    {
      "cell_type": "code",
      "execution_count": 4,
      "source": [
        "X = torch.rand(1, 28, 28, device=device)\r\n",
        "logits = model(X)\r\n",
        "\r\n",
        "pred_probab = nn.Softmax(dim=1)(logits)\r\n",
        "y_pred = pred_probab.argmax(1)\r\n",
        "print(f\"Predicted class: {y_pred}\")"
      ],
      "outputs": [
        {
          "output_type": "stream",
          "name": "stdout",
          "text": [
            "Predicted class: tensor([9])\n"
          ]
        }
      ],
      "metadata": {
        "id": "JbJtzsWN_J94"
      }
    },
    {
      "cell_type": "markdown",
      "source": [
        "## 모델 시각화 하기"
      ],
      "metadata": {
        "id": "xVtJ4oxBHCze"
      }
    },
    {
      "cell_type": "code",
      "execution_count": 5,
      "source": [
        "make_dot(model(X), params=dict(list(model.named_parameters())))"
      ],
      "outputs": [
        {
          "output_type": "execute_result",
          "data": {
            "image/svg+xml": "<?xml version=\"1.0\" encoding=\"UTF-8\" standalone=\"no\"?>\r\n<!DOCTYPE svg PUBLIC \"-//W3C//DTD SVG 1.1//EN\"\r\n \"http://www.w3.org/Graphics/SVG/1.1/DTD/svg11.dtd\">\r\n<!-- Generated by graphviz version 2.38.0 (20140413.2041)\r\n -->\r\n<!-- Title: %3 Pages: 1 -->\r\n<svg width=\"562pt\" height=\"600pt\"\r\n viewBox=\"0.00 0.00 562.00 600.00\" xmlns=\"http://www.w3.org/2000/svg\" xmlns:xlink=\"http://www.w3.org/1999/xlink\">\r\n<g id=\"graph0\" class=\"graph\" transform=\"scale(1 1) rotate(0) translate(4 596)\">\r\n<title>%3</title>\r\n<polygon fill=\"white\" stroke=\"none\" points=\"-4,4 -4,-596 558,-596 558,4 -4,4\"/>\r\n<!-- 2869992239168 -->\r\n<g id=\"node1\" class=\"node\"><title>2869992239168</title>\r\n<polygon fill=\"#caff70\" stroke=\"black\" points=\"290,-31 225,-31 225,-0 290,-0 290,-31\"/>\r\n<text text-anchor=\"middle\" x=\"257.5\" y=\"-7\" font-family=\"monospace\" font-size=\"10.00\"> (1, 10)</text>\r\n</g>\r\n<!-- 2869992218736 -->\r\n<g id=\"node2\" class=\"node\"><title>2869992218736</title>\r\n<polygon fill=\"lightgrey\" stroke=\"black\" points=\"305,-86 210,-86 210,-67 305,-67 305,-86\"/>\r\n<text text-anchor=\"middle\" x=\"257.5\" y=\"-74\" font-family=\"monospace\" font-size=\"10.00\">ReluBackward0</text>\r\n</g>\r\n<!-- 2869992218736&#45;&gt;2869992239168 -->\r\n<g id=\"edge21\" class=\"edge\"><title>2869992218736&#45;&gt;2869992239168</title>\r\n<path fill=\"none\" stroke=\"black\" d=\"M257.5,-66.7943C257.5,-60.0669 257.5,-50.404 257.5,-41.3425\"/>\r\n<polygon fill=\"black\" stroke=\"black\" points=\"261,-41.1932 257.5,-31.1933 254,-41.1933 261,-41.1932\"/>\r\n</g>\r\n<!-- 2869992218688 -->\r\n<g id=\"node3\" class=\"node\"><title>2869992218688</title>\r\n<polygon fill=\"lightgrey\" stroke=\"black\" points=\"305,-141 210,-141 210,-122 305,-122 305,-141\"/>\r\n<text text-anchor=\"middle\" x=\"257.5\" y=\"-129\" font-family=\"monospace\" font-size=\"10.00\">AddmmBackward</text>\r\n</g>\r\n<!-- 2869992218688&#45;&gt;2869992218736 -->\r\n<g id=\"edge1\" class=\"edge\"><title>2869992218688&#45;&gt;2869992218736</title>\r\n<path fill=\"none\" stroke=\"black\" d=\"M257.5,-121.748C257.5,-114.802 257.5,-104.845 257.5,-96.1349\"/>\r\n<polygon fill=\"black\" stroke=\"black\" points=\"261,-96.089 257.5,-86.089 254,-96.0891 261,-96.089\"/>\r\n</g>\r\n<!-- 2869992220656 -->\r\n<g id=\"node4\" class=\"node\"><title>2869992220656</title>\r\n<polygon fill=\"lightgrey\" stroke=\"black\" points=\"177,-196 76,-196 76,-177 177,-177 177,-196\"/>\r\n<text text-anchor=\"middle\" x=\"126.5\" y=\"-184\" font-family=\"monospace\" font-size=\"10.00\">AccumulateGrad</text>\r\n</g>\r\n<!-- 2869992220656&#45;&gt;2869992218688 -->\r\n<g id=\"edge2\" class=\"edge\"><title>2869992220656&#45;&gt;2869992218688</title>\r\n<path fill=\"none\" stroke=\"black\" d=\"M147.547,-176.985C168.906,-168.343 202.205,-154.871 226.565,-145.016\"/>\r\n<polygon fill=\"black\" stroke=\"black\" points=\"228.112,-148.165 236.07,-141.17 225.487,-141.676 228.112,-148.165\"/>\r\n</g>\r\n<!-- 2869992212608 -->\r\n<g id=\"node5\" class=\"node\"><title>2869992212608</title>\r\n<polygon fill=\"lightblue\" stroke=\"black\" points=\"192,-262 31,-262 31,-232 192,-232 192,-262\"/>\r\n<text text-anchor=\"middle\" x=\"111.5\" y=\"-250\" font-family=\"monospace\" font-size=\"10.00\">linear_relu_stack.4.bias</text>\r\n<text text-anchor=\"middle\" x=\"111.5\" y=\"-239\" font-family=\"monospace\" font-size=\"10.00\"> (10)</text>\r\n</g>\r\n<!-- 2869992212608&#45;&gt;2869992220656 -->\r\n<g id=\"edge3\" class=\"edge\"><title>2869992212608&#45;&gt;2869992220656</title>\r\n<path fill=\"none\" stroke=\"black\" d=\"M115.131,-231.839C117.108,-224.127 119.58,-214.488 121.713,-206.169\"/>\r\n<polygon fill=\"black\" stroke=\"black\" points=\"125.159,-206.822 124.252,-196.266 118.378,-205.083 125.159,-206.822\"/>\r\n</g>\r\n<!-- 2869992219120 -->\r\n<g id=\"node6\" class=\"node\"><title>2869992219120</title>\r\n<polygon fill=\"lightgrey\" stroke=\"black\" points=\"305,-196 210,-196 210,-177 305,-177 305,-196\"/>\r\n<text text-anchor=\"middle\" x=\"257.5\" y=\"-184\" font-family=\"monospace\" font-size=\"10.00\">ReluBackward0</text>\r\n</g>\r\n<!-- 2869992219120&#45;&gt;2869992218688 -->\r\n<g id=\"edge4\" class=\"edge\"><title>2869992219120&#45;&gt;2869992218688</title>\r\n<path fill=\"none\" stroke=\"black\" d=\"M257.5,-176.748C257.5,-169.802 257.5,-159.845 257.5,-151.135\"/>\r\n<polygon fill=\"black\" stroke=\"black\" points=\"261,-151.089 257.5,-141.089 254,-151.089 261,-151.089\"/>\r\n</g>\r\n<!-- 2869992218880 -->\r\n<g id=\"node7\" class=\"node\"><title>2869992218880</title>\r\n<polygon fill=\"lightgrey\" stroke=\"black\" points=\"305,-256.5 210,-256.5 210,-237.5 305,-237.5 305,-256.5\"/>\r\n<text text-anchor=\"middle\" x=\"257.5\" y=\"-244.5\" font-family=\"monospace\" font-size=\"10.00\">AddmmBackward</text>\r\n</g>\r\n<!-- 2869992218880&#45;&gt;2869992219120 -->\r\n<g id=\"edge5\" class=\"edge\"><title>2869992218880&#45;&gt;2869992219120</title>\r\n<path fill=\"none\" stroke=\"black\" d=\"M257.5,-237.368C257.5,-229.246 257.5,-216.807 257.5,-206.385\"/>\r\n<polygon fill=\"black\" stroke=\"black\" points=\"261,-206.167 257.5,-196.167 254,-206.167 261,-206.167\"/>\r\n</g>\r\n<!-- 2869992219552 -->\r\n<g id=\"node8\" class=\"node\"><title>2869992219552</title>\r\n<polygon fill=\"lightgrey\" stroke=\"black\" points=\"146,-322.5 45,-322.5 45,-303.5 146,-303.5 146,-322.5\"/>\r\n<text text-anchor=\"middle\" x=\"95.5\" y=\"-310.5\" font-family=\"monospace\" font-size=\"10.00\">AccumulateGrad</text>\r\n</g>\r\n<!-- 2869992219552&#45;&gt;2869992218880 -->\r\n<g id=\"edge6\" class=\"edge\"><title>2869992219552&#45;&gt;2869992218880</title>\r\n<path fill=\"none\" stroke=\"black\" d=\"M117.348,-303.369C145.446,-292.268 194.426,-272.918 226.404,-260.285\"/>\r\n<polygon fill=\"black\" stroke=\"black\" points=\"227.726,-263.526 235.74,-256.597 225.153,-257.016 227.726,-263.526\"/>\r\n</g>\r\n<!-- 2869992212416 -->\r\n<g id=\"node9\" class=\"node\"><title>2869992212416</title>\r\n<polygon fill=\"lightblue\" stroke=\"black\" points=\"161,-394 0,-394 0,-364 161,-364 161,-394\"/>\r\n<text text-anchor=\"middle\" x=\"80.5\" y=\"-382\" font-family=\"monospace\" font-size=\"10.00\">linear_relu_stack.2.bias</text>\r\n<text text-anchor=\"middle\" x=\"80.5\" y=\"-371\" font-family=\"monospace\" font-size=\"10.00\"> (512)</text>\r\n</g>\r\n<!-- 2869992212416&#45;&gt;2869992219552 -->\r\n<g id=\"edge7\" class=\"edge\"><title>2869992212416&#45;&gt;2869992219552</title>\r\n<path fill=\"none\" stroke=\"black\" d=\"M83.829,-363.796C85.9611,-354.699 88.7527,-342.788 91.0711,-332.897\"/>\r\n<polygon fill=\"black\" stroke=\"black\" points=\"94.5528,-333.379 93.4271,-322.844 87.7375,-331.782 94.5528,-333.379\"/>\r\n</g>\r\n<!-- 2869992219504 -->\r\n<g id=\"node10\" class=\"node\"><title>2869992219504</title>\r\n<polygon fill=\"lightgrey\" stroke=\"black\" points=\"274,-322.5 179,-322.5 179,-303.5 274,-303.5 274,-322.5\"/>\r\n<text text-anchor=\"middle\" x=\"226.5\" y=\"-310.5\" font-family=\"monospace\" font-size=\"10.00\">ReluBackward0</text>\r\n</g>\r\n<!-- 2869992219504&#45;&gt;2869992218880 -->\r\n<g id=\"edge8\" class=\"edge\"><title>2869992219504&#45;&gt;2869992218880</title>\r\n<path fill=\"none\" stroke=\"black\" d=\"M230.681,-303.369C235.277,-293.879 242.794,-278.361 248.702,-266.164\"/>\r\n<polygon fill=\"black\" stroke=\"black\" points=\"251.977,-267.431 253.187,-256.905 245.677,-264.379 251.977,-267.431\"/>\r\n</g>\r\n<!-- 2869992219936 -->\r\n<g id=\"node11\" class=\"node\"><title>2869992219936</title>\r\n<polygon fill=\"lightgrey\" stroke=\"black\" points=\"274,-388.5 179,-388.5 179,-369.5 274,-369.5 274,-388.5\"/>\r\n<text text-anchor=\"middle\" x=\"226.5\" y=\"-376.5\" font-family=\"monospace\" font-size=\"10.00\">AddmmBackward</text>\r\n</g>\r\n<!-- 2869992219936&#45;&gt;2869992219504 -->\r\n<g id=\"edge9\" class=\"edge\"><title>2869992219936&#45;&gt;2869992219504</title>\r\n<path fill=\"none\" stroke=\"black\" d=\"M226.5,-369.369C226.5,-360.164 226.5,-345.287 226.5,-333.271\"/>\r\n<polygon fill=\"black\" stroke=\"black\" points=\"230,-332.905 226.5,-322.905 223,-332.905 230,-332.905\"/>\r\n</g>\r\n<!-- 2869992219696 -->\r\n<g id=\"node12\" class=\"node\"><title>2869992219696</title>\r\n<polygon fill=\"lightgrey\" stroke=\"black\" points=\"151,-454.5 50,-454.5 50,-435.5 151,-435.5 151,-454.5\"/>\r\n<text text-anchor=\"middle\" x=\"100.5\" y=\"-442.5\" font-family=\"monospace\" font-size=\"10.00\">AccumulateGrad</text>\r\n</g>\r\n<!-- 2869992219696&#45;&gt;2869992219936 -->\r\n<g id=\"edge10\" class=\"edge\"><title>2869992219696&#45;&gt;2869992219936</title>\r\n<path fill=\"none\" stroke=\"black\" d=\"M117.493,-435.369C138.723,-424.585 175.278,-406.017 200.15,-393.384\"/>\r\n<polygon fill=\"black\" stroke=\"black\" points=\"202.043,-396.348 209.374,-388.699 198.873,-390.107 202.043,-396.348\"/>\r\n</g>\r\n<!-- 2869992212288 -->\r\n<g id=\"node13\" class=\"node\"><title>2869992212288</title>\r\n<polygon fill=\"lightblue\" stroke=\"black\" points=\"170,-526 9,-526 9,-496 170,-496 170,-526\"/>\r\n<text text-anchor=\"middle\" x=\"89.5\" y=\"-514\" font-family=\"monospace\" font-size=\"10.00\">linear_relu_stack.0.bias</text>\r\n<text text-anchor=\"middle\" x=\"89.5\" y=\"-503\" font-family=\"monospace\" font-size=\"10.00\"> (512)</text>\r\n</g>\r\n<!-- 2869992212288&#45;&gt;2869992219696 -->\r\n<g id=\"edge11\" class=\"edge\"><title>2869992212288&#45;&gt;2869992219696</title>\r\n<path fill=\"none\" stroke=\"black\" d=\"M91.9413,-495.796C93.5048,-486.699 95.552,-474.788 97.2521,-464.897\"/>\r\n<polygon fill=\"black\" stroke=\"black\" points=\"100.735,-465.293 98.9799,-454.844 93.8365,-464.107 100.735,-465.293\"/>\r\n</g>\r\n<!-- 2869992219840 -->\r\n<g id=\"node14\" class=\"node\"><title>2869992219840</title>\r\n<polygon fill=\"lightgrey\" stroke=\"black\" points=\"262,-454.5 191,-454.5 191,-435.5 262,-435.5 262,-454.5\"/>\r\n<text text-anchor=\"middle\" x=\"226.5\" y=\"-442.5\" font-family=\"monospace\" font-size=\"10.00\">TBackward</text>\r\n</g>\r\n<!-- 2869992219840&#45;&gt;2869992219936 -->\r\n<g id=\"edge12\" class=\"edge\"><title>2869992219840&#45;&gt;2869992219936</title>\r\n<path fill=\"none\" stroke=\"black\" d=\"M226.5,-435.369C226.5,-426.164 226.5,-411.287 226.5,-399.271\"/>\r\n<polygon fill=\"black\" stroke=\"black\" points=\"230,-398.905 226.5,-388.905 223,-398.905 230,-398.905\"/>\r\n</g>\r\n<!-- 2869992219888 -->\r\n<g id=\"node15\" class=\"node\"><title>2869992219888</title>\r\n<polygon fill=\"lightgrey\" stroke=\"black\" points=\"289,-520.5 188,-520.5 188,-501.5 289,-501.5 289,-520.5\"/>\r\n<text text-anchor=\"middle\" x=\"238.5\" y=\"-508.5\" font-family=\"monospace\" font-size=\"10.00\">AccumulateGrad</text>\r\n</g>\r\n<!-- 2869992219888&#45;&gt;2869992219840 -->\r\n<g id=\"edge13\" class=\"edge\"><title>2869992219888&#45;&gt;2869992219840</title>\r\n<path fill=\"none\" stroke=\"black\" d=\"M236.882,-501.369C235.138,-492.069 232.309,-476.979 230.044,-464.9\"/>\r\n<polygon fill=\"black\" stroke=\"black\" points=\"233.453,-464.089 228.17,-454.905 226.573,-465.379 233.453,-464.089\"/>\r\n</g>\r\n<!-- 2869992212160 -->\r\n<g id=\"node16\" class=\"node\"><title>2869992212160</title>\r\n<polygon fill=\"lightblue\" stroke=\"black\" points=\"325,-592 152,-592 152,-562 325,-562 325,-592\"/>\r\n<text text-anchor=\"middle\" x=\"238.5\" y=\"-580\" font-family=\"monospace\" font-size=\"10.00\">linear_relu_stack.0.weight</text>\r\n<text text-anchor=\"middle\" x=\"238.5\" y=\"-569\" font-family=\"monospace\" font-size=\"10.00\"> (512, 784)</text>\r\n</g>\r\n<!-- 2869992212160&#45;&gt;2869992219888 -->\r\n<g id=\"edge14\" class=\"edge\"><title>2869992212160&#45;&gt;2869992219888</title>\r\n<path fill=\"none\" stroke=\"black\" d=\"M238.5,-561.796C238.5,-552.699 238.5,-540.788 238.5,-530.897\"/>\r\n<polygon fill=\"black\" stroke=\"black\" points=\"242,-530.844 238.5,-520.844 235,-530.844 242,-530.844\"/>\r\n</g>\r\n<!-- 2869992219456 -->\r\n<g id=\"node17\" class=\"node\"><title>2869992219456</title>\r\n<polygon fill=\"lightgrey\" stroke=\"black\" points=\"363,-322.5 292,-322.5 292,-303.5 363,-303.5 363,-322.5\"/>\r\n<text text-anchor=\"middle\" x=\"327.5\" y=\"-310.5\" font-family=\"monospace\" font-size=\"10.00\">TBackward</text>\r\n</g>\r\n<!-- 2869992219456&#45;&gt;2869992218880 -->\r\n<g id=\"edge15\" class=\"edge\"><title>2869992219456&#45;&gt;2869992218880</title>\r\n<path fill=\"none\" stroke=\"black\" d=\"M318.059,-303.369C306.954,-293.215 288.299,-276.159 274.623,-263.655\"/>\r\n<polygon fill=\"black\" stroke=\"black\" points=\"276.982,-261.07 267.24,-256.905 272.259,-266.236 276.982,-261.07\"/>\r\n</g>\r\n<!-- 2869992218784 -->\r\n<g id=\"node18\" class=\"node\"><title>2869992218784</title>\r\n<polygon fill=\"lightgrey\" stroke=\"black\" points=\"405,-388.5 304,-388.5 304,-369.5 405,-369.5 405,-388.5\"/>\r\n<text text-anchor=\"middle\" x=\"354.5\" y=\"-376.5\" font-family=\"monospace\" font-size=\"10.00\">AccumulateGrad</text>\r\n</g>\r\n<!-- 2869992218784&#45;&gt;2869992219456 -->\r\n<g id=\"edge16\" class=\"edge\"><title>2869992218784&#45;&gt;2869992219456</title>\r\n<path fill=\"none\" stroke=\"black\" d=\"M350.859,-369.369C346.855,-359.879 340.309,-344.361 335.163,-332.164\"/>\r\n<polygon fill=\"black\" stroke=\"black\" points=\"338.369,-330.758 331.257,-322.905 331.919,-333.479 338.369,-330.758\"/>\r\n</g>\r\n<!-- 2869992211904 -->\r\n<g id=\"node19\" class=\"node\"><title>2869992211904</title>\r\n<polygon fill=\"lightblue\" stroke=\"black\" points=\"453,-460 280,-460 280,-430 453,-430 453,-460\"/>\r\n<text text-anchor=\"middle\" x=\"366.5\" y=\"-448\" font-family=\"monospace\" font-size=\"10.00\">linear_relu_stack.2.weight</text>\r\n<text text-anchor=\"middle\" x=\"366.5\" y=\"-437\" font-family=\"monospace\" font-size=\"10.00\"> (512, 512)</text>\r\n</g>\r\n<!-- 2869992211904&#45;&gt;2869992218784 -->\r\n<g id=\"edge17\" class=\"edge\"><title>2869992211904&#45;&gt;2869992218784</title>\r\n<path fill=\"none\" stroke=\"black\" d=\"M363.837,-429.796C362.131,-420.699 359.898,-408.788 358.043,-398.897\"/>\r\n<polygon fill=\"black\" stroke=\"black\" points=\"361.441,-398.028 356.158,-388.844 354.561,-399.318 361.441,-398.028\"/>\r\n</g>\r\n<!-- 2869992219072 -->\r\n<g id=\"node20\" class=\"node\"><title>2869992219072</title>\r\n<polygon fill=\"lightgrey\" stroke=\"black\" points=\"432,-196 361,-196 361,-177 432,-177 432,-196\"/>\r\n<text text-anchor=\"middle\" x=\"396.5\" y=\"-184\" font-family=\"monospace\" font-size=\"10.00\">TBackward</text>\r\n</g>\r\n<!-- 2869992219072&#45;&gt;2869992218688 -->\r\n<g id=\"edge18\" class=\"edge\"><title>2869992219072&#45;&gt;2869992218688</title>\r\n<path fill=\"none\" stroke=\"black\" d=\"M374.167,-176.985C351.303,-168.267 315.543,-154.631 289.638,-144.754\"/>\r\n<polygon fill=\"black\" stroke=\"black\" points=\"290.83,-141.463 280.239,-141.17 288.336,-148.003 290.83,-141.463\"/>\r\n</g>\r\n<!-- 2869992219792 -->\r\n<g id=\"node21\" class=\"node\"><title>2869992219792</title>\r\n<polygon fill=\"lightgrey\" stroke=\"black\" points=\"486,-256.5 385,-256.5 385,-237.5 486,-237.5 486,-256.5\"/>\r\n<text text-anchor=\"middle\" x=\"435.5\" y=\"-244.5\" font-family=\"monospace\" font-size=\"10.00\">AccumulateGrad</text>\r\n</g>\r\n<!-- 2869992219792&#45;&gt;2869992219072 -->\r\n<g id=\"edge19\" class=\"edge\"><title>2869992219792&#45;&gt;2869992219072</title>\r\n<path fill=\"none\" stroke=\"black\" d=\"M429.745,-237.368C424.042,-228.814 415.148,-215.472 407.994,-204.74\"/>\r\n<polygon fill=\"black\" stroke=\"black\" points=\"410.737,-202.546 402.278,-196.167 404.913,-206.429 410.737,-202.546\"/>\r\n</g>\r\n<!-- 2869992212480 -->\r\n<g id=\"node22\" class=\"node\"><title>2869992212480</title>\r\n<polygon fill=\"lightblue\" stroke=\"black\" points=\"554,-328 381,-328 381,-298 554,-298 554,-328\"/>\r\n<text text-anchor=\"middle\" x=\"467.5\" y=\"-316\" font-family=\"monospace\" font-size=\"10.00\">linear_relu_stack.4.weight</text>\r\n<text text-anchor=\"middle\" x=\"467.5\" y=\"-305\" font-family=\"monospace\" font-size=\"10.00\"> (10, 512)</text>\r\n</g>\r\n<!-- 2869992212480&#45;&gt;2869992219792 -->\r\n<g id=\"edge20\" class=\"edge\"><title>2869992212480&#45;&gt;2869992219792</title>\r\n<path fill=\"none\" stroke=\"black\" d=\"M460.398,-297.796C455.703,-288.406 449.508,-276.017 444.473,-265.946\"/>\r\n<polygon fill=\"black\" stroke=\"black\" points=\"447.525,-264.223 439.922,-256.844 441.264,-267.354 447.525,-264.223\"/>\r\n</g>\r\n</g>\r\n</svg>\r\n",
            "text/plain": [
              "<graphviz.dot.Digraph at 0x29c38dde160>"
            ]
          },
          "metadata": {},
          "execution_count": 5
        }
      ],
      "metadata": {
        "id": "QDiFX74W_Jj_"
      }
    },
    {
      "cell_type": "code",
      "execution_count": 6,
      "source": [
        "summary(model, (1, 28, 28))"
      ],
      "outputs": [
        {
          "output_type": "stream",
          "name": "stdout",
          "text": [
            "----------------------------------------------------------------\n",
            "        Layer (type)               Output Shape         Param #\n",
            "================================================================\n",
            "           Flatten-1                  [-1, 784]               0\n",
            "            Linear-2                  [-1, 512]         401,920\n",
            "              ReLU-3                  [-1, 512]               0\n",
            "            Linear-4                  [-1, 512]         262,656\n",
            "              ReLU-5                  [-1, 512]               0\n",
            "            Linear-6                   [-1, 10]           5,130\n",
            "              ReLU-7                   [-1, 10]               0\n",
            "================================================================\n",
            "Total params: 669,706\n",
            "Trainable params: 669,706\n",
            "Non-trainable params: 0\n",
            "----------------------------------------------------------------\n",
            "Input size (MB): 0.00\n",
            "Forward/backward pass size (MB): 0.02\n",
            "Params size (MB): 2.55\n",
            "Estimated Total Size (MB): 2.58\n",
            "----------------------------------------------------------------\n"
          ]
        }
      ],
      "metadata": {
        "id": "hafODi4yALiC"
      }
    },
    {
      "cell_type": "markdown",
      "source": [
        "### 모델 계층 (Layer)"
      ],
      "metadata": {
        "id": "aoNeYfpaF7lu"
      }
    },
    {
      "cell_type": "markdown",
      "source": [
        "모델 계층을 시각화하면 위와 비슷한 양상을 보입니다."
      ],
      "metadata": {
        "id": "Pb77wZONHGSy"
      }
    },
    {
      "cell_type": "code",
      "execution_count": 7,
      "source": [
        "input_image = torch.rand(3,28,28)\r\n",
        "print(input_image.size())"
      ],
      "outputs": [
        {
          "output_type": "stream",
          "name": "stdout",
          "text": [
            "torch.Size([3, 28, 28])\n"
          ]
        }
      ],
      "metadata": {
        "id": "W9CDo-y5F986"
      }
    },
    {
      "cell_type": "code",
      "execution_count": 8,
      "source": [
        "flatten = nn.Flatten()\r\n",
        "flat_image = flatten(input_image)\r\n",
        "print(flat_image.size())"
      ],
      "outputs": [
        {
          "output_type": "stream",
          "name": "stdout",
          "text": [
            "torch.Size([3, 784])\n"
          ]
        }
      ],
      "metadata": {
        "id": "6bbxKfEJF_ny"
      }
    },
    {
      "cell_type": "code",
      "execution_count": 9,
      "source": [
        "layer1 = nn.Linear(in_features=28*28, out_features=20)\r\n",
        "hidden1 = layer1(flat_image)\r\n",
        "print(hidden1.size())"
      ],
      "outputs": [
        {
          "output_type": "stream",
          "name": "stdout",
          "text": [
            "torch.Size([3, 20])\n"
          ]
        }
      ],
      "metadata": {
        "id": "-dyxjVeIGCHW"
      }
    },
    {
      "cell_type": "code",
      "execution_count": 10,
      "source": [
        "print(f\"Before ReLU: {hidden1}\\n\\n\")\r\n",
        "hidden1 = nn.ReLU()(hidden1)\r\n",
        "print(f\"After ReLU: {hidden1}\")"
      ],
      "outputs": [
        {
          "output_type": "stream",
          "name": "stdout",
          "text": [
            "Before ReLU: tensor([[ 0.1101, -0.0700, -0.4326, -0.2243, -0.0071, -0.1594, -0.1028,  0.1246,\n",
            "          0.3051, -0.2566,  0.2137, -0.5298,  0.3714,  0.3406,  0.3178, -0.0621,\n",
            "         -0.0897,  0.0969, -0.5715, -0.0043],\n",
            "        [ 0.1776,  0.2296, -0.2408, -0.0764,  0.1124, -0.0159,  0.0540, -0.2374,\n",
            "          0.2966, -0.3143,  0.1269, -0.2298,  0.1643, -0.2227,  0.2849,  0.2178,\n",
            "         -0.5390, -0.3423, -0.1857,  0.1348],\n",
            "        [ 0.1972,  0.0058, -0.0146, -0.0507, -0.5078,  0.5121, -0.0614, -0.2828,\n",
            "          0.3642, -0.3150,  0.2033, -0.4041,  0.0904, -0.1624,  0.6379,  0.0060,\n",
            "         -0.1300, -0.4090, -0.2239, -0.3424]], grad_fn=<AddmmBackward>)\n",
            "\n",
            "\n",
            "After ReLU: tensor([[0.1101, 0.0000, 0.0000, 0.0000, 0.0000, 0.0000, 0.0000, 0.1246, 0.3051,\n",
            "         0.0000, 0.2137, 0.0000, 0.3714, 0.3406, 0.3178, 0.0000, 0.0000, 0.0969,\n",
            "         0.0000, 0.0000],\n",
            "        [0.1776, 0.2296, 0.0000, 0.0000, 0.1124, 0.0000, 0.0540, 0.0000, 0.2966,\n",
            "         0.0000, 0.1269, 0.0000, 0.1643, 0.0000, 0.2849, 0.2178, 0.0000, 0.0000,\n",
            "         0.0000, 0.1348],\n",
            "        [0.1972, 0.0058, 0.0000, 0.0000, 0.0000, 0.5121, 0.0000, 0.0000, 0.3642,\n",
            "         0.0000, 0.2033, 0.0000, 0.0904, 0.0000, 0.6379, 0.0060, 0.0000, 0.0000,\n",
            "         0.0000, 0.0000]], grad_fn=<ReluBackward0>)\n"
          ]
        }
      ],
      "metadata": {
        "id": "w0kn84TfGDt9"
      }
    },
    {
      "cell_type": "markdown",
      "source": [
        "## 실습 내용 (CNN)"
      ],
      "metadata": {
        "id": "-gTWk4rQAkMj"
      }
    },
    {
      "cell_type": "markdown",
      "source": [
        "### 정답지"
      ],
      "metadata": {
        "id": "b_APCHQqJJyc"
      }
    },
    {
      "cell_type": "code",
      "execution_count": 11,
      "source": [
        "class Net(nn.Module):\r\n",
        "    ###############################\r\n",
        "    #   밑줄 친 곳을 채워주세요!  #\r\n",
        "    # 모델을 시각화한 그래프 참고 #\r\n",
        "    ###############################\r\n",
        "\r\n",
        "    def __init__(self):\r\n",
        "        super(Net, self).__init__()\r\n",
        "        # 입력 이미지 채널 1개, 출력 채널 32개, 커널 3x3, stride 1, padding= 1의 Conv layer\r\n",
        "        self.conv1 = nn.Conv2d(in_channels=1, out_channels=32, kernel_size=3, stride=1, padding=1)\r\n",
        "        # 입력 이미지 채널 32개, 출력 채널 64개, 커널 3x3, stride 1, padding= 1의 Conv layer\r\n",
        "        self.conv2 = nn.Conv2d(32, 64, 3, 1, 1)\r\n",
        "        # 7*7은 이미지 차원에 해당\r\n",
        "        self.fc1 = nn.Linear(64 * 7 * 7, 120, bias=True) \r\n",
        "        self.fc2 = nn.Linear(120, 84)\r\n",
        "        self.fc3 = nn.Linear(84, 10)\r\n",
        "\r\n",
        "    def forward(self, x):\r\n",
        "        # (2, 2) 크기 윈도우에 대해 맥스 풀링(max pooling)\r\n",
        "        x = F.relu(self.conv1(x))\r\n",
        "        x = F.max_pool2d(x, kernel_size=2, stride=2)\r\n",
        "        x = F.relu(self.conv2(x))\r\n",
        "        x = F.max_pool2d(x, 2, 2)\r\n",
        "        x = torch.flatten(x, 1) \r\n",
        "        x = F.relu(self.fc1(x))\r\n",
        "        x = F.relu(self.fc2(x))\r\n",
        "        x = self.fc3(x)\r\n",
        "        return x\r\n",
        "\r\n",
        "net = Net()\r\n",
        "print(net)"
      ],
      "outputs": [
        {
          "output_type": "stream",
          "name": "stdout",
          "text": [
            "Net(\n",
            "  (conv1): Conv2d(1, 32, kernel_size=(3, 3), stride=(1, 1), padding=(1, 1))\n",
            "  (conv2): Conv2d(32, 64, kernel_size=(3, 3), stride=(1, 1), padding=(1, 1))\n",
            "  (fc1): Linear(in_features=3136, out_features=120, bias=True)\n",
            "  (fc2): Linear(in_features=120, out_features=84, bias=True)\n",
            "  (fc3): Linear(in_features=84, out_features=10, bias=True)\n",
            ")\n"
          ]
        }
      ],
      "metadata": {
        "id": "-JWHKXBzAfkX"
      }
    },
    {
      "cell_type": "markdown",
      "source": [
        "#### 깔끔한 방법"
      ],
      "metadata": {
        "id": "QHz8v5u1N7JZ"
      }
    },
    {
      "cell_type": "code",
      "execution_count": 12,
      "source": [
        "class Net2(nn.Module):\r\n",
        "    ###############################\r\n",
        "    #   밑줄 친 곳을 채워주세요!  #\r\n",
        "    # 모델을 시각화한 그래프 참고 #\r\n",
        "    ###############################\r\n",
        "\r\n",
        "    def __init__(self):\r\n",
        "        super(Net2, self).__init__()\r\n",
        "        self.layer1 = nn.Sequential(\r\n",
        "            nn.Conv2d(1, 32, 3, 1, 1),\r\n",
        "            nn.ReLU(),\r\n",
        "            nn.MaxPool2d(2, 2))\r\n",
        "        self.layer2 = nn.Sequential(\r\n",
        "            nn.Conv2d(32, 64, 3, 1, 1),\r\n",
        "            nn.ReLU(),\r\n",
        "            nn.MaxPool2d(2, 2))\r\n",
        "        self.layer3 = nn.Sequential(\r\n",
        "            nn.Linear(64 * 7 * 7, 120, bias=True),\r\n",
        "            nn.ReLU())\r\n",
        "        self.layer4 = nn.Sequential(\r\n",
        "            nn.Linear(120, 84),\r\n",
        "            nn.ReLU())\r\n",
        "        self.fc3 = nn.Linear(84, 10)\r\n",
        "\r\n",
        "    def forward(self, x):\r\n",
        "        x = self.layer1(x)\r\n",
        "        x = self.layer2(x)\r\n",
        "        x = torch.flatten(x, 1) \r\n",
        "        x = self.layer3(x)\r\n",
        "        x = self.layer4(x)\r\n",
        "        x = self.fc3(x)\r\n",
        "        return x\r\n",
        "\r\n",
        "net = Net2()\r\n",
        "print(net)"
      ],
      "outputs": [
        {
          "output_type": "stream",
          "name": "stdout",
          "text": [
            "Net2(\n",
            "  (layer1): Sequential(\n",
            "    (0): Conv2d(1, 32, kernel_size=(3, 3), stride=(1, 1), padding=(1, 1))\n",
            "    (1): ReLU()\n",
            "    (2): MaxPool2d(kernel_size=2, stride=2, padding=0, dilation=1, ceil_mode=False)\n",
            "  )\n",
            "  (layer2): Sequential(\n",
            "    (0): Conv2d(32, 64, kernel_size=(3, 3), stride=(1, 1), padding=(1, 1))\n",
            "    (1): ReLU()\n",
            "    (2): MaxPool2d(kernel_size=2, stride=2, padding=0, dilation=1, ceil_mode=False)\n",
            "  )\n",
            "  (layer3): Sequential(\n",
            "    (0): Linear(in_features=3136, out_features=120, bias=True)\n",
            "    (1): ReLU()\n",
            "  )\n",
            "  (layer4): Sequential(\n",
            "    (0): Linear(in_features=120, out_features=84, bias=True)\n",
            "    (1): ReLU()\n",
            "  )\n",
            "  (fc3): Linear(in_features=84, out_features=10, bias=True)\n",
            ")\n"
          ]
        }
      ],
      "metadata": {
        "id": "3IqTyBx4N9Gl"
      }
    },
    {
      "cell_type": "code",
      "execution_count": 13,
      "source": [
        "X = torch.rand(1, 1, 28, 28, device=device)\r\n",
        "make_dot(net(X), params=dict(list(net.named_parameters())))"
      ],
      "outputs": [
        {
          "output_type": "stream",
          "name": "stderr",
          "text": [
            "C:\\Users\\pebpung\\anaconda3\\envs\\torch\\lib\\site-packages\\torch\\nn\\functional.py:718: UserWarning: Named tensors and all their associated APIs are an experimental feature and subject to change. Please do not use them for anything important until they are released as stable. (Triggered internally at  ..\\c10/core/TensorImpl.h:1156.)\n",
            "  return torch.max_pool2d(input, kernel_size, stride, padding, dilation, ceil_mode)\n"
          ]
        },
        {
          "output_type": "execute_result",
          "data": {
            "image/svg+xml": "<?xml version=\"1.0\" encoding=\"UTF-8\" standalone=\"no\"?>\r\n<!DOCTYPE svg PUBLIC \"-//W3C//DTD SVG 1.1//EN\"\r\n \"http://www.w3.org/Graphics/SVG/1.1/DTD/svg11.dtd\">\r\n<!-- Generated by graphviz version 2.38.0 (20140413.2041)\r\n -->\r\n<!-- Title: %3 Pages: 1 -->\r\n<svg width=\"520pt\" height=\"864pt\"\r\n viewBox=\"0.00 0.00 520.13 864.00\" xmlns=\"http://www.w3.org/2000/svg\" xmlns:xlink=\"http://www.w3.org/1999/xlink\">\r\n<g id=\"graph0\" class=\"graph\" transform=\"scale(0.963211 0.963211) rotate(0) translate(4 893)\">\r\n<title>%3</title>\r\n<polygon fill=\"white\" stroke=\"none\" points=\"-4,4 -4,-893 536,-893 536,4 -4,4\"/>\r\n<!-- 2869979340416 -->\r\n<g id=\"node1\" class=\"node\"><title>2869979340416</title>\r\n<polygon fill=\"#caff70\" stroke=\"black\" points=\"366,-31 301,-31 301,-0 366,-0 366,-31\"/>\r\n<text text-anchor=\"middle\" x=\"333.5\" y=\"-7\" font-family=\"monospace\" font-size=\"10.00\"> (1, 10)</text>\r\n</g>\r\n<!-- 2869992219120 -->\r\n<g id=\"node2\" class=\"node\"><title>2869992219120</title>\r\n<polygon fill=\"lightgrey\" stroke=\"black\" points=\"381,-86 286,-86 286,-67 381,-67 381,-86\"/>\r\n<text text-anchor=\"middle\" x=\"333.5\" y=\"-74\" font-family=\"monospace\" font-size=\"10.00\">AddmmBackward</text>\r\n</g>\r\n<!-- 2869992219120&#45;&gt;2869979340416 -->\r\n<g id=\"edge35\" class=\"edge\"><title>2869992219120&#45;&gt;2869979340416</title>\r\n<path fill=\"none\" stroke=\"black\" d=\"M333.5,-66.7943C333.5,-60.0669 333.5,-50.404 333.5,-41.3425\"/>\r\n<polygon fill=\"black\" stroke=\"black\" points=\"337,-41.1932 333.5,-31.1933 330,-41.1933 337,-41.1932\"/>\r\n</g>\r\n<!-- 2869992220752 -->\r\n<g id=\"node3\" class=\"node\"><title>2869992220752</title>\r\n<polygon fill=\"lightgrey\" stroke=\"black\" points=\"268,-141 167,-141 167,-122 268,-122 268,-141\"/>\r\n<text text-anchor=\"middle\" x=\"217.5\" y=\"-129\" font-family=\"monospace\" font-size=\"10.00\">AccumulateGrad</text>\r\n</g>\r\n<!-- 2869992220752&#45;&gt;2869992219120 -->\r\n<g id=\"edge1\" class=\"edge\"><title>2869992220752&#45;&gt;2869992219120</title>\r\n<path fill=\"none\" stroke=\"black\" d=\"M236.137,-121.985C254.798,-113.459 283.752,-100.23 305.24,-90.412\"/>\r\n<polygon fill=\"black\" stroke=\"black\" points=\"306.882,-93.5096 314.523,-86.1703 303.973,-87.1426 306.882,-93.5096\"/>\r\n</g>\r\n<!-- 2869996756032 -->\r\n<g id=\"node4\" class=\"node\"><title>2869996756032</title>\r\n<polygon fill=\"lightblue\" stroke=\"black\" points=\"250,-207 185,-207 185,-177 250,-177 250,-207\"/>\r\n<text text-anchor=\"middle\" x=\"217.5\" y=\"-195\" font-family=\"monospace\" font-size=\"10.00\">fc3.bias</text>\r\n<text text-anchor=\"middle\" x=\"217.5\" y=\"-184\" font-family=\"monospace\" font-size=\"10.00\"> (10)</text>\r\n</g>\r\n<!-- 2869996756032&#45;&gt;2869992220752 -->\r\n<g id=\"edge2\" class=\"edge\"><title>2869996756032&#45;&gt;2869992220752</title>\r\n<path fill=\"none\" stroke=\"black\" d=\"M217.5,-176.839C217.5,-169.214 217.5,-159.704 217.5,-151.45\"/>\r\n<polygon fill=\"black\" stroke=\"black\" points=\"221,-151.266 217.5,-141.266 214,-151.266 221,-151.266\"/>\r\n</g>\r\n<!-- 2869992220704 -->\r\n<g id=\"node5\" class=\"node\"><title>2869992220704</title>\r\n<polygon fill=\"lightgrey\" stroke=\"black\" points=\"381,-141 286,-141 286,-122 381,-122 381,-141\"/>\r\n<text text-anchor=\"middle\" x=\"333.5\" y=\"-129\" font-family=\"monospace\" font-size=\"10.00\">ReluBackward0</text>\r\n</g>\r\n<!-- 2869992220704&#45;&gt;2869992219120 -->\r\n<g id=\"edge3\" class=\"edge\"><title>2869992220704&#45;&gt;2869992219120</title>\r\n<path fill=\"none\" stroke=\"black\" d=\"M333.5,-121.748C333.5,-114.802 333.5,-104.845 333.5,-96.1349\"/>\r\n<polygon fill=\"black\" stroke=\"black\" points=\"337,-96.089 333.5,-86.089 330,-96.0891 337,-96.089\"/>\r\n</g>\r\n<!-- 2869992221040 -->\r\n<g id=\"node6\" class=\"node\"><title>2869992221040</title>\r\n<polygon fill=\"lightgrey\" stroke=\"black\" points=\"364,-201.5 269,-201.5 269,-182.5 364,-182.5 364,-201.5\"/>\r\n<text text-anchor=\"middle\" x=\"316.5\" y=\"-189.5\" font-family=\"monospace\" font-size=\"10.00\">AddmmBackward</text>\r\n</g>\r\n<!-- 2869992221040&#45;&gt;2869992220704 -->\r\n<g id=\"edge4\" class=\"edge\"><title>2869992221040&#45;&gt;2869992220704</title>\r\n<path fill=\"none\" stroke=\"black\" d=\"M319.008,-182.368C321.394,-174.159 325.06,-161.542 328.108,-151.053\"/>\r\n<polygon fill=\"black\" stroke=\"black\" points=\"331.552,-151.747 330.981,-141.167 324.83,-149.793 331.552,-151.747\"/>\r\n</g>\r\n<!-- 2869992221136 -->\r\n<g id=\"node7\" class=\"node\"><title>2869992221136</title>\r\n<polygon fill=\"lightgrey\" stroke=\"black\" points=\"232,-267.5 131,-267.5 131,-248.5 232,-248.5 232,-267.5\"/>\r\n<text text-anchor=\"middle\" x=\"181.5\" y=\"-255.5\" font-family=\"monospace\" font-size=\"10.00\">AccumulateGrad</text>\r\n</g>\r\n<!-- 2869992221136&#45;&gt;2869992221040 -->\r\n<g id=\"edge5\" class=\"edge\"><title>2869992221136&#45;&gt;2869992221040</title>\r\n<path fill=\"none\" stroke=\"black\" d=\"M199.707,-248.369C222.654,-237.49 262.314,-218.688 288.972,-206.05\"/>\r\n<polygon fill=\"black\" stroke=\"black\" points=\"290.614,-209.145 298.151,-201.699 287.615,-202.82 290.614,-209.145\"/>\r\n</g>\r\n<!-- 2869996755648 -->\r\n<g id=\"node8\" class=\"node\"><title>2869996755648</title>\r\n<polygon fill=\"lightblue\" stroke=\"black\" points=\"229,-339 134,-339 134,-309 229,-309 229,-339\"/>\r\n<text text-anchor=\"middle\" x=\"181.5\" y=\"-327\" font-family=\"monospace\" font-size=\"10.00\">layer4.0.bias</text>\r\n<text text-anchor=\"middle\" x=\"181.5\" y=\"-316\" font-family=\"monospace\" font-size=\"10.00\"> (84)</text>\r\n</g>\r\n<!-- 2869996755648&#45;&gt;2869992221136 -->\r\n<g id=\"edge6\" class=\"edge\"><title>2869996755648&#45;&gt;2869992221136</title>\r\n<path fill=\"none\" stroke=\"black\" d=\"M181.5,-308.796C181.5,-299.699 181.5,-287.788 181.5,-277.897\"/>\r\n<polygon fill=\"black\" stroke=\"black\" points=\"185,-277.844 181.5,-267.844 178,-277.844 185,-277.844\"/>\r\n</g>\r\n<!-- 2869992218880 -->\r\n<g id=\"node9\" class=\"node\"><title>2869992218880</title>\r\n<polygon fill=\"lightgrey\" stroke=\"black\" points=\"345,-267.5 250,-267.5 250,-248.5 345,-248.5 345,-267.5\"/>\r\n<text text-anchor=\"middle\" x=\"297.5\" y=\"-255.5\" font-family=\"monospace\" font-size=\"10.00\">ReluBackward0</text>\r\n</g>\r\n<!-- 2869992218880&#45;&gt;2869992221040 -->\r\n<g id=\"edge7\" class=\"edge\"><title>2869992218880&#45;&gt;2869992221040</title>\r\n<path fill=\"none\" stroke=\"black\" d=\"M300.062,-248.369C302.851,-238.974 307.395,-223.671 310.999,-211.531\"/>\r\n<polygon fill=\"black\" stroke=\"black\" points=\"314.365,-212.488 313.856,-201.905 307.655,-210.496 314.365,-212.488\"/>\r\n</g>\r\n<!-- 2869992221328 -->\r\n<g id=\"node10\" class=\"node\"><title>2869992221328</title>\r\n<polygon fill=\"lightgrey\" stroke=\"black\" points=\"343,-333.5 248,-333.5 248,-314.5 343,-314.5 343,-333.5\"/>\r\n<text text-anchor=\"middle\" x=\"295.5\" y=\"-321.5\" font-family=\"monospace\" font-size=\"10.00\">AddmmBackward</text>\r\n</g>\r\n<!-- 2869992221328&#45;&gt;2869992218880 -->\r\n<g id=\"edge8\" class=\"edge\"><title>2869992221328&#45;&gt;2869992218880</title>\r\n<path fill=\"none\" stroke=\"black\" d=\"M295.77,-314.369C296.057,-305.164 296.522,-290.287 296.898,-278.271\"/>\r\n<polygon fill=\"black\" stroke=\"black\" points=\"300.408,-278.01 297.222,-267.905 293.411,-277.791 300.408,-278.01\"/>\r\n</g>\r\n<!-- 2869992219792 -->\r\n<g id=\"node11\" class=\"node\"><title>2869992219792</title>\r\n<polygon fill=\"lightgrey\" stroke=\"black\" points=\"188,-399.5 87,-399.5 87,-380.5 188,-380.5 188,-399.5\"/>\r\n<text text-anchor=\"middle\" x=\"137.5\" y=\"-387.5\" font-family=\"monospace\" font-size=\"10.00\">AccumulateGrad</text>\r\n</g>\r\n<!-- 2869992219792&#45;&gt;2869992221328 -->\r\n<g id=\"edge9\" class=\"edge\"><title>2869992219792&#45;&gt;2869992221328</title>\r\n<path fill=\"none\" stroke=\"black\" d=\"M158.809,-380.369C186.095,-369.316 233.572,-350.085 264.767,-337.449\"/>\r\n<polygon fill=\"black\" stroke=\"black\" points=\"266.323,-340.595 274.277,-333.597 263.695,-334.107 266.323,-340.595\"/>\r\n</g>\r\n<!-- 2869996755264 -->\r\n<g id=\"node12\" class=\"node\"><title>2869996755264</title>\r\n<polygon fill=\"lightblue\" stroke=\"black\" points=\"163,-471 68,-471 68,-441 163,-441 163,-471\"/>\r\n<text text-anchor=\"middle\" x=\"115.5\" y=\"-459\" font-family=\"monospace\" font-size=\"10.00\">layer3.0.bias</text>\r\n<text text-anchor=\"middle\" x=\"115.5\" y=\"-448\" font-family=\"monospace\" font-size=\"10.00\"> (120)</text>\r\n</g>\r\n<!-- 2869996755264&#45;&gt;2869992219792 -->\r\n<g id=\"edge10\" class=\"edge\"><title>2869996755264&#45;&gt;2869992219792</title>\r\n<path fill=\"none\" stroke=\"black\" d=\"M120.383,-440.796C123.543,-431.601 127.692,-419.532 131.114,-409.578\"/>\r\n<polygon fill=\"black\" stroke=\"black\" points=\"134.519,-410.439 134.46,-399.844 127.899,-408.163 134.519,-410.439\"/>\r\n</g>\r\n<!-- 2869992221424 -->\r\n<g id=\"node13\" class=\"node\"><title>2869992221424</title>\r\n<polygon fill=\"lightgrey\" stroke=\"black\" points=\"318,-399.5 229,-399.5 229,-380.5 318,-380.5 318,-399.5\"/>\r\n<text text-anchor=\"middle\" x=\"273.5\" y=\"-387.5\" font-family=\"monospace\" font-size=\"10.00\">ViewBackward</text>\r\n</g>\r\n<!-- 2869992221424&#45;&gt;2869992221328 -->\r\n<g id=\"edge11\" class=\"edge\"><title>2869992221424&#45;&gt;2869992221328</title>\r\n<path fill=\"none\" stroke=\"black\" d=\"M276.467,-380.369C279.696,-370.974 284.957,-355.671 289.13,-343.531\"/>\r\n<polygon fill=\"black\" stroke=\"black\" points=\"292.498,-344.5 292.439,-333.905 285.878,-342.224 292.498,-344.5\"/>\r\n</g>\r\n<!-- 2869992221664 -->\r\n<g id=\"node14\" class=\"node\"><title>2869992221664</title>\r\n<polygon fill=\"lightgrey\" stroke=\"black\" points=\"366,-465.5 181,-465.5 181,-446.5 366,-446.5 366,-465.5\"/>\r\n<text text-anchor=\"middle\" x=\"273.5\" y=\"-453.5\" font-family=\"monospace\" font-size=\"10.00\">MaxPool2DWithIndicesBackward</text>\r\n</g>\r\n<!-- 2869992221664&#45;&gt;2869992221424 -->\r\n<g id=\"edge12\" class=\"edge\"><title>2869992221664&#45;&gt;2869992221424</title>\r\n<path fill=\"none\" stroke=\"black\" d=\"M273.5,-446.369C273.5,-437.164 273.5,-422.287 273.5,-410.271\"/>\r\n<polygon fill=\"black\" stroke=\"black\" points=\"277,-409.905 273.5,-399.905 270,-409.905 277,-409.905\"/>\r\n</g>\r\n<!-- 2869992221808 -->\r\n<g id=\"node15\" class=\"node\"><title>2869992221808</title>\r\n<polygon fill=\"lightgrey\" stroke=\"black\" points=\"321,-531.5 226,-531.5 226,-512.5 321,-512.5 321,-531.5\"/>\r\n<text text-anchor=\"middle\" x=\"273.5\" y=\"-519.5\" font-family=\"monospace\" font-size=\"10.00\">ReluBackward0</text>\r\n</g>\r\n<!-- 2869992221808&#45;&gt;2869992221664 -->\r\n<g id=\"edge13\" class=\"edge\"><title>2869992221808&#45;&gt;2869992221664</title>\r\n<path fill=\"none\" stroke=\"black\" d=\"M273.5,-512.369C273.5,-503.164 273.5,-488.287 273.5,-476.271\"/>\r\n<polygon fill=\"black\" stroke=\"black\" points=\"277,-475.905 273.5,-465.905 270,-475.905 277,-475.905\"/>\r\n</g>\r\n<!-- 2869992219936 -->\r\n<g id=\"node16\" class=\"node\"><title>2869992219936</title>\r\n<polygon fill=\"lightgrey\" stroke=\"black\" points=\"336,-592 211,-592 211,-573 336,-573 336,-592\"/>\r\n<text text-anchor=\"middle\" x=\"273.5\" y=\"-580\" font-family=\"monospace\" font-size=\"10.00\">ThnnConv2DBackward</text>\r\n</g>\r\n<!-- 2869992219936&#45;&gt;2869992221808 -->\r\n<g id=\"edge14\" class=\"edge\"><title>2869992219936&#45;&gt;2869992221808</title>\r\n<path fill=\"none\" stroke=\"black\" d=\"M273.5,-572.868C273.5,-564.746 273.5,-552.307 273.5,-541.885\"/>\r\n<polygon fill=\"black\" stroke=\"black\" points=\"277,-541.667 273.5,-531.667 270,-541.667 277,-541.667\"/>\r\n</g>\r\n<!-- 2869992221856 -->\r\n<g id=\"node17\" class=\"node\"><title>2869992221856</title>\r\n<polygon fill=\"lightgrey\" stroke=\"black\" points=\"205,-647 20,-647 20,-628 205,-628 205,-647\"/>\r\n<text text-anchor=\"middle\" x=\"112.5\" y=\"-635\" font-family=\"monospace\" font-size=\"10.00\">MaxPool2DWithIndicesBackward</text>\r\n</g>\r\n<!-- 2869992221856&#45;&gt;2869992219936 -->\r\n<g id=\"edge15\" class=\"edge\"><title>2869992221856&#45;&gt;2869992219936</title>\r\n<path fill=\"none\" stroke=\"black\" d=\"M138.367,-627.985C165.281,-619.125 207.619,-605.187 237.728,-595.276\"/>\r\n<polygon fill=\"black\" stroke=\"black\" points=\"239.026,-598.534 247.43,-592.082 236.837,-591.885 239.026,-598.534\"/>\r\n</g>\r\n<!-- 2869992219840 -->\r\n<g id=\"node18\" class=\"node\"><title>2869992219840</title>\r\n<polygon fill=\"lightgrey\" stroke=\"black\" points=\"160,-707.5 65,-707.5 65,-688.5 160,-688.5 160,-707.5\"/>\r\n<text text-anchor=\"middle\" x=\"112.5\" y=\"-695.5\" font-family=\"monospace\" font-size=\"10.00\">ReluBackward0</text>\r\n</g>\r\n<!-- 2869992219840&#45;&gt;2869992221856 -->\r\n<g id=\"edge16\" class=\"edge\"><title>2869992219840&#45;&gt;2869992221856</title>\r\n<path fill=\"none\" stroke=\"black\" d=\"M112.5,-688.368C112.5,-680.246 112.5,-667.807 112.5,-657.385\"/>\r\n<polygon fill=\"black\" stroke=\"black\" points=\"116,-657.167 112.5,-647.167 109,-657.167 116,-657.167\"/>\r\n</g>\r\n<!-- 2869992221232 -->\r\n<g id=\"node19\" class=\"node\"><title>2869992221232</title>\r\n<polygon fill=\"lightgrey\" stroke=\"black\" points=\"175,-768 50,-768 50,-749 175,-749 175,-768\"/>\r\n<text text-anchor=\"middle\" x=\"112.5\" y=\"-756\" font-family=\"monospace\" font-size=\"10.00\">ThnnConv2DBackward</text>\r\n</g>\r\n<!-- 2869992221232&#45;&gt;2869992219840 -->\r\n<g id=\"edge17\" class=\"edge\"><title>2869992221232&#45;&gt;2869992219840</title>\r\n<path fill=\"none\" stroke=\"black\" d=\"M112.5,-748.868C112.5,-740.746 112.5,-728.307 112.5,-717.885\"/>\r\n<polygon fill=\"black\" stroke=\"black\" points=\"116,-717.667 112.5,-707.667 109,-717.667 116,-717.667\"/>\r\n</g>\r\n<!-- 2869992220368 -->\r\n<g id=\"node20\" class=\"node\"><title>2869992220368</title>\r\n<polygon fill=\"lightgrey\" stroke=\"black\" points=\"104,-823 3,-823 3,-804 104,-804 104,-823\"/>\r\n<text text-anchor=\"middle\" x=\"53.5\" y=\"-811\" font-family=\"monospace\" font-size=\"10.00\">AccumulateGrad</text>\r\n</g>\r\n<!-- 2869992220368&#45;&gt;2869992221232 -->\r\n<g id=\"edge18\" class=\"edge\"><title>2869992220368&#45;&gt;2869992221232</title>\r\n<path fill=\"none\" stroke=\"black\" d=\"M62.9794,-803.985C71.7011,-796.15 84.8435,-784.344 95.3978,-774.863\"/>\r\n<polygon fill=\"black\" stroke=\"black\" points=\"97.7479,-777.457 102.848,-768.17 93.07,-772.249 97.7479,-777.457\"/>\r\n</g>\r\n<!-- 2869996754112 -->\r\n<g id=\"node21\" class=\"node\"><title>2869996754112</title>\r\n<polygon fill=\"lightblue\" stroke=\"black\" points=\"107,-889 0,-889 0,-859 107,-859 107,-889\"/>\r\n<text text-anchor=\"middle\" x=\"53.5\" y=\"-877\" font-family=\"monospace\" font-size=\"10.00\">layer1.0.weight</text>\r\n<text text-anchor=\"middle\" x=\"53.5\" y=\"-866\" font-family=\"monospace\" font-size=\"10.00\"> (32, 1, 3, 3)</text>\r\n</g>\r\n<!-- 2869996754112&#45;&gt;2869992220368 -->\r\n<g id=\"edge19\" class=\"edge\"><title>2869996754112&#45;&gt;2869992220368</title>\r\n<path fill=\"none\" stroke=\"black\" d=\"M53.5,-858.839C53.5,-851.214 53.5,-841.704 53.5,-833.45\"/>\r\n<polygon fill=\"black\" stroke=\"black\" points=\"57.0001,-833.266 53.5,-823.266 50.0001,-833.266 57.0001,-833.266\"/>\r\n</g>\r\n<!-- 2869992222240 -->\r\n<g id=\"node22\" class=\"node\"><title>2869992222240</title>\r\n<polygon fill=\"lightgrey\" stroke=\"black\" points=\"223,-823 122,-823 122,-804 223,-804 223,-823\"/>\r\n<text text-anchor=\"middle\" x=\"172.5\" y=\"-811\" font-family=\"monospace\" font-size=\"10.00\">AccumulateGrad</text>\r\n</g>\r\n<!-- 2869992222240&#45;&gt;2869992221232 -->\r\n<g id=\"edge20\" class=\"edge\"><title>2869992222240&#45;&gt;2869992221232</title>\r\n<path fill=\"none\" stroke=\"black\" d=\"M162.86,-803.985C153.99,-796.15 140.625,-784.344 129.892,-774.863\"/>\r\n<polygon fill=\"black\" stroke=\"black\" points=\"132.127,-772.168 122.315,-768.17 127.493,-777.414 132.127,-772.168\"/>\r\n</g>\r\n<!-- 2869996754368 -->\r\n<g id=\"node23\" class=\"node\"><title>2869996754368</title>\r\n<polygon fill=\"lightblue\" stroke=\"black\" points=\"220,-889 125,-889 125,-859 220,-859 220,-889\"/>\r\n<text text-anchor=\"middle\" x=\"172.5\" y=\"-877\" font-family=\"monospace\" font-size=\"10.00\">layer1.0.bias</text>\r\n<text text-anchor=\"middle\" x=\"172.5\" y=\"-866\" font-family=\"monospace\" font-size=\"10.00\"> (32)</text>\r\n</g>\r\n<!-- 2869996754368&#45;&gt;2869992222240 -->\r\n<g id=\"edge21\" class=\"edge\"><title>2869996754368&#45;&gt;2869992222240</title>\r\n<path fill=\"none\" stroke=\"black\" d=\"M172.5,-858.839C172.5,-851.214 172.5,-841.704 172.5,-833.45\"/>\r\n<polygon fill=\"black\" stroke=\"black\" points=\"176,-833.266 172.5,-823.266 169,-833.266 176,-833.266\"/>\r\n</g>\r\n<!-- 2869992219504 -->\r\n<g id=\"node24\" class=\"node\"><title>2869992219504</title>\r\n<polygon fill=\"lightgrey\" stroke=\"black\" points=\"324,-647 223,-647 223,-628 324,-628 324,-647\"/>\r\n<text text-anchor=\"middle\" x=\"273.5\" y=\"-635\" font-family=\"monospace\" font-size=\"10.00\">AccumulateGrad</text>\r\n</g>\r\n<!-- 2869992219504&#45;&gt;2869992219936 -->\r\n<g id=\"edge22\" class=\"edge\"><title>2869992219504&#45;&gt;2869992219936</title>\r\n<path fill=\"none\" stroke=\"black\" d=\"M273.5,-627.748C273.5,-620.802 273.5,-610.845 273.5,-602.135\"/>\r\n<polygon fill=\"black\" stroke=\"black\" points=\"277,-602.089 273.5,-592.089 270,-602.089 277,-602.089\"/>\r\n</g>\r\n<!-- 2869996754560 -->\r\n<g id=\"node25\" class=\"node\"><title>2869996754560</title>\r\n<polygon fill=\"lightblue\" stroke=\"black\" points=\"327,-713 220,-713 220,-683 327,-683 327,-713\"/>\r\n<text text-anchor=\"middle\" x=\"273.5\" y=\"-701\" font-family=\"monospace\" font-size=\"10.00\">layer2.0.weight</text>\r\n<text text-anchor=\"middle\" x=\"273.5\" y=\"-690\" font-family=\"monospace\" font-size=\"10.00\"> (64, 32, 3, 3)</text>\r\n</g>\r\n<!-- 2869996754560&#45;&gt;2869992219504 -->\r\n<g id=\"edge23\" class=\"edge\"><title>2869996754560&#45;&gt;2869992219504</title>\r\n<path fill=\"none\" stroke=\"black\" d=\"M273.5,-682.839C273.5,-675.214 273.5,-665.704 273.5,-657.45\"/>\r\n<polygon fill=\"black\" stroke=\"black\" points=\"277,-657.266 273.5,-647.266 270,-657.266 277,-657.266\"/>\r\n</g>\r\n<!-- 2869992220944 -->\r\n<g id=\"node26\" class=\"node\"><title>2869992220944</title>\r\n<polygon fill=\"lightgrey\" stroke=\"black\" points=\"443,-647 342,-647 342,-628 443,-628 443,-647\"/>\r\n<text text-anchor=\"middle\" x=\"392.5\" y=\"-635\" font-family=\"monospace\" font-size=\"10.00\">AccumulateGrad</text>\r\n</g>\r\n<!-- 2869992220944&#45;&gt;2869992219936 -->\r\n<g id=\"edge24\" class=\"edge\"><title>2869992220944&#45;&gt;2869992219936</title>\r\n<path fill=\"none\" stroke=\"black\" d=\"M373.381,-627.985C354.151,-619.42 324.267,-606.11 302.194,-596.28\"/>\r\n<polygon fill=\"black\" stroke=\"black\" points=\"303.526,-593.042 292.967,-592.17 300.678,-599.436 303.526,-593.042\"/>\r\n</g>\r\n<!-- 2869996754816 -->\r\n<g id=\"node27\" class=\"node\"><title>2869996754816</title>\r\n<polygon fill=\"lightblue\" stroke=\"black\" points=\"440,-713 345,-713 345,-683 440,-683 440,-713\"/>\r\n<text text-anchor=\"middle\" x=\"392.5\" y=\"-701\" font-family=\"monospace\" font-size=\"10.00\">layer2.0.bias</text>\r\n<text text-anchor=\"middle\" x=\"392.5\" y=\"-690\" font-family=\"monospace\" font-size=\"10.00\"> (64)</text>\r\n</g>\r\n<!-- 2869996754816&#45;&gt;2869992220944 -->\r\n<g id=\"edge25\" class=\"edge\"><title>2869996754816&#45;&gt;2869992220944</title>\r\n<path fill=\"none\" stroke=\"black\" d=\"M392.5,-682.839C392.5,-675.214 392.5,-665.704 392.5,-657.45\"/>\r\n<polygon fill=\"black\" stroke=\"black\" points=\"396,-657.266 392.5,-647.266 389,-657.266 396,-657.266\"/>\r\n</g>\r\n<!-- 2869992220080 -->\r\n<g id=\"node28\" class=\"node\"><title>2869992220080</title>\r\n<polygon fill=\"lightgrey\" stroke=\"black\" points=\"407,-399.5 336,-399.5 336,-380.5 407,-380.5 407,-399.5\"/>\r\n<text text-anchor=\"middle\" x=\"371.5\" y=\"-387.5\" font-family=\"monospace\" font-size=\"10.00\">TBackward</text>\r\n</g>\r\n<!-- 2869992220080&#45;&gt;2869992221328 -->\r\n<g id=\"edge26\" class=\"edge\"><title>2869992220080&#45;&gt;2869992221328</title>\r\n<path fill=\"none\" stroke=\"black\" d=\"M361.25,-380.369C349.193,-370.215 328.939,-353.159 314.09,-340.655\"/>\r\n<polygon fill=\"black\" stroke=\"black\" points=\"315.979,-337.669 306.075,-333.905 311.47,-343.024 315.979,-337.669\"/>\r\n</g>\r\n<!-- 2869992219456 -->\r\n<g id=\"node29\" class=\"node\"><title>2869992219456</title>\r\n<polygon fill=\"lightgrey\" stroke=\"black\" points=\"485,-465.5 384,-465.5 384,-446.5 485,-446.5 485,-465.5\"/>\r\n<text text-anchor=\"middle\" x=\"434.5\" y=\"-453.5\" font-family=\"monospace\" font-size=\"10.00\">AccumulateGrad</text>\r\n</g>\r\n<!-- 2869992219456&#45;&gt;2869992220080 -->\r\n<g id=\"edge27\" class=\"edge\"><title>2869992219456&#45;&gt;2869992220080</title>\r\n<path fill=\"none\" stroke=\"black\" d=\"M426.004,-446.369C416.195,-436.405 399.844,-419.794 387.605,-407.361\"/>\r\n<polygon fill=\"black\" stroke=\"black\" points=\"389.776,-404.576 380.266,-399.905 384.787,-409.487 389.776,-404.576\"/>\r\n</g>\r\n<!-- 2869996755136 -->\r\n<g id=\"node30\" class=\"node\"><title>2869996755136</title>\r\n<polygon fill=\"lightblue\" stroke=\"black\" points=\"488,-537 381,-537 381,-507 488,-507 488,-537\"/>\r\n<text text-anchor=\"middle\" x=\"434.5\" y=\"-525\" font-family=\"monospace\" font-size=\"10.00\">layer3.0.weight</text>\r\n<text text-anchor=\"middle\" x=\"434.5\" y=\"-514\" font-family=\"monospace\" font-size=\"10.00\"> (120, 3136)</text>\r\n</g>\r\n<!-- 2869996755136&#45;&gt;2869992219456 -->\r\n<g id=\"edge28\" class=\"edge\"><title>2869996755136&#45;&gt;2869992219456</title>\r\n<path fill=\"none\" stroke=\"black\" d=\"M434.5,-506.796C434.5,-497.699 434.5,-485.788 434.5,-475.897\"/>\r\n<polygon fill=\"black\" stroke=\"black\" points=\"438,-475.844 434.5,-465.844 431,-475.844 438,-475.844\"/>\r\n</g>\r\n<!-- 2869992219696 -->\r\n<g id=\"node31\" class=\"node\"><title>2869992219696</title>\r\n<polygon fill=\"lightgrey\" stroke=\"black\" points=\"434,-267.5 363,-267.5 363,-248.5 434,-248.5 434,-267.5\"/>\r\n<text text-anchor=\"middle\" x=\"398.5\" y=\"-255.5\" font-family=\"monospace\" font-size=\"10.00\">TBackward</text>\r\n</g>\r\n<!-- 2869992219696&#45;&gt;2869992221040 -->\r\n<g id=\"edge29\" class=\"edge\"><title>2869992219696&#45;&gt;2869992221040</title>\r\n<path fill=\"none\" stroke=\"black\" d=\"M387.441,-248.369C374.236,-238.062 351.92,-220.645 335.84,-208.095\"/>\r\n<polygon fill=\"black\" stroke=\"black\" points=\"337.682,-205.093 327.646,-201.699 333.375,-210.611 337.682,-205.093\"/>\r\n</g>\r\n<!-- 2869992218784 -->\r\n<g id=\"node32\" class=\"node\"><title>2869992218784</title>\r\n<polygon fill=\"lightgrey\" stroke=\"black\" points=\"506,-333.5 405,-333.5 405,-314.5 506,-314.5 506,-333.5\"/>\r\n<text text-anchor=\"middle\" x=\"455.5\" y=\"-321.5\" font-family=\"monospace\" font-size=\"10.00\">AccumulateGrad</text>\r\n</g>\r\n<!-- 2869992218784&#45;&gt;2869992219696 -->\r\n<g id=\"edge30\" class=\"edge\"><title>2869992218784&#45;&gt;2869992219696</title>\r\n<path fill=\"none\" stroke=\"black\" d=\"M447.813,-314.369C439.023,-304.5 424.426,-288.11 413.389,-275.717\"/>\r\n<polygon fill=\"black\" stroke=\"black\" points=\"415.696,-273.045 406.431,-267.905 410.468,-277.701 415.696,-273.045\"/>\r\n</g>\r\n<!-- 2869996755520 -->\r\n<g id=\"node33\" class=\"node\"><title>2869996755520</title>\r\n<polygon fill=\"lightblue\" stroke=\"black\" points=\"532,-405 425,-405 425,-375 532,-375 532,-405\"/>\r\n<text text-anchor=\"middle\" x=\"478.5\" y=\"-393\" font-family=\"monospace\" font-size=\"10.00\">layer4.0.weight</text>\r\n<text text-anchor=\"middle\" x=\"478.5\" y=\"-382\" font-family=\"monospace\" font-size=\"10.00\"> (84, 120)</text>\r\n</g>\r\n<!-- 2869996755520&#45;&gt;2869992218784 -->\r\n<g id=\"edge31\" class=\"edge\"><title>2869996755520&#45;&gt;2869992218784</title>\r\n<path fill=\"none\" stroke=\"black\" d=\"M473.396,-374.796C470.056,-365.504 465.661,-353.275 462.063,-343.261\"/>\r\n<polygon fill=\"black\" stroke=\"black\" points=\"465.354,-342.071 458.678,-333.844 458.767,-344.439 465.354,-342.071\"/>\r\n</g>\r\n<!-- 2869992221520 -->\r\n<g id=\"node34\" class=\"node\"><title>2869992221520</title>\r\n<polygon fill=\"lightgrey\" stroke=\"black\" points=\"507,-141 436,-141 436,-122 507,-122 507,-141\"/>\r\n<text text-anchor=\"middle\" x=\"471.5\" y=\"-129\" font-family=\"monospace\" font-size=\"10.00\">TBackward</text>\r\n</g>\r\n<!-- 2869992221520&#45;&gt;2869992219120 -->\r\n<g id=\"edge32\" class=\"edge\"><title>2869992221520&#45;&gt;2869992219120</title>\r\n<path fill=\"none\" stroke=\"black\" d=\"M449.328,-121.985C426.728,-113.305 391.438,-99.7515 365.747,-89.8847\"/>\r\n<polygon fill=\"black\" stroke=\"black\" points=\"366.666,-86.4883 356.076,-86.1703 364.156,-93.0229 366.666,-86.4883\"/>\r\n</g>\r\n<!-- 2869992221280 -->\r\n<g id=\"node35\" class=\"node\"><title>2869992221280</title>\r\n<polygon fill=\"lightgrey\" stroke=\"black\" points=\"531,-201.5 430,-201.5 430,-182.5 531,-182.5 531,-201.5\"/>\r\n<text text-anchor=\"middle\" x=\"480.5\" y=\"-189.5\" font-family=\"monospace\" font-size=\"10.00\">AccumulateGrad</text>\r\n</g>\r\n<!-- 2869992221280&#45;&gt;2869992221520 -->\r\n<g id=\"edge33\" class=\"edge\"><title>2869992221280&#45;&gt;2869992221520</title>\r\n<path fill=\"none\" stroke=\"black\" d=\"M479.172,-182.368C477.909,-174.159 475.968,-161.542 474.354,-151.053\"/>\r\n<polygon fill=\"black\" stroke=\"black\" points=\"477.813,-150.519 472.833,-141.167 470.895,-151.583 477.813,-150.519\"/>\r\n</g>\r\n<!-- 2869996755904 -->\r\n<g id=\"node36\" class=\"node\"><title>2869996755904</title>\r\n<polygon fill=\"lightblue\" stroke=\"black\" points=\"529,-273 452,-273 452,-243 529,-243 529,-273\"/>\r\n<text text-anchor=\"middle\" x=\"490.5\" y=\"-261\" font-family=\"monospace\" font-size=\"10.00\">fc3.weight</text>\r\n<text text-anchor=\"middle\" x=\"490.5\" y=\"-250\" font-family=\"monospace\" font-size=\"10.00\"> (10, 84)</text>\r\n</g>\r\n<!-- 2869996755904&#45;&gt;2869992221280 -->\r\n<g id=\"edge34\" class=\"edge\"><title>2869996755904&#45;&gt;2869992221280</title>\r\n<path fill=\"none\" stroke=\"black\" d=\"M488.281,-242.796C486.859,-233.699 484.998,-221.788 483.453,-211.897\"/>\r\n<polygon fill=\"black\" stroke=\"black\" points=\"486.884,-211.184 481.882,-201.844 479.968,-212.265 486.884,-211.184\"/>\r\n</g>\r\n</g>\r\n</svg>\r\n",
            "text/plain": [
              "<graphviz.dot.Digraph at 0x29c38ddefd0>"
            ]
          },
          "metadata": {},
          "execution_count": 13
        }
      ],
      "metadata": {
        "id": "3qdC5robFZA6"
      }
    },
    {
      "cell_type": "code",
      "execution_count": 14,
      "source": [
        "summary(net, (1, 28, 28))"
      ],
      "outputs": [
        {
          "output_type": "stream",
          "name": "stdout",
          "text": [
            "----------------------------------------------------------------\n",
            "        Layer (type)               Output Shape         Param #\n",
            "================================================================\n",
            "            Conv2d-1           [-1, 32, 28, 28]             320\n",
            "              ReLU-2           [-1, 32, 28, 28]               0\n",
            "         MaxPool2d-3           [-1, 32, 14, 14]               0\n",
            "            Conv2d-4           [-1, 64, 14, 14]          18,496\n",
            "              ReLU-5           [-1, 64, 14, 14]               0\n",
            "         MaxPool2d-6             [-1, 64, 7, 7]               0\n",
            "            Linear-7                  [-1, 120]         376,440\n",
            "              ReLU-8                  [-1, 120]               0\n",
            "            Linear-9                   [-1, 84]          10,164\n",
            "             ReLU-10                   [-1, 84]               0\n",
            "           Linear-11                   [-1, 10]             850\n",
            "================================================================\n",
            "Total params: 406,270\n",
            "Trainable params: 406,270\n",
            "Non-trainable params: 0\n",
            "----------------------------------------------------------------\n",
            "Input size (MB): 0.00\n",
            "Forward/backward pass size (MB): 0.65\n",
            "Params size (MB): 1.55\n",
            "Estimated Total Size (MB): 2.20\n",
            "----------------------------------------------------------------\n"
          ]
        }
      ],
      "metadata": {
        "id": "XXZ-4nZZBN23"
      }
    },
    {
      "cell_type": "markdown",
      "source": [
        "## 실습 내용 (VGG16)"
      ],
      "metadata": {
        "id": "46GduwovCNnu"
      }
    },
    {
      "cell_type": "markdown",
      "source": [
        "![img](./img/vgg16.png)"
      ],
      "metadata": {}
    },
    {
      "cell_type": "markdown",
      "source": [
        "## Class 정의하기"
      ],
      "metadata": {
        "id": "4vrrjMUkJ0qt"
      }
    },
    {
      "cell_type": "code",
      "execution_count": null,
      "source": [
        "class VGG16(nn.Module):\r\n",
        "    def __init__(self):\r\n",
        "        super(VGG16, self).__init__()\r\n",
        "        self.conv = nn.Sequential(\r\n",
        "            ###############################\r\n",
        "            # Sequential 셀을 채워주세요! #\r\n",
        "            ###############################\r\n",
        "        )\r\n",
        "        self.avg_pool = nn.AvgPool2d(3)\r\n",
        "        self.fc1 = nn.Linear(512*2*2,4096)\r\n",
        "        self.fc2 = nn.Linear(4096,4096)\r\n",
        "        self.fc3 = nn.Linear(4096,10)\r\n",
        "        \r\n",
        "\r\n",
        "    def forward(self, x):\r\n",
        "        ###############################\r\n",
        "        #   forward 셀을 채워주세요!  #\r\n",
        "        ###############################\r\n",
        "        return x\r\n",
        "\r\n",
        "model = VGG16()\r\n",
        "print(model)"
      ],
      "outputs": [],
      "metadata": {
        "id": "k3ky-KYhBnBA"
      }
    },
    {
      "cell_type": "code",
      "execution_count": null,
      "source": [
        "X = torch.rand(1, 3, 224, 224, device=device)\r\n",
        "summary(model, (3, 224, 224))"
      ],
      "outputs": [],
      "metadata": {
        "id": "8YN_sqpNKPU6"
      }
    }
  ]
}