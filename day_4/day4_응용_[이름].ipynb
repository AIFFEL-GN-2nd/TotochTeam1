{
  "nbformat": 4,
  "nbformat_minor": 2,
  "metadata": {
    "colab": {
      "name": "WandB_pytorch_tutorial.ipynb",
      "private_outputs": true,
      "provenance": [],
      "include_colab_link": true
    },
    "kernelspec": {
      "name": "python3",
      "display_name": "Python 3.8.0 64-bit ('torch': conda)"
    },
    "language_info": {
      "name": "python",
      "version": "3.8.0",
      "mimetype": "text/x-python",
      "codemirror_mode": {
        "name": "ipython",
        "version": 3
      },
      "pygments_lexer": "ipython3",
      "nbconvert_exporter": "python",
      "file_extension": ".py"
    },
    "interpreter": {
      "hash": "93f0d9e47ee3596f3a4c40963a5f80a2a8195902cfa23a0f0d123dcd43c69f1e"
    }
  },
  "cells": [
    {
      "cell_type": "markdown",
      "source": [
        "<a href=\"https://colab.research.google.com/github/PEBpung/CNN_wandb/blob/master/WandB_pytorch_tutorial.ipynb\" target=\"_parent\"><img src=\"https://colab.research.google.com/assets/colab-badge.svg\" alt=\"Open In Colab\"/></a>"
      ],
      "metadata": {
        "id": "view-in-github",
        "colab_type": "text"
      }
    },
    {
      "cell_type": "markdown",
      "source": [
        "# 🚀 Install, Import, and Log In"
      ],
      "metadata": {
        "id": "Cg1vp_Fe2nFJ"
      }
    },
    {
      "cell_type": "code",
      "execution_count": 1,
      "source": [
        "import numpy as np\r\n",
        "import torch\r\n",
        "import torch.nn as nn\r\n",
        "from torchvision import datasets\r\n",
        "from torch.utils.data import DataLoader, Subset\r\n",
        "import torchvision.transforms as transforms\r\n",
        "from tqdm.notebook import tqdm\r\n",
        "\r\n",
        "device = \"cuda\" if torch.cuda.is_available() else \"cpu\""
      ],
      "outputs": [],
      "metadata": {
        "id": "bcFEvH5vhlYw"
      }
    },
    {
      "cell_type": "markdown",
      "source": [
        "### 0️⃣ Step 0: W&B 설치하기\n",
        "colab에서 WandB를 사용하려면 wandb modul을 install 해야합니다."
      ],
      "metadata": {
        "id": "ysRzZ5lGh7t5"
      }
    },
    {
      "cell_type": "code",
      "execution_count": 1,
      "source": [
        "%%capture\r\n",
        "!pip install wandb --upgrade"
      ],
      "outputs": [],
      "metadata": {
        "id": "8mVVE8w1h8Jc"
      }
    },
    {
      "cell_type": "markdown",
      "source": [
        "### 1️⃣ Step 1: W&B 로그인\n",
        "\n",
        "WandB의 web 서비스를 이용하기 위해선 log in이 필요합니다."
      ],
      "metadata": {
        "id": "ipp9aA2piG-g"
      }
    },
    {
      "cell_type": "code",
      "execution_count": 2,
      "source": [
        "import wandb\r\n",
        "\r\n",
        "wandb.login()"
      ],
      "outputs": [
        {
          "output_type": "stream",
          "name": "stderr",
          "text": [
            "Failed to detect the name of this notebook, you can set it manually with the WANDB_NOTEBOOK_NAME environment variable to enable code saving.\n",
            "\u001b[34m\u001b[1mwandb\u001b[0m: Currently logged in as: \u001b[33mpebpung\u001b[0m (use `wandb login --relogin` to force relogin)\n"
          ]
        },
        {
          "output_type": "execute_result",
          "data": {
            "text/plain": [
              "True"
            ]
          },
          "metadata": {},
          "execution_count": 2
        }
      ],
      "metadata": {
        "id": "ovzfhTdSiJLI"
      }
    },
    {
      "cell_type": "markdown",
      "source": [
        "### 2️⃣ Step 2: config 설정 후 `wandb.init` 정의\n",
        "이제 본격적으로 모델을 학습 시키기 전에 몇가지 준비를 하려고 합니다.  \n",
        "1. hyper-parameter config 설정\n",
        "2. model 학습을 위한 pipeline 정의\n",
        "3. wandb.init()으로 wandb 서버와 연결\n",
        "4. dataloader 정의\n",
        "5. model 정의"
      ],
      "metadata": {
        "id": "fstctcwBiSlH"
      }
    },
    {
      "cell_type": "markdown",
      "source": [
        "### 1) config 설정"
      ],
      "metadata": {
        "id": "GyjENuDR5I0J"
      }
    },
    {
      "cell_type": "code",
      "execution_count": null,
      "source": [
        "config  = {\n",
        "    'epochs': 5,\n",
        "    'classes':10,\n",
        "    'batch_size': 128,\n",
        "    'kernels': [16, 32],\n",
        "    'weight_decay': 0.0005,\n",
        "    'learning_rate': 1e-3,\n",
        "    'dataset': 'MNIST',\n",
        "    'architecture': 'CNN',\n",
        "    'seed': 42\n",
        "    }"
      ],
      "outputs": [],
      "metadata": {
        "id": "1lGXXFCXiTBN"
      }
    },
    {
      "cell_type": "markdown",
      "source": [
        "### 2) model pipeline 정의"
      ],
      "metadata": {
        "id": "D1lrxavp5Nz3"
      }
    },
    {
      "cell_type": "code",
      "execution_count": null,
      "source": [
        "def model_pipeline(hyperparameters):\n",
        "    wandb.init(project='test-pytorch', entity='pebpung', config=hyperparameters)\n",
        "      \n",
        "    config = wandb.config\n",
        "\n",
        "    model, train_loader, test_loader, criterion, optimizer = make(config)\n",
        "\n",
        "    train(model, train_loader, criterion, optimizer, config)\n",
        "    test(model, test_loader)\n",
        "    return model"
      ],
      "outputs": [],
      "metadata": {
        "id": "q8Zjs1lji-uQ"
      }
    },
    {
      "cell_type": "code",
      "execution_count": null,
      "source": [
        "def make(config):\n",
        "    train, test = get_data(train=True), get_data(train=False)\n",
        "    train_loader = make_loader(train, batch_size=config.batch_size)\n",
        "    test_loader = make_loader(test, batch_size=config.batch_size)\n",
        "\n",
        "    model = ConvNet(config.kernels, config.classes).to(device)\n",
        "\n",
        "    criterion = nn.CrossEntropyLoss()\n",
        "    optimizer = torch.optim.Adam(\n",
        "        model.parameters(), lr=config.learning_rate)\n",
        "    \n",
        "    return model, train_loader, test_loader, criterion, optimizer"
      ],
      "outputs": [],
      "metadata": {
        "id": "btjji_u27J81"
      }
    },
    {
      "cell_type": "markdown",
      "source": [
        "### 3) dataloader 정의"
      ],
      "metadata": {
        "id": "qgsDGEMY5VHi"
      }
    },
    {
      "cell_type": "code",
      "execution_count": null,
      "source": [
        "def get_data(slice=5, train=True):\n",
        "    full_dataset = datasets.MNIST(root='./data/MNIST', train=train, \n",
        "                                    download=True,  transform=transforms.ToTensor())\n",
        "    \n",
        "    #  equiv to slicing with [::slice] \n",
        "    sub_dataset = torch.utils.data.Subset(full_dataset, \n",
        "                                          indices=range(0, len(full_dataset), slice))\n",
        "    return sub_dataset\n",
        "\n",
        "\n",
        "def make_loader(dataset, batch_size):\n",
        "    loader = DataLoader(dataset=dataset,\n",
        "                        batch_size=batch_size, \n",
        "                        shuffle=True,\n",
        "                        pin_memory=True, num_workers=2)\n",
        "    return loader"
      ],
      "outputs": [],
      "metadata": {
        "id": "Dt1AWh2fxN48"
      }
    },
    {
      "cell_type": "markdown",
      "source": [
        "### 4) 모델 정의"
      ],
      "metadata": {
        "id": "E13Qs4Xc5ZGe"
      }
    },
    {
      "cell_type": "code",
      "execution_count": null,
      "source": [
        "# Conventional and convolutional neural network\n",
        "\n",
        "class ConvNet(nn.Module):\n",
        "    def __init__(self, kernels, classes=10):\n",
        "        super(ConvNet, self).__init__()\n",
        "        \n",
        "        self.layer1 = nn.Sequential(\n",
        "            nn.Conv2d(1, kernels[0], kernel_size=5, stride=1, padding=2),\n",
        "            nn.ReLU(),\n",
        "            nn.MaxPool2d(kernel_size=2, stride=2))\n",
        "        self.layer2 = nn.Sequential(\n",
        "            nn.Conv2d(16, kernels[1], kernel_size=5, stride=1, padding=2),\n",
        "            nn.ReLU(),\n",
        "            nn.MaxPool2d(kernel_size=2, stride=2))\n",
        "        self.fc = nn.Linear(7 * 7 * kernels[-1], classes)\n",
        "        \n",
        "    def forward(self, x):\n",
        "        out = self.layer1(x)\n",
        "        out = self.layer2(out)\n",
        "        out = out.reshape(out.size(0), -1)\n",
        "        out = self.fc(out)\n",
        "        return out"
      ],
      "outputs": [],
      "metadata": {
        "id": "VI1Q0VoQxSUn"
      }
    },
    {
      "cell_type": "markdown",
      "source": [
        "### 3️⃣ Step 3. `wandb.watch`와 `wandb.log`를 사용해서 gradients 추적하기\n",
        "- **wandb.watch**는 gradient, topology와 관련된 정보를 visualization 하기 위한 코드입니다.\n",
        "- **wandb.log**는 visualization 하고 싶은 정보를 넘겨줄 수 있습니다.\n",
        "\n",
        "이 두가지 코드를 활용해서 gradient와 parameter를 시각화할 수 있습니다.   \n",
        "wandb.watch는 학습하기 전 train의 앞부분에 위치 시켜줍니다.  \n",
        "wandb.log는 학습 log를 출력하기 바로 전에 metric과 epoch을 입력합니다."
      ],
      "metadata": {
        "id": "iB4v24cn2d8o"
      }
    },
    {
      "cell_type": "code",
      "execution_count": null,
      "source": [
        "def train(model, loader, criterion, optimizer, config):\n",
        "    wandb.watch(model, criterion, log=\"all\", log_freq=10)\n",
        "\n",
        "    # Run training and track with wandb\n",
        "    total_batches = len(loader) * config.epochs\n",
        "    example_ct = 0  # number of examples seen\n",
        "    batch_ct = 0\n",
        "    for epoch in tqdm(range(config.epochs)):\n",
        "        for batch_idx, (images, labels) in enumerate(loader):\n",
        "\n",
        "            images, labels = images.to(device), labels.to(device)\n",
        "    \n",
        "            # Forward pass ➡\n",
        "            outputs = model(images)\n",
        "            loss = criterion(outputs, labels)\n",
        "            \n",
        "            # Backward pass ⬅\n",
        "            optimizer.zero_grad()\n",
        "            loss.backward()\n",
        "\n",
        "            # Step with optimizer\n",
        "            optimizer.step()\n",
        "\n",
        "            example_ct +=  len(images)\n",
        "\n",
        "            # Report metrics every 25th batch\n",
        "            if ((batch_idx + 1) % 25) == 0:\n",
        "                train_log(loss, example_ct, epoch)"
      ],
      "outputs": [],
      "metadata": {
        "id": "9Fz9rw8ExUez"
      }
    },
    {
      "cell_type": "code",
      "execution_count": null,
      "source": [
        "def train_log(loss, example_ct, epoch):\n",
        "    loss = float(loss)\n",
        "\n",
        "    # where the magic happens\n",
        "    wandb.log({\"epoch\": epoch, \"loss\": loss}, step=example_ct)\n",
        "    print(f\"Loss after \" + str(example_ct).zfill(5) + f\" examples: {loss:.3f}\")"
      ],
      "outputs": [],
      "metadata": {
        "id": "ZkSbJ9pLxV4R"
      }
    },
    {
      "cell_type": "markdown",
      "source": [
        "### 4️⃣ Optional Step 4:  `wandb.save`로 저장하기"
      ],
      "metadata": {
        "id": "4wCbKrfA2hv4"
      }
    },
    {
      "cell_type": "code",
      "execution_count": null,
      "source": [
        "def test(model, test_loader):\n",
        "    model.eval()\n",
        "\n",
        "    with torch.no_grad():\n",
        "        correct, total = 0, 0\n",
        "        for images, labels in test_loader:\n",
        "            images, labels = images.to(device), labels.to(device)\n",
        "\n",
        "            outputs = model(images)\n",
        "            pred = outputs.max(1, keepdim = True)[1]                                       \n",
        "            correct += pred.eq(labels.view_as(pred)).sum().item() \n",
        "\n",
        "            total = len(test_loader.dataset)\n",
        "\n",
        "        print(f\"Accuracy of the model on the {total} \" +\n",
        "              f\"test images: {100 * correct / total}%\")\n",
        "        \n",
        "        wandb.log({\"test_accuracy\": correct / total})\n",
        "\n",
        "    # Save the model in the exchangeable ONNX format\n",
        "    torch.onnx.export(model, images, \"model.onnx\")\n",
        "    wandb.save(\"model.onnx\")"
      ],
      "outputs": [],
      "metadata": {
        "id": "qk-YIDjlxXWK"
      }
    },
    {
      "cell_type": "markdown",
      "source": [
        "## 🏃‍♀️ Run training and watch your metrics live on [wandb.ai](https://wandb.ai)!"
      ],
      "metadata": {
        "id": "76MuW0uc50QA"
      }
    },
    {
      "cell_type": "code",
      "execution_count": null,
      "source": [
        "model = model_pipeline(config)"
      ],
      "outputs": [],
      "metadata": {
        "id": "kOSFlQBd5vJN"
      }
    },
    {
      "cell_type": "code",
      "execution_count": null,
      "source": [],
      "outputs": [],
      "metadata": {
        "id": "fS58qzKL8ar_"
      }
    }
  ]
}