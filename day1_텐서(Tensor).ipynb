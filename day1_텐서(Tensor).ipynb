{
  "nbformat": 4,
  "nbformat_minor": 2,
  "metadata": {
    "colab": {
      "name": "텐서(Tensor).ipynb",
      "private_outputs": true,
      "provenance": [],
      "collapsed_sections": [],
      "authorship_tag": "ABX9TyPyR/FppqH3gkf6meWYCI0Y",
      "include_colab_link": true
    },
    "kernelspec": {
      "name": "python3",
      "display_name": "Python 3.8.0 64-bit ('torch': conda)"
    },
    "language_info": {
      "name": "python",
      "version": "3.8.5",
      "mimetype": "text/x-python",
      "codemirror_mode": {
        "name": "ipython",
        "version": 3
      },
      "pygments_lexer": "ipython3",
      "nbconvert_exporter": "python",
      "file_extension": ".py"
    },
    "interpreter": {
      "hash": "93f0d9e47ee3596f3a4c40963a5f80a2a8195902cfa23a0f0d123dcd43c69f1e"
    }
  },
  "cells": [
    {
      "cell_type": "markdown",
      "source": [
        "<a href=\"https://colab.research.google.com/github/PEBpung/TotochTeam1/blob/main/day1_%ED%85%90%EC%84%9C(Tensor).ipynb\" target=\"_parent\"><img src=\"https://colab.research.google.com/assets/colab-badge.svg\" alt=\"Open In Colab\"/></a>"
      ],
      "metadata": {
        "id": "view-in-github",
        "colab_type": "text"
      }
    },
    {
      "cell_type": "markdown",
      "source": [
        "# 이웃집 토토치 파이토치 : Day 1"
      ],
      "metadata": {
        "id": "C_FyQ99czaAS"
      }
    },
    {
      "cell_type": "markdown",
      "source": [
        "📢 해당 게시물은 파이토치 공식 튜토리얼 중 파이토치(PyTorch) 시작하기를 읽고 직접 작성해보는 실습 노트북입니다."
      ],
      "metadata": {
        "id": "GIEtaQ_Czdkp"
      }
    },
    {
      "cell_type": "markdown",
      "source": [
        "#### 목차\r\n",
        "1. 탠서(TENSOR)\r\n",
        "    1. 텐서(tensor) 초기화\r\n",
        "    2. 텐서의 속성(Attribute)\r\n",
        "    3. 텐서 연산(Operation)\r\n",
        "    4. NumPy 변환(Bridge)\r\n",
        "2. Autograd\r\n",
        "    1. Tensor, Function과 연산그래프(Computational graph)\r\n",
        "    2. 변화도(Gradient) 계산하기\r\n",
        "    3. 변화도 추적 멈추기\r\n",
        "    4. 연산 그래프에 대한 추가 정보\r\n",
        "    5. 선택적으로 읽기(Optional Reading): 텐서 변화도와 야코비안 곱 (Jacobian Product)\r\n",
        "    6. [실습] Backpropagation with Autograd\r\n",
        "3. DATASET과 DATALOADER\r\n",
        "    1. 데이터셋 불러오기\r\n",
        "    2. 데이터셋을 순회하고 시각화하기\r\n",
        "    3. 파일에서 사용자 정의 데이터셋 만들기\r\n",
        "    4. DataLoader로 학습용 데이터 준비하기\r\n",
        "    5. DataLoader를 통해 순회하기"
      ],
      "metadata": {}
    },
    {
      "cell_type": "markdown",
      "source": [
        "## 1. 텐서 (Tensor)"
      ],
      "metadata": {
        "id": "w5CTkc4nirPn"
      }
    },
    {
      "cell_type": "code",
      "execution_count": null,
      "source": [
        "import torch\r\n",
        "import numpy as np"
      ],
      "outputs": [],
      "metadata": {
        "id": "mxpKzLnXimaU"
      }
    },
    {
      "cell_type": "markdown",
      "source": [
        "### 텐서(tensor) 초기화"
      ],
      "metadata": {
        "id": "Ul7rdwiRi5zl"
      }
    },
    {
      "cell_type": "markdown",
      "source": [
        "**데이터로부터 직접(directly) 생성하기**"
      ],
      "metadata": {
        "id": "ZVcsUDhcjCrD"
      }
    },
    {
      "cell_type": "code",
      "execution_count": null,
      "source": [
        "data = [[1, 2],[3, 4]]\r\n",
        "x_data = torch.tensor(data)\r\n",
        "x_data"
      ],
      "outputs": [],
      "metadata": {
        "id": "10y9YFqZiopn"
      }
    },
    {
      "cell_type": "markdown",
      "source": [
        "**NumPy 배열로부터 생성하기**"
      ],
      "metadata": {
        "id": "BhK77YQwi6L1"
      }
    },
    {
      "cell_type": "code",
      "execution_count": null,
      "source": [
        "np_array = np.array(data)\r\n",
        "x_np = torch.from_numpy(np_array)\r\n",
        "x_np"
      ],
      "outputs": [],
      "metadata": {
        "id": "KvgWwsTUipiu"
      }
    },
    {
      "cell_type": "markdown",
      "source": [
        "**다른 텐서로부터 생성하기**"
      ],
      "metadata": {
        "id": "CF0gt5U6jR8V"
      }
    },
    {
      "cell_type": "code",
      "execution_count": null,
      "source": [
        "# x_data의 속성을 유지합니다.\r\n",
        "x_ones = torch.ones_like(x_data) \r\n",
        "print(f\"Ones Tensor: \\n {x_ones} \\n\")\r\n",
        "\r\n",
        "# x_data의 속성을 덮어씁니다.\r\n",
        "x_rand = torch.rand_like(x_data, dtype=torch.float) \r\n",
        "print(f\"Random Tensor: \\n {x_rand} \\n\")"
      ],
      "outputs": [],
      "metadata": {
        "id": "wikxshb9iqQ8"
      }
    },
    {
      "cell_type": "markdown",
      "source": [
        "**무작위(random) 또는 상수(constant) 값을 사용하기:**"
      ],
      "metadata": {
        "id": "Sepex-_YjYkG"
      }
    },
    {
      "cell_type": "code",
      "execution_count": null,
      "source": [
        "shape = (2,3,)\r\n",
        "rand_tensor = torch.rand(shape)\r\n",
        "ones_tensor = torch.ones(shape)\r\n",
        "zeros_tensor = torch.zeros(shape)\r\n",
        "\r\n",
        "print(f\"Random Tensor: \\n {rand_tensor} \\n\")\r\n",
        "print(f\"Ones Tensor: \\n {ones_tensor} \\n\")\r\n",
        "print(f\"Zeros Tensor: \\n {zeros_tensor}\")"
      ],
      "outputs": [],
      "metadata": {
        "id": "jmVb1QuTiqZb"
      }
    },
    {
      "cell_type": "markdown",
      "source": [
        "### 텐서의 속성(Attribute)"
      ],
      "metadata": {
        "id": "p2blbrRdjgI2"
      }
    },
    {
      "cell_type": "code",
      "execution_count": null,
      "source": [
        "tensor = torch.rand(3,4)\r\n",
        "\r\n",
        "############################\r\n",
        "# 밑줄 친 곳을 채워보세요! #\r\n",
        "############################\r\n",
        "\r\n",
        "print(f\"Shape of tensor: {___}\")\r\n",
        "print(f\"Datatype of tensor: {___}\")\r\n",
        "print(f\"Device tensor is stored on: {___}\")"
      ],
      "outputs": [],
      "metadata": {
        "id": "6HbUDrVljf_H"
      }
    },
    {
      "cell_type": "markdown",
      "source": [
        "### 텐서 연산(Operation)"
      ],
      "metadata": {
        "id": "QdTMCC1KmPD-"
      }
    },
    {
      "cell_type": "markdown",
      "source": [
        "<div class=\"alert alert-warning\">\r\n",
        "    <p><b>Q. 텐서를 사용하면 어떤 점이 좋을까요??</b></p>\r\n",
        "    <p>👉 (여기에 답을 입력해 주세요)</p>\r\n",
        "</div>"
      ],
      "metadata": {}
    },
    {
      "cell_type": "code",
      "execution_count": null,
      "source": [
        "# GPU가 존재하면 텐서를 이동합니다\r\n",
        "if torch.cuda.is_available():\r\n",
        "  tensor = tensor.to('cuda')"
      ],
      "outputs": [],
      "metadata": {
        "id": "nyM7zxmnjf3y"
      }
    },
    {
      "cell_type": "markdown",
      "source": [
        "NumPy식의 표준 인덱싱과 슬라이싱:"
      ],
      "metadata": {
        "id": "LV3e7QrZmdF8"
      }
    },
    {
      "cell_type": "code",
      "execution_count": null,
      "source": [
        "data = [[1, 2, 3],\r\n",
        "         [4, 5, 6],\r\n",
        "         [7, 8, 9]]\r\n",
        "t_data = torch.tensor(data)\r\n",
        "\r\n",
        "############################\r\n",
        "# 밑줄 친 곳을 채워보세요! #\r\n",
        "############################\r\n",
        "\r\n",
        "print('2번째 행 출력: ',___)\r\n",
        "print('t_data에서 5를 출력: ', ___)\r\n",
        "print('마지막 column 출력:', ___)\r\n",
        "t_data[___] = 0\r\n",
        "print('3번째 column을 0으로 만들기:')\r\n",
        "print(t_data)"
      ],
      "outputs": [],
      "metadata": {
        "id": "522O3OXJjfuB"
      }
    },
    {
      "cell_type": "markdown",
      "source": [
        "**텐서 합치기**"
      ],
      "metadata": {
        "id": "4DbwAF-TpeBg"
      }
    },
    {
      "cell_type": "code",
      "execution_count": null,
      "source": [
        "t1 = torch.cat([tensor, tensor, tensor], dim=1)\r\n",
        "print(t1)"
      ],
      "outputs": [],
      "metadata": {
        "id": "kWGBUa0ljfi6"
      }
    },
    {
      "cell_type": "markdown",
      "source": [
        "**산술 연산(Arithmetic operations)**"
      ],
      "metadata": {
        "id": "VCf2__l_ppjd"
      }
    },
    {
      "cell_type": "code",
      "execution_count": null,
      "source": [
        "tensor = torch.rand(3,4)"
      ],
      "outputs": [],
      "metadata": {
        "id": "FAMnNAnurkDb"
      }
    },
    {
      "cell_type": "code",
      "execution_count": null,
      "source": [
        "# 두 텐서 간의 행렬 곱(matrix multiplication)을 계산합니다. y1, y2, y3은 모두 같은 값을 갖습니다.\r\n",
        "y1 = tensor @ tensor.T\r\n",
        "y2 = tensor.matmul(tensor.T)\r\n",
        "\r\n",
        "y3 = torch.rand_like(tensor)\r\n",
        "torch.matmul(tensor, tensor.T, out=y3)\r\n",
        "print(y1)\r\n",
        "print(y2)\r\n",
        "print(y3)\r\n",
        "\r\n",
        "print('-- '*15)\r\n",
        "# 요소별 곱(element-wise product)을 계산합니다. z1, z2, z3는 모두 같은 값을 갖습니다.\r\n",
        "z1 = tensor * tensor\r\n",
        "z2 = tensor.mul(tensor)\r\n",
        "\r\n",
        "z3 = torch.rand_like(tensor)\r\n",
        "torch.mul(tensor, tensor, out=z3)\r\n",
        "print(z1)\r\n",
        "print(z2)\r\n",
        "print(z3)"
      ],
      "outputs": [],
      "metadata": {
        "id": "8rl2lXktjfEx"
      }
    },
    {
      "cell_type": "markdown",
      "source": [
        "<div class=\"alert alert-warning\">\r\n",
        "    <p><b>Q. 행렬 곱(matrix multiplication)과 요소별 곱(element-wise product)의 차이점이 뭘까요??</b></p>\r\n",
        "    <p>👉 (여기에 답을 입력해 주세요)</p>\r\n",
        "</div>"
      ],
      "metadata": {}
    },
    {
      "cell_type": "markdown",
      "source": [
        "**단일-요소(single-element)**"
      ],
      "metadata": {
        "id": "tS823HhDsI6Z"
      }
    },
    {
      "cell_type": "code",
      "execution_count": null,
      "source": [
        "agg = tensor.sum()\r\n",
        "agg_item = agg.item()\r\n",
        "print(agg_item, type(agg_item))"
      ],
      "outputs": [],
      "metadata": {
        "id": "C9_IWxvHsIqV"
      }
    },
    {
      "cell_type": "markdown",
      "source": [
        "**텐서차원 축소/확장(Squeeze/Unsqueeze) 연산**"
      ],
      "metadata": {
        "id": "F6VGHAC4wWCi"
      }
    },
    {
      "cell_type": "code",
      "execution_count": null,
      "source": [
        "# Squeeze/Unsqueeze\r\n",
        "x = torch.rand((1,1,3,4))\r\n",
        "y = x.squeeze()\r\n",
        "print(y.size())\r\n",
        "print(y.unsqueeze(1).size())"
      ],
      "outputs": [],
      "metadata": {
        "id": "DYhTcpCor2wC"
      }
    },
    {
      "cell_type": "markdown",
      "source": [
        "<div class=\"alert alert-warning\">\r\n",
        "    <p><b>Q. Squeeze와 Unsqueeze는 어떤 경우에 사용 될까요? 자유롭게 생각해보죠!?</b></p>\r\n",
        "    <p>👉 (여기에 답을 입력해 주세요)</p>\r\n",
        "</div>"
      ],
      "metadata": {}
    },
    {
      "cell_type": "markdown",
      "source": [
        "**스태킹(Stacking)**"
      ],
      "metadata": {}
    },
    {
      "cell_type": "code",
      "execution_count": null,
      "source": [
        "x = torch.FloatTensor([1, 4])\r\n",
        "y = torch.FloatTensor([2, 5])\r\n",
        "z = torch.FloatTensor([3, 6])\r\n",
        "\r\n",
        "print(torch.stack([x, y, z]))"
      ],
      "outputs": [],
      "metadata": {}
    },
    {
      "cell_type": "markdown",
      "source": [
        "### 넘파이(Numpy)"
      ],
      "metadata": {}
    },
    {
      "cell_type": "markdown",
      "source": [
        "**텐서를 NumPy 배열로 변환하기**"
      ],
      "metadata": {
        "id": "17IUYsqNxUxp"
      }
    },
    {
      "cell_type": "code",
      "execution_count": null,
      "source": [
        "t = torch.ones(5)\r\n",
        "print(f\"t: {t}\")\r\n",
        "n = t.numpy()\r\n",
        "print(f\"n: {n}\")"
      ],
      "outputs": [],
      "metadata": {
        "id": "5EuvEtoIxUl-"
      }
    },
    {
      "cell_type": "markdown",
      "source": [
        "텐서의 변경 사항이 NumPy 배열에 반영됩니다."
      ],
      "metadata": {
        "id": "IDV_kHfJxYvM"
      }
    },
    {
      "cell_type": "code",
      "execution_count": null,
      "source": [
        "t.add_(1)\r\n",
        "print(f\"t: {t}\")\r\n",
        "print(f\"n: {n}\")"
      ],
      "outputs": [],
      "metadata": {
        "id": "FcKNnWvFxUhd"
      }
    },
    {
      "cell_type": "markdown",
      "source": [
        "**NumPy 배열을 텐서로 변환하기**"
      ],
      "metadata": {
        "id": "4D5LXTwDxcap"
      }
    },
    {
      "cell_type": "code",
      "execution_count": null,
      "source": [
        "n = np.ones(5)\r\n",
        "t = torch.from_numpy(n)"
      ],
      "outputs": [],
      "metadata": {
        "id": "0GLooKX3xUfd"
      }
    },
    {
      "cell_type": "markdown",
      "source": [
        "NumPy 배열의 변경 사항이 텐서에 반영됩니다."
      ],
      "metadata": {
        "id": "Y0VP8MyOxfq_"
      }
    },
    {
      "cell_type": "code",
      "execution_count": null,
      "source": [
        "np.add(n, 1, out=n)\r\n",
        "print(f\"t: {t}\")\r\n",
        "print(f\"n: {n}\")"
      ],
      "outputs": [],
      "metadata": {
        "id": "9XJL53PRxUZc"
      }
    },
    {
      "cell_type": "markdown",
      "source": [
        "# 2. Autograd"
      ],
      "metadata": {}
    },
    {
      "cell_type": "code",
      "execution_count": 1,
      "source": [
        "import torch\r\n",
        "\r\n",
        "x = torch.ones(5)  # input tensor\r\n",
        "y = torch.zeros(3)  # expected output\r\n",
        "w = torch.randn(5, 3, requires_grad=True)\r\n",
        "b = torch.randn(3, requires_grad=True)\r\n",
        "z = torch.matmul(x, w)+b\r\n",
        "loss = torch.nn.functional.binary_cross_entropy_with_logits(z, y)"
      ],
      "outputs": [
        {
          "output_type": "error",
          "ename": "ModuleNotFoundError",
          "evalue": "No module named 'torch'",
          "traceback": [
            "\u001b[1;31m---------------------------------------------------------------------------\u001b[0m",
            "\u001b[1;31mModuleNotFoundError\u001b[0m                       Traceback (most recent call last)",
            "\u001b[1;32m<ipython-input-1-601a3bb454d6>\u001b[0m in \u001b[0;36m<module>\u001b[1;34m\u001b[0m\n\u001b[1;32m----> 1\u001b[1;33m \u001b[1;32mimport\u001b[0m \u001b[0mtorch\u001b[0m\u001b[1;33m\u001b[0m\u001b[1;33m\u001b[0m\u001b[0m\n\u001b[0m\u001b[0;32m      2\u001b[0m \u001b[1;33m\u001b[0m\u001b[0m\n\u001b[0;32m      3\u001b[0m \u001b[0mx\u001b[0m \u001b[1;33m=\u001b[0m \u001b[0mtorch\u001b[0m\u001b[1;33m.\u001b[0m\u001b[0mones\u001b[0m\u001b[1;33m(\u001b[0m\u001b[1;36m5\u001b[0m\u001b[1;33m)\u001b[0m  \u001b[1;31m# input tensor\u001b[0m\u001b[1;33m\u001b[0m\u001b[1;33m\u001b[0m\u001b[0m\n\u001b[0;32m      4\u001b[0m \u001b[0my\u001b[0m \u001b[1;33m=\u001b[0m \u001b[0mtorch\u001b[0m\u001b[1;33m.\u001b[0m\u001b[0mzeros\u001b[0m\u001b[1;33m(\u001b[0m\u001b[1;36m3\u001b[0m\u001b[1;33m)\u001b[0m  \u001b[1;31m# expected output\u001b[0m\u001b[1;33m\u001b[0m\u001b[1;33m\u001b[0m\u001b[0m\n\u001b[0;32m      5\u001b[0m \u001b[0mw\u001b[0m \u001b[1;33m=\u001b[0m \u001b[0mtorch\u001b[0m\u001b[1;33m.\u001b[0m\u001b[0mrandn\u001b[0m\u001b[1;33m(\u001b[0m\u001b[1;36m5\u001b[0m\u001b[1;33m,\u001b[0m \u001b[1;36m3\u001b[0m\u001b[1;33m,\u001b[0m \u001b[0mrequires_grad\u001b[0m\u001b[1;33m=\u001b[0m\u001b[1;32mTrue\u001b[0m\u001b[1;33m)\u001b[0m\u001b[1;33m\u001b[0m\u001b[1;33m\u001b[0m\u001b[0m\n",
            "\u001b[1;31mModuleNotFoundError\u001b[0m: No module named 'torch'"
          ]
        }
      ],
      "metadata": {}
    },
    {
      "cell_type": "code",
      "execution_count": null,
      "source": [],
      "outputs": [],
      "metadata": {}
    },
    {
      "cell_type": "code",
      "execution_count": null,
      "source": [],
      "outputs": [],
      "metadata": {}
    },
    {
      "cell_type": "markdown",
      "source": [],
      "metadata": {
        "id": "DNZacYNny2Nx"
      }
    },
    {
      "cell_type": "code",
      "execution_count": null,
      "source": [],
      "outputs": [],
      "metadata": {
        "id": "j2pTrU4yy2BH"
      }
    },
    {
      "cell_type": "code",
      "execution_count": null,
      "source": [],
      "outputs": [],
      "metadata": {
        "id": "hu-Fh_VQy12m"
      }
    }
  ]
}