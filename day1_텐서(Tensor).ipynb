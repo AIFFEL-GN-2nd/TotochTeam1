{
  "nbformat": 4,
  "nbformat_minor": 0,
  "metadata": {
    "colab": {
      "name": "텐서(Tensor).ipynb",
      "private_outputs": true,
      "provenance": [],
      "collapsed_sections": [],
      "authorship_tag": "ABX9TyPyR/FppqH3gkf6meWYCI0Y",
      "include_colab_link": true
    },
    "kernelspec": {
      "name": "python3",
      "display_name": "Python 3"
    },
    "language_info": {
      "name": "python"
    }
  },
  "cells": [
    {
      "cell_type": "markdown",
      "metadata": {
        "id": "view-in-github",
        "colab_type": "text"
      },
      "source": [
        "<a href=\"https://colab.research.google.com/github/PEBpung/TotochTeam1/blob/main/day1_%ED%85%90%EC%84%9C(Tensor).ipynb\" target=\"_parent\"><img src=\"https://colab.research.google.com/assets/colab-badge.svg\" alt=\"Open In Colab\"/></a>"
      ]
    },
    {
      "cell_type": "markdown",
      "metadata": {
        "id": "C_FyQ99czaAS"
      },
      "source": [
        "# 이웃집 토토치 파이토치 : Day 1"
      ]
    },
    {
      "cell_type": "markdown",
      "metadata": {
        "id": "GIEtaQ_Czdkp"
      },
      "source": [
        "📢 해당 게시물은 파이토치 공식 튜토리얼 중 파이토치(PyTorch) 시작하기: 텐서(TENSOR)를 재구성하여 작성되었습니다."
      ]
    },
    {
      "cell_type": "markdown",
      "metadata": {
        "id": "w5CTkc4nirPn"
      },
      "source": [
        "## 텐서 (Tensor)"
      ]
    },
    {
      "cell_type": "code",
      "metadata": {
        "id": "mxpKzLnXimaU"
      },
      "source": [
        "import torch\n",
        "import numpy as np"
      ],
      "execution_count": null,
      "outputs": []
    },
    {
      "cell_type": "markdown",
      "metadata": {
        "id": "Ul7rdwiRi5zl"
      },
      "source": [
        "### 텐서(tensor) 초기화"
      ]
    },
    {
      "cell_type": "markdown",
      "metadata": {
        "id": "ZVcsUDhcjCrD"
      },
      "source": [
        "**데이터로부터 직접(directly) 생성하기**"
      ]
    },
    {
      "cell_type": "code",
      "metadata": {
        "id": "10y9YFqZiopn"
      },
      "source": [
        "data = [[1, 2],[3, 4]]\n",
        "x_data = torch.tensor(data)\n",
        "x_data"
      ],
      "execution_count": null,
      "outputs": []
    },
    {
      "cell_type": "markdown",
      "metadata": {
        "id": "BhK77YQwi6L1"
      },
      "source": [
        "**NumPy 배열로부터 생성하기**"
      ]
    },
    {
      "cell_type": "code",
      "metadata": {
        "id": "KvgWwsTUipiu"
      },
      "source": [
        "np_array = np.array(data)\n",
        "x_np = torch.from_numpy(np_array)\n",
        "x_np"
      ],
      "execution_count": null,
      "outputs": []
    },
    {
      "cell_type": "markdown",
      "metadata": {
        "id": "CF0gt5U6jR8V"
      },
      "source": [
        "**다른 텐서로부터 생성하기**"
      ]
    },
    {
      "cell_type": "code",
      "metadata": {
        "id": "wikxshb9iqQ8"
      },
      "source": [
        "# x_data의 속성을 유지합니다.\n",
        "x_ones = torch.ones_like(x_data) \n",
        "print(f\"Ones Tensor: \\n {x_ones} \\n\")\n",
        "\n",
        "# x_data의 속성을 덮어씁니다.\n",
        "x_rand = torch.rand_like(x_data, dtype=torch.float) \n",
        "print(f\"Random Tensor: \\n {x_rand} \\n\")"
      ],
      "execution_count": null,
      "outputs": []
    },
    {
      "cell_type": "markdown",
      "metadata": {
        "id": "Sepex-_YjYkG"
      },
      "source": [
        "**무작위(random) 또는 상수(constant) 값을 사용하기:**"
      ]
    },
    {
      "cell_type": "code",
      "metadata": {
        "id": "jmVb1QuTiqZb"
      },
      "source": [
        "shape = (2,3,)\n",
        "rand_tensor = torch.rand(shape)\n",
        "ones_tensor = torch.ones(shape)\n",
        "zeros_tensor = torch.zeros(shape)\n",
        "\n",
        "print(f\"Random Tensor: \\n {rand_tensor} \\n\")\n",
        "print(f\"Ones Tensor: \\n {ones_tensor} \\n\")\n",
        "print(f\"Zeros Tensor: \\n {zeros_tensor}\")"
      ],
      "execution_count": null,
      "outputs": []
    },
    {
      "cell_type": "markdown",
      "metadata": {
        "id": "p2blbrRdjgI2"
      },
      "source": [
        "**텐서의 속성(Attribute)**"
      ]
    },
    {
      "cell_type": "code",
      "metadata": {
        "id": "6HbUDrVljf_H"
      },
      "source": [
        "tensor = torch.rand(3,4)\n",
        "\n",
        "############################\n",
        "# 밑줄 친 곳을 채워보세요! #\n",
        "############################\n",
        "\n",
        "print(f\"Shape of tensor: {___}\")\n",
        "print(f\"Datatype of tensor: {___}\")\n",
        "print(f\"Device tensor is stored on: {___}\")"
      ],
      "execution_count": null,
      "outputs": []
    },
    {
      "cell_type": "markdown",
      "metadata": {
        "id": "QdTMCC1KmPD-"
      },
      "source": [
        "**텐서 연산(Operation)**"
      ]
    },
    {
      "cell_type": "markdown",
      "metadata": {
        "id": "ASInnmqwmWRH"
      },
      "source": [
        "질문: 텐서를 사용하면 어떤 점이 좋을까요??"
      ]
    },
    {
      "cell_type": "markdown",
      "metadata": {
        "id": "RRyjSiXVr_JP"
      },
      "source": [
        "답변: "
      ]
    },
    {
      "cell_type": "code",
      "metadata": {
        "id": "nyM7zxmnjf3y"
      },
      "source": [
        "# GPU가 존재하면 텐서를 이동합니다\n",
        "if torch.cuda.is_available():\n",
        "  tensor = tensor.to('cuda')"
      ],
      "execution_count": null,
      "outputs": []
    },
    {
      "cell_type": "markdown",
      "metadata": {
        "id": "LV3e7QrZmdF8"
      },
      "source": [
        "NumPy식의 표준 인덱싱과 슬라이싱:"
      ]
    },
    {
      "cell_type": "code",
      "metadata": {
        "id": "522O3OXJjfuB"
      },
      "source": [
        "data = [[1, 2, 3],\n",
        "         [4, 5, 6],\n",
        "         [7, 8, 9]]\n",
        "t_data = torch.tensor(data)\n",
        "\n",
        "############################\n",
        "# 밑줄 친 곳을 채워보세요! #\n",
        "############################\n",
        "\n",
        "print('2번째 행 출력: ',___)\n",
        "print('t_data에서 5를 출력: ', ___)\n",
        "print('마지막 column 출력:', ___)\n",
        "t_data[___] = 0\n",
        "print('3번째 column을 0으로 만들기:')\n",
        "print(t_data)"
      ],
      "execution_count": null,
      "outputs": []
    },
    {
      "cell_type": "markdown",
      "metadata": {
        "id": "4DbwAF-TpeBg"
      },
      "source": [
        "**텐서 합치기**"
      ]
    },
    {
      "cell_type": "code",
      "metadata": {
        "id": "kWGBUa0ljfi6"
      },
      "source": [
        "t1 = torch.cat([tensor, tensor, tensor], dim=1)\n",
        "print(t1)"
      ],
      "execution_count": null,
      "outputs": []
    },
    {
      "cell_type": "markdown",
      "metadata": {
        "id": "VCf2__l_ppjd"
      },
      "source": [
        "**산술 연산(Arithmetic operations)**"
      ]
    },
    {
      "cell_type": "code",
      "metadata": {
        "id": "FAMnNAnurkDb"
      },
      "source": [
        "tensor = torch.rand(3,4)"
      ],
      "execution_count": null,
      "outputs": []
    },
    {
      "cell_type": "code",
      "metadata": {
        "id": "8rl2lXktjfEx"
      },
      "source": [
        "# 두 텐서 간의 행렬 곱(matrix multiplication)을 계산합니다. y1, y2, y3은 모두 같은 값을 갖습니다.\n",
        "y1 = tensor @ tensor.T\n",
        "y2 = tensor.matmul(tensor.T)\n",
        "\n",
        "y3 = torch.rand_like(tensor)\n",
        "torch.matmul(tensor, tensor.T, out=y3)\n",
        "print(y1)\n",
        "print(y2)\n",
        "print(y3)\n",
        "\n",
        "print('-- '*15)\n",
        "# 요소별 곱(element-wise product)을 계산합니다. z1, z2, z3는 모두 같은 값을 갖습니다.\n",
        "z1 = tensor * tensor\n",
        "z2 = tensor.mul(tensor)\n",
        "\n",
        "z3 = torch.rand_like(tensor)\n",
        "torch.mul(tensor, tensor, out=z3)\n",
        "print(z1)\n",
        "print(z2)\n",
        "print(z3)"
      ],
      "execution_count": null,
      "outputs": []
    },
    {
      "cell_type": "markdown",
      "metadata": {
        "id": "gehVQgPprlmF"
      },
      "source": [
        "질문: 행렬 곱(matrix multiplication)과 요소별 곱(element-wise product)의 차이점이 뭘까요??"
      ]
    },
    {
      "cell_type": "markdown",
      "metadata": {
        "id": "3-Q6Mb2Fr3bs"
      },
      "source": [
        "답변 :"
      ]
    },
    {
      "cell_type": "markdown",
      "metadata": {
        "id": "tS823HhDsI6Z"
      },
      "source": [
        "**단일-요소(single-element)**"
      ]
    },
    {
      "cell_type": "code",
      "metadata": {
        "id": "C9_IWxvHsIqV"
      },
      "source": [
        "agg = tensor.sum()\n",
        "agg_item = agg.item()\n",
        "print(agg_item, type(agg_item))"
      ],
      "execution_count": null,
      "outputs": []
    },
    {
      "cell_type": "markdown",
      "metadata": {
        "id": "F6VGHAC4wWCi"
      },
      "source": [
        "**텐서차원 축소/확장(Squeeze/Unsqueeze) 연산**"
      ]
    },
    {
      "cell_type": "code",
      "metadata": {
        "id": "DYhTcpCor2wC"
      },
      "source": [
        "# Squeeze/Unsqueeze\n",
        "x = torch.rand((1,1,3,4))\n",
        "y = x.squeeze()\n",
        "print(y.size())\n",
        "print(y.unsqueeze(1).size())"
      ],
      "execution_count": null,
      "outputs": []
    },
    {
      "cell_type": "markdown",
      "metadata": {
        "id": "DWFCftHQygO3"
      },
      "source": [
        "질문: Squeeze와 Unsqueeze는 어떤 경우에 사용 될까요? 자유롭게 생각해보죠!"
      ]
    },
    {
      "cell_type": "markdown",
      "metadata": {
        "id": "3uV5mrvTyobS"
      },
      "source": [
        "답변: "
      ]
    },
    {
      "cell_type": "markdown",
      "metadata": {
        "id": "17IUYsqNxUxp"
      },
      "source": [
        "**텐서를 NumPy 배열로 변환하기**"
      ]
    },
    {
      "cell_type": "code",
      "metadata": {
        "id": "5EuvEtoIxUl-"
      },
      "source": [
        "t = torch.ones(5)\n",
        "print(f\"t: {t}\")\n",
        "n = t.numpy()\n",
        "print(f\"n: {n}\")"
      ],
      "execution_count": null,
      "outputs": []
    },
    {
      "cell_type": "markdown",
      "metadata": {
        "id": "IDV_kHfJxYvM"
      },
      "source": [
        "텐서의 변경 사항이 NumPy 배열에 반영됩니다."
      ]
    },
    {
      "cell_type": "code",
      "metadata": {
        "id": "FcKNnWvFxUhd"
      },
      "source": [
        "t.add_(1)\n",
        "print(f\"t: {t}\")\n",
        "print(f\"n: {n}\")"
      ],
      "execution_count": null,
      "outputs": []
    },
    {
      "cell_type": "markdown",
      "metadata": {
        "id": "4D5LXTwDxcap"
      },
      "source": [
        "**NumPy 배열을 텐서로 변환하기**"
      ]
    },
    {
      "cell_type": "code",
      "metadata": {
        "id": "0GLooKX3xUfd"
      },
      "source": [
        "n = np.ones(5)\n",
        "t = torch.from_numpy(n)"
      ],
      "execution_count": null,
      "outputs": []
    },
    {
      "cell_type": "markdown",
      "metadata": {
        "id": "Y0VP8MyOxfq_"
      },
      "source": [
        "NumPy 배열의 변경 사항이 텐서에 반영됩니다."
      ]
    },
    {
      "cell_type": "code",
      "metadata": {
        "id": "9XJL53PRxUZc"
      },
      "source": [
        "np.add(n, 1, out=n)\n",
        "print(f\"t: {t}\")\n",
        "print(f\"n: {n}\")"
      ],
      "execution_count": null,
      "outputs": []
    },
    {
      "cell_type": "markdown",
      "metadata": {
        "id": "DNZacYNny2Nx"
      },
      "source": [
        "**스태킹(Stacking)**"
      ]
    },
    {
      "cell_type": "code",
      "metadata": {
        "id": "j2pTrU4yy2BH"
      },
      "source": [
        "x = torch.FloatTensor([1, 4])\n",
        "y = torch.FloatTensor([2, 5])\n",
        "z = torch.FloatTensor([3, 6])\n",
        "\n",
        "print(torch.stack([x, y, z]))"
      ],
      "execution_count": null,
      "outputs": []
    },
    {
      "cell_type": "code",
      "metadata": {
        "id": "hu-Fh_VQy12m"
      },
      "source": [
        ""
      ],
      "execution_count": null,
      "outputs": []
    }
  ]
}