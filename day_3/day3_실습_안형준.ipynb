{
  "nbformat": 4,
  "nbformat_minor": 0,
  "metadata": {
    "colab": {
      "name": "day3_실습_안형준.ipynb",
      "provenance": [],
      "collapsed_sections": []
    },
    "kernelspec": {
      "name": "python3",
      "display_name": "Python 3.8.0 64-bit ('torch': conda)"
    },
    "language_info": {
      "name": "python",
      "version": "3.8.0",
      "mimetype": "text/x-python",
      "codemirror_mode": {
        "name": "ipython",
        "version": 3
      },
      "pygments_lexer": "ipython3",
      "nbconvert_exporter": "python",
      "file_extension": ".py"
    },
    "interpreter": {
      "hash": "93f0d9e47ee3596f3a4c40963a5f80a2a8195902cfa23a0f0d123dcd43c69f1e"
    }
  },
  "cells": [
    {
      "cell_type": "markdown",
      "metadata": {
        "id": "RPykpb_D96Zq"
      },
      "source": [
        "# 이웃집 토토치 파이토치 : Day 3\n",
        "\n",
        "📢 해당 게시물은 파이토치 공식 튜토리얼 중 \n",
        "[DATASET과 DATALOADER](https://tutorials.pytorch.kr/beginner/basics/data_tutorial.html)와 \n",
        "[분류기(CLASSIFIER) 학습하기](https://tutorials.pytorch.kr/beginner/blitz/cifar10_tutorial.html#sphx-glr-beginner-blitz-cifar10-tutorial-py)\n",
        "[모델 저장하고 불러오기](https://tutorials.pytorch.kr/beginner/saving_loading_models.html)\n",
        "를 읽고 직접 작성해보는 실습 노트북입니다.  \n",
        "\n",
        "#### 목차\n",
        "1. DATASET과 DATALOADER\n",
        "    1. 필요 모듈 준비\n",
        "    2. Configration 설정\n",
        "    3. 데이터 준비\n",
        "2. Pytorch로 구현하는 MNIST 손글씨 분류기\n",
        "    1. 도우미 함수 정의\n",
        "    2. 모델 정의하기\n",
        "    3. 학습 진행하기\n",
        "    4. Batch Norm 적용하고 학습하기\n",
        "3. 모델 저장하고 불러오기\n",
        "    1. 모델 전제 저장\n",
        "    2. 모델의 state_dict만 저장\n"
      ]
    },
    {
      "cell_type": "markdown",
      "metadata": {
        "id": "zCxm1_b696Zv"
      },
      "source": [
        "# 1. DATASET과 DATALOADER\n",
        "---\n",
        "\n",
        "데이터 샘플을 처리하는 코드는 지저분(messy)하고 유지보수가 어려울 수 있습니다. 더 나은 가독성(readability)과 모듈성(modularity)을 위해 데이터셋 코드를 모델 학습 코드로부터 분리하는 것이 이상적입니다. PyTorch는 ``torch.utils.data.DataLoader``와 ``torch.utils.data.Dataset`` 의 두 가지 데이터 기본 요소를 제공하여 미리 준비해된(pre-loaded) 데이터셋 뿐만 아니라 가지고 있는 데이터를 사용할 수 있도록 합니다.\n",
        "``Dataset`` 은 샘플과 정답(label)을 저장하고, ``DataLoader`` 는 ``Dataset`` 을 샘플에 쉽게 접근할 수 있도록 순회 가능한 객체(iterable)로 감쌉니다.\n",
        "\n",
        "PyTorch의 도메인 특화 라이브러리들은 (FashionMNIST와 같은) 다양한 미리 준비해둔(pre-loaded) 데이터셋을 제공합니다. 데이터셋은 ``torch.utils.data.Dataset`` 의 하위 클래스로 개별 데이터를 특정하는 함수가 구현되어 있습니다. 이러한 데이터셋은 모델을 만들어보고(prototype) 성능을 측정(benchmark)하는데 사용할 수 있습니다.\n",
        "\n",
        "여기에서 데이터셋들을 찾아볼 수 있습니다:\n",
        "[이미지 데이터셋](https://pytorch.org/vision/stable/datasets.html), \n",
        "[텍스트 데이터셋](https://pytorch.org/text/stable/datasets.html) 및\n",
        "[오디오 데이터셋](https://pytorch.org/audio/stable/datasets.html)"
      ]
    },
    {
      "cell_type": "markdown",
      "metadata": {
        "id": "HRInF6-N96Z0"
      },
      "source": [
        "## 1) 필요 모듈 준비"
      ]
    },
    {
      "cell_type": "code",
      "metadata": {
        "id": "vbhzwyVwIRaq"
      },
      "source": [
        "import matplotlib.pyplot as plt\n",
        "import torch\n",
        "import torch.nn as nn    \n",
        "from torchvision import transforms, datasets\n",
        "from torch.utils.data import DataLoader, Subset\n"
      ],
      "execution_count": 1,
      "outputs": []
    },
    {
      "cell_type": "markdown",
      "metadata": {
        "id": "5RwaKr1_96Z3"
      },
      "source": [
        "## 2) Configration 설정"
      ]
    },
    {
      "cell_type": "code",
      "metadata": {
        "id": "iLTqzrd0LJik"
      },
      "source": [
        "DEVICE = \"cuda\" if torch.cuda.is_available() else \"cpu\"\n",
        "EPOCH = 10\n",
        "BATCH_SIZE = 128\n",
        "FC_LAYER_SIZE = 128\n",
        "LR = 0.01\n",
        "DROOUT = 0.5\n",
        "OPTIMIZER = 'sgd'"
      ],
      "execution_count": 3,
      "outputs": []
    },
    {
      "cell_type": "markdown",
      "metadata": {
        "id": "GT1Cd8Xh96Z3"
      },
      "source": [
        "## 3) 데이터 준비"
      ]
    },
    {
      "cell_type": "markdown",
      "metadata": {
        "id": "a6g49sL196Z3"
      },
      "source": [
        "### 3-1) 기존 TorchVision Data Pipeline"
      ]
    },
    {
      "cell_type": "code",
      "metadata": {
        "id": "euieV7xAMGpE"
      },
      "source": [
        "train_transform = transforms.Compose([transforms.ToTensor(),\n",
        "                                      transforms.Normalize([0.5,],[0.5,])])\n",
        "test_transform = transforms.Compose([ transforms.ToTensor(),\n",
        "                                      transforms.Normalize([0.5,],[0.5])])\n",
        "\n",
        "train_dataset = datasets.MNIST(root = '../MNIST', # 데이터 저장될장소 \n",
        "                               train = True, # train인지 test인지 \n",
        "                               download = True,# 인터넷에서 다운로드해 이용할건지 \n",
        "                               transform = train_transform) \n",
        "\n",
        "test_dataset = datasets.MNIST(root = '../MNIST', train = False,\n",
        "                               download = True, transform = test_transform)\n",
        "\n",
        "# Subset을 사용하면 Dataset의 부분 집합만 가져올 수 있음.\n",
        "train_sub_dataset = Subset(train_dataset, indices=range(0, len(train_dataset), 5))\n",
        "test_sub_dataset = Subset(test_dataset, indices=range(0, len(test_dataset), 5))\n",
        "\n",
        "train_loader = DataLoader(dataset = train_sub_dataset,\n",
        "                         batch_size = BATCH_SIZE,\n",
        "                         shuffle = True)\n",
        "\n",
        "test_loader = DataLoader(dataset = test_sub_dataset,\n",
        "                         batch_size = BATCH_SIZE)"
      ],
      "execution_count": 5,
      "outputs": []
    },
    {
      "cell_type": "markdown",
      "metadata": {
        "id": "LYLSHri-96Z4"
      },
      "source": [
        "Subset은 Dataset의 부분 집합을 가져오는 함수입니다.  \n",
        "Dataset 원본으로 학습을 시켰을 경우 16~17분 정도가 걸리지만, Subset으로 학습을 할 경우 3~4분 정도가 걸립니다. "
      ]
    },
    {
      "cell_type": "code",
      "metadata": {
        "colab": {
          "base_uri": "https://localhost:8080/",
          "height": 94
        },
        "id": "ih1u4er1cruk",
        "outputId": "ec0cdefb-5e6a-476f-ed8e-45699a10d589"
      },
      "source": [
        "X_train, y_train = next(iter(train_loader))\n",
        "\n",
        "pltsize = 1\n",
        "plt.figure(figsize = (10 * pltsize ,pltsize))\n",
        "for i in range(10):\n",
        "  plt.subplot(1, 10 , i + 1)\n",
        "  plt.axis('off')\n",
        "  plt.imshow(X_train[i, : , :, :].numpy().reshape(28,28), cmap = 'gray_r')\n",
        "  plt.title('class:' + str(y_train[i].item()))"
      ],
      "execution_count": 6,
      "outputs": [
        {
          "output_type": "display_data",
          "data": {
            "image/png": "[encoded data removed]",
            "text/plain": [
              "<Figure size 720x72 with 10 Axes>"
            ]
          },
          "metadata": {
            "needs_background": "light"
          }
        }
      ]
    },
    {
      "cell_type": "markdown",
      "metadata": {
        "id": "pEeYDYgS96Z6"
      },
      "source": [
        "### 3-2) 다양한 transforms 적용해보기"
      ]
    },
    {
      "cell_type": "markdown",
      "metadata": {
        "id": "yA5Hznua96Z6"
      },
      "source": [
        "🔎 다양한 transforms 추가해서 Mnist 데이터셋을 변형해봅시다!   \n",
        "👉 (3-1에서 train_transform, test_transform를 바꿔보시길 바랍니다.)  \n",
        "🔔 [Hint](https://pytorch.org/vision/stable/transforms.html)"
      ]
    },
    {
      "cell_type": "markdown",
      "metadata": {
        "id": "7G4oBEbS96Z7"
      },
      "source": [
        "### 3-3) 더 빠른 augmentation, albumentations "
      ]
    },
    {
      "cell_type": "markdown",
      "metadata": {
        "id": "foseMCrd96Z7"
      },
      "source": [
        "🔎 Albumentations의 장점과 특징은 어떤게 있을까요?  \n",
        "👉 (빠르다. 적용이 간편하다)\n",
        "🔔 [Hint](https://hoya012.github.io/blog/albumentation_tutorial/) "
      ]
    },
    {
      "cell_type": "markdown",
      "metadata": {
        "id": "8C0MI2B896Z7"
      },
      "source": [
        "# 2. Pytorch로 구현하는 MNIST 손글씨 분류기\n",
        "---\n",
        "우리는 위에서 DATASET과 DATALOADER를 살펴보았습니다.  \n",
        "이번에는 Pytorch로 MNIST를 학습하는 코드를 적용해보겠습니다.  \n",
        "마찬가지로 중간중간에 있는 문제를 푸시면 됩니다!"
      ]
    },
    {
      "cell_type": "markdown",
      "metadata": {
        "id": "I-ptU7Xl96Z8"
      },
      "source": [
        "## 1) 도우미 함수 정의"
      ]
    },
    {
      "cell_type": "code",
      "metadata": {
        "id": "roM5gKx396Z9"
      },
      "source": [
        "def train_epoch(network, loader, optimizer, criterion):\n",
        "    cumu_loss = 0\n",
        "    cumu_acc = 0\n",
        "    total = 0\n",
        "\n",
        "    for _, (data, target) in enumerate(loader):\n",
        "        data, target = data.to(DEVICE), target.to(DEVICE)\n",
        "        optimizer.zero_grad()\n",
        "\n",
        "        loss = criterion(network(data), target)\n",
        "        cumu_loss += loss.item()\n",
        "        _, predicted = torch.max(network(data).data, 1)\n",
        "        total += target.size(0)\n",
        "        cumu_acc += (predicted == target).sum().item()\n",
        "\n",
        "        loss.backward()\n",
        "        optimizer.step()\n",
        "        network.eval() \n",
        "    return cumu_loss / len(loader), 100 * cumu_acc / total"
      ],
      "execution_count": 7,
      "outputs": []
    },
    {
      "cell_type": "code",
      "metadata": {
        "id": "nY7vlD-8BBCC"
      },
      "source": [
        "def evaluate(model, test_loader, criterion):\n",
        "  model.eval() # 모델을 평가상태(test 상태)로 지정 \n",
        "  test_loss = 0 # test_loss 초기값 \n",
        "  correct = 0 # 올바른 class로 분류한 카운트를 세기위해 0으로 설정 \n",
        "\n",
        "  with torch.no_grad(): # 평가시에는 gradiant를 통해 패러미터 업데이트를 하지않음 \n",
        "    for image, label in test_loader: # mini_batch 단위로 꺼내기 \n",
        "      image = image.to(DEVICE) # DEVICE 할당\n",
        "      label = label.to(DEVICE) # DEVICE에 할당\n",
        "      output = model(image)    # 모델에 input을 넣어 output 계산 \n",
        "      test_loss += criterion(output, label).item() # output과 label의 loss 계산 \n",
        "      prediction = output.max(1, keepdim = True)[1] # output은 길이가 10인 벡터값 \n",
        "                                                    # 그중에서 가장 큰값인 위치의 라벨로\n",
        "                                                    # 예측햇다고 판단 \n",
        "      correct += prediction.eq(label.view_as(prediction)).sum().item() # eq() 메서드는 라벨과 예측이 같으면(equal) 1\n",
        "                                                                        # 다르면 0. 그 값들을더해서 correct에 더해주기 \n",
        "  test_loss /= len(test_loader.dataset)\n",
        "  test_accuracy = 100. * correct / len(test_loader.dataset)\n",
        "  return test_loss, test_accuracy"
      ],
      "execution_count": 8,
      "outputs": []
    },
    {
      "cell_type": "markdown",
      "metadata": {
        "id": "2-NPmypW96Z-"
      },
      "source": [
        "## 2) 모델 정의하기"
      ]
    },
    {
      "cell_type": "code",
      "metadata": {
        "id": "3ZkZ0FVc96Z_"
      },
      "source": [
        "class ConvNet(nn.Module):\n",
        "    def __init__(self, fc_layer_size, dropout):\n",
        "        super(ConvNet, self).__init__() # nn.Module 의 init 상속\n",
        "        self.layer1 = nn.Sequential(\n",
        "            nn.Conv2d(1, 32, 3, 1, 1),\n",
        "            nn.ReLU(),\n",
        "            nn.MaxPool2d(2, 2))\n",
        "        self.layer2 = nn.Sequential(\n",
        "            nn.Conv2d(32, 64, 3, 1, 1),\n",
        "            nn.ReLU(),\n",
        "            nn.MaxPool2d(2, 2))\n",
        "        self.layer3 = nn.Sequential(\n",
        "            nn.Linear(64 * 7 * 7, fc_layer_size, bias=True),\n",
        "            nn.ReLU(),\n",
        "            nn.Dropout2d(p=dropout))\n",
        "        self.layer4 = nn.Sequential(\n",
        "            nn.Linear(fc_layer_size, 84),\n",
        "            nn.ReLU(),\n",
        "            nn.Dropout2d(p=dropout))\n",
        "        self.fc3 = nn.Linear(84, 10)\n",
        "\n",
        "    # Forward Propagation 정의\n",
        "    def forward(self, x):\n",
        "        x = self.layer1(x)\n",
        "        x = self.layer2(x)\n",
        "        x = x.view(x.size(0),-1) \n",
        "        x = self.layer3(x)\n",
        "        x = self.layer4(x)\n",
        "        x = self.fc3(x)\n",
        "        return x\n",
        "\n",
        "model = ConvNet(FC_LAYER_SIZE, DROOUT).to(DEVICE) "
      ],
      "execution_count": 9,
      "outputs": []
    },
    {
      "cell_type": "markdown",
      "metadata": {
        "id": "YTbP-z9i96aA"
      },
      "source": [
        "## 3) 학습 진행하기"
      ]
    },
    {
      "cell_type": "code",
      "metadata": {
        "id": "_OD4YKjG-tkc"
      },
      "source": [
        "if OPTIMIZER == \"sgd\":\n",
        "    optimizer = torch.optim.SGD(model.parameters(), lr=LR, momentum=0.9)\n",
        "elif OPTIMIZER == \"adam\":\n",
        "    optimizer = torch.optim.Adam(model.parameters(), lr=LR)\n",
        "criterion = nn.CrossEntropyLoss() # Loss 기준은 CrossEntropyLoss로"
      ],
      "execution_count": 10,
      "outputs": []
    },
    {
      "cell_type": "markdown",
      "metadata": {
        "id": "ENS5b73D96aB"
      },
      "source": [
        "**🔎 torch.optim에는 어떤 optimizer들을 구현할 수 있나요? ([공식 document](https://pytorch.org/docs/stable/optim.html?highlight=optim#module-torch.optim)를 참조하여 2개 이상 적어주세요.)**  \n",
        "👉 rmsprop, adam"
      ]
    },
    {
      "cell_type": "markdown",
      "metadata": {
        "id": "kxPh9m3096aC"
      },
      "source": [
        "**🔎 nn.Module에서 활용할 수 있는 Loss function에는 어떤 것들이 구현할 수 있나요? ([공식 document-Loss function](https://pytorch.org/docs/stable/nn.html?highlight=loss#loss-functions)를 참조하여 2개 이상 적어주세요.)**  \n",
        "👉 CrossEntropy Loss, BCELoss"
      ]
    },
    {
      "cell_type": "code",
      "metadata": {
        "colab": {
          "base_uri": "https://localhost:8080/"
        },
        "id": "1dgbuXWC96aD",
        "outputId": "a1360c58-7e6e-493d-f4fd-1610ef7562b1"
      },
      "source": [
        "for epoch in range(EPOCH):\n",
        "    avg_loss, avg_acc = train_epoch(model, train_loader, optimizer, criterion)\n",
        "    print(f\"TRAIN: EPOCH {epoch + 1:04d} / {EPOCH:04d} | Epoch LOSS {avg_loss:.4f} | Epoch ACC {avg_acc:.2f}% \")"
      ],
      "execution_count": 11,
      "outputs": [
        {
          "output_type": "stream",
          "name": "stderr",
          "text": [
            "/usr/local/lib/python3.7/dist-packages/torch/nn/functional.py:718: UserWarning: Named tensors and all their associated APIs are an experimental feature and subject to change. Please do not use them for anything important until they are released as stable. (Triggered internally at  /pytorch/c10/core/TensorImpl.h:1156.)\n",
            "  return torch.max_pool2d(input, kernel_size, stride, padding, dilation, ceil_mode)\n"
          ]
        },
        {
          "output_type": "stream",
          "name": "stdout",
          "text": [
            "TRAIN: EPOCH 0001 / 0010 | Epoch LOSS 1.8320 | Epoch ACC 43.60% \n",
            "TRAIN: EPOCH 0002 / 0010 | Epoch LOSS 0.3572 | Epoch ACC 89.30% \n",
            "TRAIN: EPOCH 0003 / 0010 | Epoch LOSS 0.1802 | Epoch ACC 94.54% \n",
            "TRAIN: EPOCH 0004 / 0010 | Epoch LOSS 0.1268 | Epoch ACC 96.21% \n",
            "TRAIN: EPOCH 0005 / 0010 | Epoch LOSS 0.1003 | Epoch ACC 96.91% \n",
            "TRAIN: EPOCH 0006 / 0010 | Epoch LOSS 0.0808 | Epoch ACC 97.56% \n",
            "TRAIN: EPOCH 0007 / 0010 | Epoch LOSS 0.0652 | Epoch ACC 98.18% \n",
            "TRAIN: EPOCH 0008 / 0010 | Epoch LOSS 0.0569 | Epoch ACC 98.19% \n",
            "TRAIN: EPOCH 0009 / 0010 | Epoch LOSS 0.0491 | Epoch ACC 98.47% \n",
            "TRAIN: EPOCH 0010 / 0010 | Epoch LOSS 0.0424 | Epoch ACC 98.73% \n"
          ]
        }
      ]
    },
    {
      "cell_type": "code",
      "metadata": {
        "colab": {
          "base_uri": "https://localhost:8080/"
        },
        "id": "v7PZeRlz96aE",
        "outputId": "ec021847-cb51-4306-d9a6-ede9c22e3a82"
      },
      "source": [
        "test_loss, test_accuracy = evaluate(model, test_loader, criterion)\n",
        "print(f\"Test LOSS {test_loss:.4f} | Test ACC {test_accuracy:.2f}% \")"
      ],
      "execution_count": 12,
      "outputs": [
        {
          "output_type": "stream",
          "name": "stdout",
          "text": [
            "Test LOSS 0.0006 | Test ACC 97.55% \n"
          ]
        }
      ]
    },
    {
      "cell_type": "markdown",
      "metadata": {
        "id": "GGpNeApC96aE"
      },
      "source": [
        "## 4) BATCH Normalization적용하고 학습하기"
      ]
    },
    {
      "cell_type": "code",
      "metadata": {
        "id": "JkpA_9XV96aF"
      },
      "source": [
        "class ConvNet(nn.Module):\n",
        "    def __init__(self, fc_layer_size, dropout):\n",
        "        super(ConvNet, self).__init__() # nn.Module 의 init 상속\n",
        "        self.layer1 = nn.Sequential(\n",
        "            nn.Conv2d(1, 32, 3, 1, 1),\n",
        "            nn.ReLU(),\n",
        "            nn.MaxPool2d(2, 2))\n",
        "        self.layer2 = nn.Sequential(\n",
        "            nn.Conv2d(32, 64, 3, 1, 1),\n",
        "            nn.ReLU(),\n",
        "            nn.MaxPool2d(2, 2))\n",
        "        self.layer3 = nn.Sequential(\n",
        "            nn.Linear(64 * 7 * 7, fc_layer_size, bias=True),\n",
        "            nn.BatchNorm1d(fc_layer_size),\n",
        "            nn.ReLU(),\n",
        "            nn.Dropout2d(p=dropout),)\n",
        "        self.layer4 = nn.Sequential(\n",
        "            nn.Linear(fc_layer_size, 84),\n",
        "            nn.BatchNorm1d(84),\n",
        "            nn.ReLU(),\n",
        "            nn.Dropout2d(p=dropout),)\n",
        "        self.fc3 = nn.Linear(84, 10)\n",
        "\n",
        "    # Forward Propagation 정의\n",
        "    def forward(self, x):\n",
        "        x = self.layer1(x)\n",
        "        x = self.layer2(x)\n",
        "        x = x.view(x.size(0),-1) \n",
        "        x = self.layer3(x)\n",
        "        x = self.layer4(x)\n",
        "        x = self.fc3(x)\n",
        "        return x\n",
        "\n",
        "model = ConvNet(FC_LAYER_SIZE, DROOUT).to(DEVICE) "
      ],
      "execution_count": 13,
      "outputs": []
    },
    {
      "cell_type": "code",
      "metadata": {
        "id": "balChlpl96aG"
      },
      "source": [
        "if OPTIMIZER == \"sgd\":\n",
        "    optimizer = torch.optim.SGD(model.parameters(), lr=LR, momentum=0.9)\n",
        "elif OPTIMIZER == \"adam\":\n",
        "    optimizer = torch.optim.Adam(model.parameters(), lr=LR)\n",
        "criterion = nn.CrossEntropyLoss() # Loss 기준은 CrossEntropyLoss로"
      ],
      "execution_count": 14,
      "outputs": []
    },
    {
      "cell_type": "code",
      "metadata": {
        "colab": {
          "base_uri": "https://localhost:8080/"
        },
        "id": "ibZ2IZVe96aG",
        "outputId": "eb4e1f12-1741-40f2-990f-c3faaa7c7074"
      },
      "source": [
        "for epoch in range(EPOCH):\n",
        "    avg_loss, avg_acc = train_epoch(model, train_loader, optimizer, criterion)\n",
        "    print(f\"TRAIN: EPOCH {epoch + 1:04d} / {EPOCH:04d} | Epoch LOSS {avg_loss:.4f} | Epoch ACC {avg_acc:.2f}% \")"
      ],
      "execution_count": 15,
      "outputs": [
        {
          "output_type": "stream",
          "name": "stdout",
          "text": [
            "TRAIN: EPOCH 0001 / 0010 | Epoch LOSS 1.2432 | Epoch ACC 64.83% \n",
            "TRAIN: EPOCH 0002 / 0010 | Epoch LOSS 0.2675 | Epoch ACC 92.05% \n",
            "TRAIN: EPOCH 0003 / 0010 | Epoch LOSS 0.1558 | Epoch ACC 95.41% \n",
            "TRAIN: EPOCH 0004 / 0010 | Epoch LOSS 0.1118 | Epoch ACC 96.44% \n",
            "TRAIN: EPOCH 0005 / 0010 | Epoch LOSS 0.0890 | Epoch ACC 97.31% \n",
            "TRAIN: EPOCH 0006 / 0010 | Epoch LOSS 0.0736 | Epoch ACC 97.78% \n",
            "TRAIN: EPOCH 0007 / 0010 | Epoch LOSS 0.0600 | Epoch ACC 98.19% \n",
            "TRAIN: EPOCH 0008 / 0010 | Epoch LOSS 0.0475 | Epoch ACC 98.56% \n",
            "TRAIN: EPOCH 0009 / 0010 | Epoch LOSS 0.0418 | Epoch ACC 98.73% \n",
            "TRAIN: EPOCH 0010 / 0010 | Epoch LOSS 0.0387 | Epoch ACC 98.88% \n"
          ]
        }
      ]
    },
    {
      "cell_type": "code",
      "metadata": {
        "colab": {
          "base_uri": "https://localhost:8080/"
        },
        "id": "OjrHdVD296aH",
        "outputId": "ce93ced1-8264-46bc-be66-7ddec67da4d3"
      },
      "source": [
        "test_loss, test_accuracy = evaluate(model, test_loader, criterion)\n",
        "print(f\"Test LOSS {test_loss:.4f} | Test ACC {test_accuracy:.2f}% \")"
      ],
      "execution_count": 16,
      "outputs": [
        {
          "output_type": "stream",
          "name": "stdout",
          "text": [
            "Test LOSS 0.0006 | Test ACC 97.60% \n"
          ]
        }
      ]
    },
    {
      "cell_type": "markdown",
      "metadata": {
        "id": "g1pfG2z196aI"
      },
      "source": [
        "Batch norm을 적용하여서 성능 향상이 되었습니다."
      ]
    },
    {
      "cell_type": "markdown",
      "metadata": {
        "id": "KiO6rMkX96aI"
      },
      "source": [
        "# 3. 모델 저장하고 불러오기\n",
        "---\n",
        "이번에는 저장하기나 불러오기를 통해 모델의 상태를 유지(persist)하고 모델의 예측을 실행하는 방법을 알아보겠습니다.  \n",
        "모델을 저장할 때는 두 가지 방법 중 한 방법을 선택할 수 있는데, 모델 전체를 저장하는 방법과 모델의 state_dict만 저장하는 방법이 있습니다."
      ]
    },
    {
      "cell_type": "markdown",
      "metadata": {
        "id": "tsry2Y2N96aI"
      },
      "source": [
        "## 1) 모델 전체 저장"
      ]
    },
    {
      "cell_type": "code",
      "metadata": {
        "id": "scSml8dy96aI"
      },
      "source": [
        "# Case 1\n",
        "torch.save(model, 'ConvNet.pt')\n",
        "# Load model\n",
        "model = torch.load('ConvNet.pt')"
      ],
      "execution_count": 17,
      "outputs": []
    },
    {
      "cell_type": "markdown",
      "metadata": {
        "id": "dmJ78vv496aJ"
      },
      "source": [
        "## 2) 모델의 state_dict만 저장"
      ]
    },
    {
      "cell_type": "code",
      "metadata": {
        "colab": {
          "base_uri": "https://localhost:8080/"
        },
        "id": "vRCaViTN96aJ",
        "outputId": "b5a0f782-6b50-476c-b27c-597f401a91ba"
      },
      "source": [
        "# Case 1\n",
        "torch.save(model.state_dict(), 'ConvNet_dict.pt')\n",
        "# Load model\n",
        "model.load_state_dict(torch.load('ConvNet_dict.pt'))"
      ],
      "execution_count": 18,
      "outputs": [
        {
          "output_type": "execute_result",
          "data": {
            "text/plain": [
              "<All keys matched successfully>"
            ]
          },
          "metadata": {},
          "execution_count": 18
        }
      ]
    },
    {
      "cell_type": "markdown",
      "metadata": {
        "id": "3cOnvi0696aJ"
      },
      "source": [
        "🔎 model 전체를 저장하는 것과 state_dict만 저장하는 것은 무슨 차이가 있을까요? ([모델 저장하기 & 불러오기](https://tutorials.pytorch.kr/beginner/saving_loading_models.html)를 참조하세요.)  \n",
        "👉 pkl로 저장하면 디렉토리를 바꾸면 에러날 수 있다.\n",
        "state_dict는 각 계층의 파라미터와 옵티마이저의 하이퍼파라미터를 dict 형식으로 저장한다."
      ]
    },
    {
      "cell_type": "markdown",
      "metadata": {
        "id": "qBQilm-I96aJ"
      },
      "source": [
        "### 2-1) 체크포인트(checkpoint) 저장하기 & 불러오기"
      ]
    },
    {
      "cell_type": "code",
      "metadata": {
        "id": "rAP5vUL596aK"
      },
      "source": [
        "torch.save({\n",
        "            'epoch': EPOCH,\n",
        "            'model_state_dict': model.state_dict(),\n",
        "            'optimizer_state_dict': optimizer.state_dict(),\n",
        "            'loss': criterion,\n",
        "            }, \n",
        "           'ConvNet_dict.pt')"
      ],
      "execution_count": 19,
      "outputs": []
    },
    {
      "cell_type": "code",
      "metadata": {
        "id": "aAOcjtrM96aL"
      },
      "source": [
        "model = ConvNet(FC_LAYER_SIZE, DROOUT).to(DEVICE) \n",
        "optimizer = torch.optim.SGD(model.parameters(), lr=LR, momentum=0.9)\n",
        "\n",
        "checkpoint = torch.load('ConvNet_dict.pt')\n",
        "model.load_state_dict(checkpoint['model_state_dict'])\n",
        "optimizer.load_state_dict(checkpoint['optimizer_state_dict'])\n",
        "epoch = checkpoint['epoch']\n",
        "loss = checkpoint['loss']"
      ],
      "execution_count": 20,
      "outputs": []
    },
    {
      "cell_type": "code",
      "metadata": {
        "colab": {
          "base_uri": "https://localhost:8080/"
        },
        "id": "6xIt2VgC96aL",
        "outputId": "c524edf5-7ba4-4822-b5e6-d2ccf7c36b4f"
      },
      "source": [
        "print(optimizer)\n",
        "print(epoch)\n",
        "print(loss)"
      ],
      "execution_count": 21,
      "outputs": [
        {
          "output_type": "stream",
          "name": "stdout",
          "text": [
            "SGD (\n",
            "Parameter Group 0\n",
            "    dampening: 0\n",
            "    lr: 0.01\n",
            "    momentum: 0.9\n",
            "    nesterov: False\n",
            "    weight_decay: 0\n",
            ")\n",
            "10\n",
            "CrossEntropyLoss()\n"
          ]
        }
      ]
    },
    {
      "cell_type": "code",
      "metadata": {
        "id": "pMh76tkWBch2"
      },
      "source": [
        ""
      ],
      "execution_count": 21,
      "outputs": []
    }
  ]
}