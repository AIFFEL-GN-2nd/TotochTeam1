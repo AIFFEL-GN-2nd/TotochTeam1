{
  "nbformat": 4,
  "nbformat_minor": 2,
  "metadata": {
    "colab": {
      "name": "파이토치 코드_0929",
      "provenance": []
    },
    "kernelspec": {
      "name": "python3",
      "display_name": "Python 3.8.0 64-bit ('torch': conda)"
    },
    "language_info": {
      "name": "python",
      "version": "3.8.0",
      "mimetype": "text/x-python",
      "codemirror_mode": {
        "name": "ipython",
        "version": 3
      },
      "pygments_lexer": "ipython3",
      "nbconvert_exporter": "python",
      "file_extension": ".py"
    },
    "interpreter": {
      "hash": "93f0d9e47ee3596f3a4c40963a5f80a2a8195902cfa23a0f0d123dcd43c69f1e"
    }
  },
  "cells": [
    {
      "cell_type": "markdown",
      "source": [
        "# 이웃집 토토치 파이토치 : Day 3\r\n",
        "\r\n",
        "📢 해당 게시물은 파이토치 공식 튜토리얼 중 \r\n",
        "[DATASET과 DATALOADER](https://tutorials.pytorch.kr/beginner/basics/data_tutorial.html)와 \r\n",
        "[분류기(CLASSIFIER) 학습하기](https://tutorials.pytorch.kr/beginner/blitz/cifar10_tutorial.html#sphx-glr-beginner-blitz-cifar10-tutorial-py)\r\n",
        "[모델 저장하고 불러오기](https://tutorials.pytorch.kr/beginner/saving_loading_models.html)\r\n",
        "를 읽고 직접 작성해보는 실습 노트북입니다.  \r\n",
        "\r\n",
        "#### 목차\r\n",
        "1. DATASET과 DATALOADER\r\n",
        "    1. 필요 모듈 준비\r\n",
        "    2. Configration 설정\r\n",
        "    3. 데이터 준비\r\n",
        "2. Pytorch로 구현하는 MNIST 손글씨 분류기\r\n",
        "    1. 도우미 함수 정의\r\n",
        "    2. 모델 정의하기\r\n",
        "    3. 학습 진행하기\r\n",
        "    4. Batch Norm 적용하고 학습하기\r\n",
        "3. 모델 저장하고 불러오기\r\n",
        "    1. 모델 전제 저장\r\n",
        "    2. 모델의 state_dict만 저장\r\n"
      ],
      "metadata": {}
    },
    {
      "cell_type": "markdown",
      "source": [
        "# 1. DATASET과 DATALOADER\r\n",
        "---\r\n",
        "\r\n",
        "데이터 샘플을 처리하는 코드는 지저분(messy)하고 유지보수가 어려울 수 있습니다. 더 나은 가독성(readability)과 모듈성(modularity)을 위해 데이터셋 코드를 모델 학습 코드로부터 분리하는 것이 이상적입니다. PyTorch는 ``torch.utils.data.DataLoader``와 ``torch.utils.data.Dataset`` 의 두 가지 데이터 기본 요소를 제공하여 미리 준비해된(pre-loaded) 데이터셋 뿐만 아니라 가지고 있는 데이터를 사용할 수 있도록 합니다.\r\n",
        "``Dataset`` 은 샘플과 정답(label)을 저장하고, ``DataLoader`` 는 ``Dataset`` 을 샘플에 쉽게 접근할 수 있도록 순회 가능한 객체(iterable)로 감쌉니다.\r\n",
        "\r\n",
        "PyTorch의 도메인 특화 라이브러리들은 (FashionMNIST와 같은) 다양한 미리 준비해둔(pre-loaded) 데이터셋을 제공합니다. 데이터셋은 ``torch.utils.data.Dataset`` 의 하위 클래스로 개별 데이터를 특정하는 함수가 구현되어 있습니다. 이러한 데이터셋은 모델을 만들어보고(prototype) 성능을 측정(benchmark)하는데 사용할 수 있습니다.\r\n",
        "\r\n",
        "여기에서 데이터셋들을 찾아볼 수 있습니다:\r\n",
        "[이미지 데이터셋](https://pytorch.org/vision/stable/datasets.html), \r\n",
        "[텍스트 데이터셋](https://pytorch.org/text/stable/datasets.html) 및\r\n",
        "[오디오 데이터셋](https://pytorch.org/audio/stable/datasets.html)"
      ],
      "metadata": {}
    },
    {
      "cell_type": "markdown",
      "source": [
        "## 1) 필요 모듈 준비"
      ],
      "metadata": {}
    },
    {
      "cell_type": "code",
      "execution_count": 44,
      "source": [
        "import matplotlib.pyplot as plt\r\n",
        "import torch\r\n",
        "import torch.nn as nn    \r\n",
        "from torchvision import transforms, datasets\r\n",
        "from torch.utils.data import DataLoader, Subset\r\n"
      ],
      "outputs": [],
      "metadata": {
        "id": "vbhzwyVwIRaq"
      }
    },
    {
      "cell_type": "markdown",
      "source": [
        "## 2) Configration 설정"
      ],
      "metadata": {}
    },
    {
      "cell_type": "code",
      "execution_count": 53,
      "source": [
        "DEVICE = \"cuda\" if torch.cuda.is_available() else \"cpu\"\r\n",
        "EPOCH = 10\r\n",
        "BATCH_SIZE = 128\r\n",
        "FC_LAYER_SIZE = 128\r\n",
        "LR = 0.01\r\n",
        "DROOUT = 0.5\r\n",
        "OPTIMIZER = 'sgd'"
      ],
      "outputs": [],
      "metadata": {
        "id": "iLTqzrd0LJik"
      }
    },
    {
      "cell_type": "markdown",
      "source": [
        "## 3) 데이터 준비"
      ],
      "metadata": {}
    },
    {
      "cell_type": "markdown",
      "source": [
        "### 3-1) 기존 TorchVision Data Pipeline"
      ],
      "metadata": {}
    },
    {
      "cell_type": "code",
      "execution_count": 46,
      "source": [
        "train_transform = transforms.Compose([transforms.ToTensor(),\r\n",
        "                                      transforms.Normalize([0.5,],[0.5,])])\r\n",
        "test_transform = transforms.Compose([ transforms.ToTensor(),\r\n",
        "                                      transforms.Normalize([0.5,],[0.5])])\r\n",
        "\r\n",
        "train_dataset = datasets.MNIST(root = '../MNIST', # 데이터 저장될장소 \r\n",
        "                               train = True, # train인지 test인지 \r\n",
        "                               download = True,# 인터넷에서 다운로드해 이용할건지 \r\n",
        "                               transform = train_transform) \r\n",
        "\r\n",
        "test_dataset = datasets.MNIST(root = '../MNIST', train = False,\r\n",
        "                               download = True, transform = test_transform)\r\n",
        "\r\n",
        "# Subset을 사용하면 Dataset의 부분 집합만 가져올 수 있음.\r\n",
        "train_sub_dataset = Subset(train_dataset, indices=range(0, len(train_dataset), 5))\r\n",
        "test_sub_dataset = Subset(test_dataset, indices=range(0, len(test_dataset), 5))\r\n",
        "\r\n",
        "train_loader = DataLoader(dataset = train_sub_dataset,\r\n",
        "                         batch_size = BATCH_SIZE,\r\n",
        "                         shuffle = True)\r\n",
        "\r\n",
        "test_loader = DataLoader(dataset = test_sub_dataset,\r\n",
        "                         batch_size = BATCH_SIZE)"
      ],
      "outputs": [],
      "metadata": {
        "id": "euieV7xAMGpE"
      }
    },
    {
      "cell_type": "markdown",
      "source": [
        "Subset은 Dataset의 부분 집합을 가져오는 함수입니다.  \r\n",
        "Dataset 원본으로 학습을 시켰을 경우 16~17분 정도가 걸리지만, Subset으로 학습을 할 경우 3~4분 정도가 걸립니다. "
      ],
      "metadata": {}
    },
    {
      "cell_type": "code",
      "execution_count": 47,
      "source": [
        "X_train, y_train = next(iter(train_loader))\r\n",
        "\r\n",
        "pltsize = 1\r\n",
        "plt.figure(figsize = (10 * pltsize ,pltsize))\r\n",
        "for i in range(10):\r\n",
        "  plt.subplot(1, 10 , i + 1)\r\n",
        "  plt.axis('off')\r\n",
        "  plt.imshow(X_train[i, : , :, :].numpy().reshape(28,28), cmap = 'gray_r')\r\n",
        "  plt.title('class:' + str(y_train[i].item()))"
      ],
      "outputs": [
        {
          "output_type": "display_data",
          "data": {
            "image/png": "[encoded data removed]",
            "text/plain": [
              "<Figure size 720x72 with 10 Axes>"
            ]
          },
          "metadata": {
            "needs_background": "light"
          }
        }
      ],
      "metadata": {
        "colab": {
          "base_uri": "https://localhost:8080/",
          "height": 94
        },
        "id": "ih1u4er1cruk",
        "outputId": "7ce5c11b-770a-4074-be58-100a2633ad50"
      }
    },
    {
      "cell_type": "markdown",
      "source": [
        "### 3-2) 다양한 transforms 적용해보기"
      ],
      "metadata": {}
    },
    {
      "cell_type": "markdown",
      "source": [
        "🔎 다양한 transforms 추가해서 Mnist 데이터셋을 변형해봅시다!   \r\n",
        "👉 (3-1에서 train_transform, test_transform를 바꿔보시길 바랍니다.)  \r\n",
        "🔔 [Hint](https://pytorch.org/vision/stable/transforms.html)"
      ],
      "metadata": {}
    },
    {
      "cell_type": "markdown",
      "source": [
        "### 3-3) 더 빠른 augmentation, albumentations "
      ],
      "metadata": {}
    },
    {
      "cell_type": "markdown",
      "source": [
        "🔎 Albumentations의 장점과 특징은 어떤게 있을까요?  \r\n",
        "👉 (괄호를 지우고 적어주세요!)   \r\n",
        "🔔 [Hint](https://hoya012.github.io/blog/albumentation_tutorial/) "
      ],
      "metadata": {}
    },
    {
      "cell_type": "markdown",
      "source": [
        "# 2. Pytorch로 구현하는 MNIST 손글씨 분류기\r\n",
        "---\r\n",
        "우리는 위에서 DATASET과 DATALOADER를 살펴보았습니다.  \r\n",
        "이번에는 Pytorch로 MNIST를 학습하는 코드를 적용해보겠습니다.  \r\n",
        "마찬가지로 중간중간에 있는 문제를 푸시면 됩니다!"
      ],
      "metadata": {}
    },
    {
      "cell_type": "markdown",
      "source": [
        "## 1) 도우미 함수 정의"
      ],
      "metadata": {}
    },
    {
      "cell_type": "code",
      "execution_count": 48,
      "source": [
        "def train_epoch(network, loader, optimizer, criterion):\r\n",
        "    cumu_loss = 0\r\n",
        "    cumu_acc = 0\r\n",
        "    total = 0\r\n",
        "\r\n",
        "    for _, (data, target) in enumerate(loader):\r\n",
        "        data, target = data.to(DEVICE), target.to(DEVICE)\r\n",
        "        optimizer.zero_grad()\r\n",
        "\r\n",
        "        loss = criterion(network(data), target)\r\n",
        "        cumu_loss += loss.item()\r\n",
        "        _, predicted = torch.max(network(data).data, 1)\r\n",
        "        total += target.size(0)\r\n",
        "        cumu_acc += (predicted == target).sum().item()\r\n",
        "\r\n",
        "        loss.backward()\r\n",
        "        optimizer.step()\r\n",
        "        network.eval() \r\n",
        "    return cumu_loss / len(loader), 100 * cumu_acc / total"
      ],
      "outputs": [],
      "metadata": {}
    },
    {
      "cell_type": "code",
      "execution_count": 49,
      "source": [
        "def evaluate(model, test_loader, criterion):\r\n",
        "  model.eval() # 모델을 평가상태(test 상태)로 지정 \r\n",
        "  test_loss = 0 # test_loss 초기값 \r\n",
        "  correct = 0 # 올바른 class로 분류한 카운트를 세기위해 0으로 설정 \r\n",
        "\r\n",
        "  with torch.no_grad(): # 평가시에는 gradiant를 통해 패러미터 업데이트를 하지않음 \r\n",
        "    for image, label in test_loader: # mini_batch 단위로 꺼내기 \r\n",
        "      image = image.to(DEVICE) # DEVICE 할당\r\n",
        "      label = label.to(DEVICE) # DEVICE에 할당\r\n",
        "      output = model(image)    # 모델에 input을 넣어 output 계산 \r\n",
        "      test_loss += criterion(output, label).item() # output과 label의 loss 계산 \r\n",
        "      prediction = output.max(1, keepdim = True)[1] # output은 길이가 10인 벡터값 \r\n",
        "                                                    # 그중에서 가장 큰값인 위치의 라벨로\r\n",
        "                                                    # 예측햇다고 판단 \r\n",
        "      correct += prediction.eq(label.view_as(prediction)).sum().item() # eq() 메서드는 라벨과 예측이 같으면(equal) 1\r\n",
        "                                                                        # 다르면 0. 그 값들을더해서 correct에 더해주기 \r\n",
        "  test_loss /= len(test_loader.dataset)\r\n",
        "  test_accuracy = 100. * correct / len(test_loader.dataset)\r\n",
        "  return test_loss, test_accuracy"
      ],
      "outputs": [],
      "metadata": {
        "id": "nY7vlD-8BBCC"
      }
    },
    {
      "cell_type": "markdown",
      "source": [
        "## 2) 모델 정의하기"
      ],
      "metadata": {}
    },
    {
      "cell_type": "code",
      "execution_count": 56,
      "source": [
        "class ConvNet(nn.Module):\r\n",
        "    def __init__(self, fc_layer_size, dropout):\r\n",
        "        super(ConvNet, self).__init__() # nn.Module 의 init 상속\r\n",
        "        self.layer1 = nn.Sequential(\r\n",
        "            nn.Conv2d(1, 32, 3, 1, 1),\r\n",
        "            nn.ReLU(),\r\n",
        "            nn.MaxPool2d(2, 2))\r\n",
        "        self.layer2 = nn.Sequential(\r\n",
        "            nn.Conv2d(32, 64, 3, 1, 1),\r\n",
        "            nn.ReLU(),\r\n",
        "            nn.MaxPool2d(2, 2))\r\n",
        "        self.layer3 = nn.Sequential(\r\n",
        "            nn.Linear(64 * 7 * 7, fc_layer_size, bias=True),\r\n",
        "            nn.ReLU(),\r\n",
        "            nn.Dropout2d(p=dropout))\r\n",
        "        self.layer4 = nn.Sequential(\r\n",
        "            nn.Linear(fc_layer_size, 84),\r\n",
        "            nn.ReLU(),\r\n",
        "            nn.Dropout2d(p=dropout))\r\n",
        "        self.fc3 = nn.Linear(84, 10)\r\n",
        "\r\n",
        "    # Forward Propagation 정의\r\n",
        "    def forward(self, x):\r\n",
        "        x = self.layer1(x)\r\n",
        "        x = self.layer2(x)\r\n",
        "        x = x.view(x.size(0),-1) \r\n",
        "        x = self.layer3(x)\r\n",
        "        x = self.layer4(x)\r\n",
        "        x = self.fc3(x)\r\n",
        "        return x\r\n",
        "\r\n",
        "model = ConvNet(FC_LAYER_SIZE, DROOUT).to(DEVICE) "
      ],
      "outputs": [],
      "metadata": {}
    },
    {
      "cell_type": "markdown",
      "source": [
        "## 3) 학습 진행하기"
      ],
      "metadata": {}
    },
    {
      "cell_type": "code",
      "execution_count": 57,
      "source": [
        "if OPTIMIZER == \"sgd\":\r\n",
        "    optimizer = torch.optim.SGD(model.parameters(), lr=LR, momentum=0.9)\r\n",
        "elif OPTIMIZER == \"adam\":\r\n",
        "    optimizer = torch.optim.Adam(model.parameters(), lr=LR)\r\n",
        "criterion = nn.CrossEntropyLoss() # Loss 기준은 CrossEntropyLoss로"
      ],
      "outputs": [],
      "metadata": {
        "colab": {
          "base_uri": "https://localhost:8080/"
        },
        "id": "_OD4YKjG-tkc",
        "outputId": "53640226-1aaf-4122-9a78-6a82b2a87bae"
      }
    },
    {
      "cell_type": "markdown",
      "source": [
        "**🔎 torch.optim에는 어떤 optimizer들을 구현할 수 있나요? ([공식 document](https://pytorch.org/docs/stable/optim.html?highlight=optim#module-torch.optim)를 참조하여 2개 이상 적어주세요.)**  \r\n",
        "👉 (괄호를 지우고 적어주세요!)"
      ],
      "metadata": {}
    },
    {
      "cell_type": "markdown",
      "source": [
        "**🔎 nn.Module에서 활용할 수 있는 Loss function에는 어떤 것들이 구현할 수 있나요? ([공식 document-Loss function](https://pytorch.org/docs/stable/nn.html?highlight=loss#loss-functions)를 참조하여 2개 이상 적어주세요.)**  \r\n",
        "👉 (괄호를 지우고 적어주세요!)"
      ],
      "metadata": {}
    },
    {
      "cell_type": "code",
      "execution_count": 58,
      "source": [
        "for epoch in range(EPOCH):\r\n",
        "    avg_loss, avg_acc = train_epoch(model, train_loader, optimizer, criterion)\r\n",
        "    print(f\"TRAIN: EPOCH {epoch + 1:04d} / {EPOCH:04d} | Epoch LOSS {avg_loss:.4f} | Epoch ACC {avg_acc:.2f}% \")"
      ],
      "outputs": [
        {
          "output_type": "stream",
          "name": "stdout",
          "text": [
            "TRAIN: EPOCH 0001 / 0010 | Epoch LOSS 1.9152 | Epoch ACC 41.38% \n",
            "TRAIN: EPOCH 0002 / 0010 | Epoch LOSS 0.3931 | Epoch ACC 87.54% \n",
            "TRAIN: EPOCH 0003 / 0010 | Epoch LOSS 0.2097 | Epoch ACC 93.58% \n",
            "TRAIN: EPOCH 0004 / 0010 | Epoch LOSS 0.1493 | Epoch ACC 95.37% \n",
            "TRAIN: EPOCH 0005 / 0010 | Epoch LOSS 0.1046 | Epoch ACC 96.83% \n",
            "TRAIN: EPOCH 0006 / 0010 | Epoch LOSS 0.0897 | Epoch ACC 97.32% \n",
            "TRAIN: EPOCH 0007 / 0010 | Epoch LOSS 0.0689 | Epoch ACC 98.03% \n",
            "TRAIN: EPOCH 0008 / 0010 | Epoch LOSS 0.0607 | Epoch ACC 98.11% \n",
            "TRAIN: EPOCH 0009 / 0010 | Epoch LOSS 0.0527 | Epoch ACC 98.42% \n",
            "TRAIN: EPOCH 0010 / 0010 | Epoch LOSS 0.0454 | Epoch ACC 98.70% \n"
          ]
        }
      ],
      "metadata": {}
    },
    {
      "cell_type": "code",
      "execution_count": 59,
      "source": [
        "test_loss, test_accuracy = evaluate(model, test_loader, criterion)\r\n",
        "print(f\"Test LOSS {test_loss:.4f} | Test ACC {test_accuracy:.2f}% \")"
      ],
      "outputs": [
        {
          "output_type": "stream",
          "name": "stdout",
          "text": [
            "Test LOSS 0.0006 | Test ACC 97.90% \n"
          ]
        }
      ],
      "metadata": {}
    },
    {
      "cell_type": "markdown",
      "source": [
        "## 4) BATCH Normalization적용하고 학습하기"
      ],
      "metadata": {}
    },
    {
      "cell_type": "code",
      "execution_count": 62,
      "source": [
        "class ConvNet(nn.Module):\r\n",
        "    def __init__(self, fc_layer_size, dropout):\r\n",
        "        super(ConvNet, self).__init__() # nn.Module 의 init 상속\r\n",
        "        self.layer1 = nn.Sequential(\r\n",
        "            nn.Conv2d(1, 32, 3, 1, 1),\r\n",
        "            nn.ReLU(),\r\n",
        "            nn.MaxPool2d(2, 2))\r\n",
        "        self.layer2 = nn.Sequential(\r\n",
        "            nn.Conv2d(32, 64, 3, 1, 1),\r\n",
        "            nn.ReLU(),\r\n",
        "            nn.MaxPool2d(2, 2))\r\n",
        "        self.layer3 = nn.Sequential(\r\n",
        "            nn.Linear(64 * 7 * 7, fc_layer_size, bias=True),\r\n",
        "            nn.BatchNorm1d(fc_layer_size),\r\n",
        "            nn.ReLU(),\r\n",
        "            nn.Dropout2d(p=dropout),)\r\n",
        "        self.layer4 = nn.Sequential(\r\n",
        "            nn.Linear(fc_layer_size, 84),\r\n",
        "            nn.BatchNorm1d(84),\r\n",
        "            nn.ReLU(),\r\n",
        "            nn.Dropout2d(p=dropout),)\r\n",
        "        self.fc3 = nn.Linear(84, 10)\r\n",
        "\r\n",
        "    # Forward Propagation 정의\r\n",
        "    def forward(self, x):\r\n",
        "        x = self.layer1(x)\r\n",
        "        x = self.layer2(x)\r\n",
        "        x = x.view(x.size(0),-1) \r\n",
        "        x = self.layer3(x)\r\n",
        "        x = self.layer4(x)\r\n",
        "        x = self.fc3(x)\r\n",
        "        return x\r\n",
        "\r\n",
        "model = ConvNet(FC_LAYER_SIZE, DROOUT).to(DEVICE) "
      ],
      "outputs": [],
      "metadata": {}
    },
    {
      "cell_type": "code",
      "execution_count": 63,
      "source": [
        "if OPTIMIZER == \"sgd\":\r\n",
        "    optimizer = torch.optim.SGD(model.parameters(), lr=LR, momentum=0.9)\r\n",
        "elif OPTIMIZER == \"adam\":\r\n",
        "    optimizer = torch.optim.Adam(model.parameters(), lr=LR)\r\n",
        "criterion = nn.CrossEntropyLoss() # Loss 기준은 CrossEntropyLoss로"
      ],
      "outputs": [],
      "metadata": {}
    },
    {
      "cell_type": "code",
      "execution_count": 64,
      "source": [
        "for epoch in range(EPOCH):\r\n",
        "    avg_loss, avg_acc = train_epoch(model, train_loader, optimizer, criterion)\r\n",
        "    print(f\"TRAIN: EPOCH {epoch + 1:04d} / {EPOCH:04d} | Epoch LOSS {avg_loss:.4f} | Epoch ACC {avg_acc:.2f}% \")"
      ],
      "outputs": [
        {
          "output_type": "stream",
          "name": "stdout",
          "text": [
            "TRAIN: EPOCH 0001 / 0010 | Epoch LOSS 1.4639 | Epoch ACC 54.67% \n",
            "TRAIN: EPOCH 0002 / 0010 | Epoch LOSS 0.2883 | Epoch ACC 91.31% \n",
            "TRAIN: EPOCH 0003 / 0010 | Epoch LOSS 0.1608 | Epoch ACC 95.20% \n",
            "TRAIN: EPOCH 0004 / 0010 | Epoch LOSS 0.1063 | Epoch ACC 96.72% \n",
            "TRAIN: EPOCH 0005 / 0010 | Epoch LOSS 0.0878 | Epoch ACC 97.37% \n",
            "TRAIN: EPOCH 0006 / 0010 | Epoch LOSS 0.0694 | Epoch ACC 97.98% \n",
            "TRAIN: EPOCH 0007 / 0010 | Epoch LOSS 0.0551 | Epoch ACC 98.42% \n",
            "TRAIN: EPOCH 0008 / 0010 | Epoch LOSS 0.0433 | Epoch ACC 98.72% \n",
            "TRAIN: EPOCH 0009 / 0010 | Epoch LOSS 0.0386 | Epoch ACC 98.94% \n",
            "TRAIN: EPOCH 0010 / 0010 | Epoch LOSS 0.0369 | Epoch ACC 98.93% \n"
          ]
        }
      ],
      "metadata": {}
    },
    {
      "cell_type": "code",
      "execution_count": 65,
      "source": [
        "test_loss, test_accuracy = evaluate(model, test_loader, criterion)\r\n",
        "print(f\"Test LOSS {test_loss:.4f} | Test ACC {test_accuracy:.2f}% \")"
      ],
      "outputs": [
        {
          "output_type": "stream",
          "name": "stdout",
          "text": [
            "Test LOSS 0.0004 | Test ACC 98.15% \n"
          ]
        }
      ],
      "metadata": {}
    },
    {
      "cell_type": "markdown",
      "source": [
        "Batch norm을 적용하여서 성능 향상이 되었습니다."
      ],
      "metadata": {}
    },
    {
      "cell_type": "markdown",
      "source": [
        "# 3. 모델 저장하고 불러오기\r\n",
        "---\r\n",
        "이번에는 저장하기나 불러오기를 통해 모델의 상태를 유지(persist)하고 모델의 예측을 실행하는 방법을 알아보겠습니다.  \r\n",
        "모델을 저장할 때는 두 가지 방법 중 한 방법을 선택할 수 있는데, 모델 전체를 저장하는 방법과 모델의 state_dict만 저장하는 방법이 있습니다."
      ],
      "metadata": {}
    },
    {
      "cell_type": "markdown",
      "source": [
        "## 1) 모델 전체 저장"
      ],
      "metadata": {}
    },
    {
      "cell_type": "code",
      "execution_count": null,
      "source": [
        "# Case 1\r\n",
        "torch.save(model, 'ConvNet.pt')\r\n",
        "# Load model\r\n",
        "model = torch.load('ConvNet.pt')"
      ],
      "outputs": [],
      "metadata": {}
    },
    {
      "cell_type": "markdown",
      "source": [
        "## 2) 모델의 state_dict만 저장"
      ],
      "metadata": {}
    },
    {
      "cell_type": "code",
      "execution_count": 67,
      "source": [
        "# Case 1\r\n",
        "torch.save(model.state_dict(), 'ConvNet_dict.pt')\r\n",
        "# Load model\r\n",
        "model.load_state_dict(torch.load('ConvNet_dict.pt'))"
      ],
      "outputs": [],
      "metadata": {}
    },
    {
      "cell_type": "markdown",
      "source": [
        "🔎 model 전체를 저장하는 것과 state_dict만 저장하는 것은 무슨 차이가 있을까요? ([모델 저장하기 & 불러오기](https://tutorials.pytorch.kr/beginner/saving_loading_models.html)를 참조하세요.)  \r\n",
        "👉 (괄호를 지우고 적어주세요!)"
      ],
      "metadata": {}
    },
    {
      "cell_type": "markdown",
      "source": [
        "### 2-1) 체크포인트(checkpoint) 저장하기 & 불러오기"
      ],
      "metadata": {}
    },
    {
      "cell_type": "code",
      "execution_count": null,
      "source": [
        "torch.save({\r\n",
        "            'epoch': EPOCH,\r\n",
        "            'model_state_dict': model.state_dict(),\r\n",
        "            'optimizer_state_dict': optimizer.state_dict(),\r\n",
        "            'loss': criterion,\r\n",
        "            }, \r\n",
        "           'ConvNet_dict.pt')"
      ],
      "outputs": [],
      "metadata": {}
    },
    {
      "cell_type": "code",
      "execution_count": null,
      "source": [
        "model = ConvNet(FC_LAYER_SIZE, DROOUT).to(DEVICE) \r\n",
        "optimizer = torch.optim.SGD(model.parameters(), lr=LR, momentum=0.9)\r\n",
        "\r\n",
        "checkpoint = torch.load('ConvNet_dict.pt')\r\n",
        "model.load_state_dict(checkpoint['model_state_dict'])\r\n",
        "optimizer.load_state_dict(checkpoint['optimizer_state_dict'])\r\n",
        "epoch = checkpoint['epoch']\r\n",
        "loss = checkpoint['loss']"
      ],
      "outputs": [],
      "metadata": {}
    },
    {
      "cell_type": "code",
      "execution_count": null,
      "source": [
        "print(optimizer)\r\n",
        "print(epoch)\r\n",
        "print(loss)"
      ],
      "outputs": [],
      "metadata": {}
    }
  ]
}