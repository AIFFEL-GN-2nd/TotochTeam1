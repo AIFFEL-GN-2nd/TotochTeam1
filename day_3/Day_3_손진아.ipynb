{
  "nbformat": 4,
  "nbformat_minor": 0,
  "metadata": {
    "colab": {
      "name": "Day_3_손진아",
      "provenance": [],
      "collapsed_sections": [],
      "include_colab_link": true
    },
    "kernelspec": {
      "name": "python3",
      "display_name": "Python 3.8.0 64-bit ('torch': conda)"
    },
    "language_info": {
      "name": "python",
      "version": "3.8.0",
      "mimetype": "text/x-python",
      "codemirror_mode": {
        "name": "ipython",
        "version": 3
      },
      "pygments_lexer": "ipython3",
      "nbconvert_exporter": "python",
      "file_extension": ".py"
    },
    "interpreter": {
      "hash": "93f0d9e47ee3596f3a4c40963a5f80a2a8195902cfa23a0f0d123dcd43c69f1e"
    }
  },
  "cells": [
    {
      "cell_type": "markdown",
      "metadata": {
        "id": "view-in-github",
        "colab_type": "text"
      },
      "source": [
        "<a href=\"https://colab.research.google.com/github/sjeena0722/TotochTeam1/blob/main/day_3/Day_3_%EC%86%90%EC%A7%84%EC%95%84.ipynb\" target=\"_parent\"><img src=\"https://colab.research.google.com/assets/colab-badge.svg\" alt=\"Open In Colab\"/></a>"
      ]
    },
    {
      "cell_type": "markdown",
      "metadata": {
        "id": "qutt2gWe721X"
      },
      "source": [
        "# 이웃집 토토치 파이토치 : Day 3\n",
        "\n",
        "📢 해당 게시물은 파이토치 공식 튜토리얼 중 \n",
        "[DATASET과 DATALOADER](https://tutorials.pytorch.kr/beginner/basics/data_tutorial.html)와 \n",
        "[분류기(CLASSIFIER) 학습하기](https://tutorials.pytorch.kr/beginner/blitz/cifar10_tutorial.html#sphx-glr-beginner-blitz-cifar10-tutorial-py)\n",
        "[모델 저장하고 불러오기](https://tutorials.pytorch.kr/beginner/saving_loading_models.html)\n",
        "를 읽고 직접 작성해보는 실습 노트북입니다.  \n",
        "\n",
        "#### 목차\n",
        "1. DATASET과 DATALOADER\n",
        "    1. 필요 모듈 준비\n",
        "    2. Configration 설정\n",
        "    3. 데이터 준비\n",
        "2. Pytorch로 구현하는 MNIST 손글씨 분류기\n",
        "    1. 도우미 함수 정의\n",
        "    2. 모델 정의하기\n",
        "    3. 학습 진행하기\n",
        "    4. Batch Norm 적용하고 학습하기\n",
        "3. 모델 저장하고 불러오기\n",
        "    1. 모델 전제 저장\n",
        "    2. 모델의 state_dict만 저장\n"
      ]
    },
    {
      "cell_type": "markdown",
      "metadata": {
        "id": "PMlvZ7se721h"
      },
      "source": [
        "# 1. DATASET과 DATALOADER\n",
        "---\n",
        "\n",
        "데이터 샘플을 처리하는 코드는 지저분(messy)하고 유지보수가 어려울 수 있습니다. 더 나은 가독성(readability)과 모듈성(modularity)을 위해 데이터셋 코드를 모델 학습 코드로부터 분리하는 것이 이상적입니다. PyTorch는 ``torch.utils.data.DataLoader``와 ``torch.utils.data.Dataset`` 의 두 가지 데이터 기본 요소를 제공하여 미리 준비해된(pre-loaded) 데이터셋 뿐만 아니라 가지고 있는 데이터를 사용할 수 있도록 합니다.\n",
        "``Dataset`` 은 샘플과 정답(label)을 저장하고, ``DataLoader`` 는 ``Dataset`` 을 샘플에 쉽게 접근할 수 있도록 순회 가능한 객체(iterable)로 감쌉니다.\n",
        "\n",
        "PyTorch의 도메인 특화 라이브러리들은 (FashionMNIST와 같은) 다양한 미리 준비해둔(pre-loaded) 데이터셋을 제공합니다. 데이터셋은 ``torch.utils.data.Dataset`` 의 하위 클래스로 개별 데이터를 특정하는 함수가 구현되어 있습니다. 이러한 데이터셋은 모델을 만들어보고(prototype) 성능을 측정(benchmark)하는데 사용할 수 있습니다.\n",
        "\n",
        "여기에서 데이터셋들을 찾아볼 수 있습니다:\n",
        "[이미지 데이터셋](https://pytorch.org/vision/stable/datasets.html), \n",
        "[텍스트 데이터셋](https://pytorch.org/text/stable/datasets.html) 및\n",
        "[오디오 데이터셋](https://pytorch.org/audio/stable/datasets.html)"
      ]
    },
    {
      "cell_type": "markdown",
      "metadata": {
        "id": "s56hF2u6721m"
      },
      "source": [
        "## 1) 필요 모듈 준비"
      ]
    },
    {
      "cell_type": "code",
      "metadata": {
        "id": "vbhzwyVwIRaq"
      },
      "source": [
        "import matplotlib.pyplot as plt\n",
        "import torch\n",
        "import torch.nn as nn    \n",
        "from torchvision import transforms, datasets\n",
        "from torch.utils.data import DataLoader, Subset\n"
      ],
      "execution_count": 1,
      "outputs": []
    },
    {
      "cell_type": "markdown",
      "metadata": {
        "id": "VpHqxBV8721q"
      },
      "source": [
        "## 2) Configration 설정"
      ]
    },
    {
      "cell_type": "code",
      "metadata": {
        "id": "iLTqzrd0LJik"
      },
      "source": [
        "DEVICE = \"cuda\" if torch.cuda.is_available() else \"cpu\"\n",
        "EPOCH = 10\n",
        "BATCH_SIZE = 128\n",
        "FC_LAYER_SIZE = 128\n",
        "LR = 0.01\n",
        "DROOUT = 0.5\n",
        "OPTIMIZER = 'sgd'"
      ],
      "execution_count": 2,
      "outputs": []
    },
    {
      "cell_type": "markdown",
      "metadata": {
        "id": "yjQHHjX1721r"
      },
      "source": [
        "## 3) 데이터 준비"
      ]
    },
    {
      "cell_type": "markdown",
      "metadata": {
        "id": "KCpNEi2F721s"
      },
      "source": [
        "### 3-1) 기존 TorchVision Data Pipeline"
      ]
    },
    {
      "cell_type": "code",
      "metadata": {
        "id": "euieV7xAMGpE"
      },
      "source": [
        "\n",
        "train_transform = transforms.Compose([#transforms.CenterCrop(10),\n",
        "                                      transforms.ToTensor(),\n",
        "                                      #transforms.Pad(padding=30),\n",
        "                                      #transforms.GaussianBlur(kernel_size=(5, 9), sigma=(0.1, 5)),\n",
        "                                      #transforms.RandomHorizontalFlip(),\n",
        "                                      transforms.Normalize([0.5,],[0.5,])])\n",
        "\n",
        "test_transform = transforms.Compose([ transforms.ToTensor(),\n",
        "                                      transforms.Normalize([0.5,],[0.5])]) # 학습시에는 robust하게 만들기 위해 augumentation을 해주지만\n",
        "                                                                            # 테스트시에는 현실과 비슷한 데이터로 하는 게 좋기 때문에 안 해줘도 됨.\n",
        "\n",
        "\n",
        "train_dataset = datasets.MNIST(root = '../MNIST', # 데이터 저장될장소 \n",
        "                               train = True, # train인지 test인지 \n",
        "                               download = True,# 인터넷에서 다운로드해 이용할건지 \n",
        "                               transform = train_transform) \n",
        "\n",
        "test_dataset = datasets.MNIST(root = '../MNIST', train = False,\n",
        "                               download = True, transform = test_transform)\n",
        "\n",
        "# Subset을 사용하면 Dataset의 부분 집합만 가져올 수 있음.\n",
        "train_sub_dataset = Subset(train_dataset, indices=range(0, len(train_dataset), 5))\n",
        "test_sub_dataset = Subset(test_dataset, indices=range(0, len(test_dataset), 5))\n",
        "\n",
        "train_loader = DataLoader(dataset = train_sub_dataset,\n",
        "                         batch_size = BATCH_SIZE,\n",
        "                         shuffle = True)\n",
        "\n",
        "test_loader = DataLoader(dataset = test_sub_dataset,\n",
        "                         batch_size = BATCH_SIZE)"
      ],
      "execution_count": 36,
      "outputs": []
    },
    {
      "cell_type": "markdown",
      "metadata": {
        "id": "he-GrRD0721v"
      },
      "source": [
        "Subset은 Dataset의 부분 집합을 가져오는 함수입니다.  \n",
        "Dataset 원본으로 학습을 시켰을 경우 16~17분 정도가 걸리지만, Subset으로 학습을 할 경우 3~4분 정도가 걸립니다. "
      ]
    },
    {
      "cell_type": "code",
      "metadata": {
        "colab": {
          "base_uri": "https://localhost:8080/",
          "height": 94
        },
        "id": "ih1u4er1cruk",
        "outputId": "0bcfa7c0-7802-44d9-8ac8-8c9a209b43e0"
      },
      "source": [
        "X_train, y_train = next(iter(train_loader))\n",
        "\n",
        "pltsize = 1\n",
        "plt.figure(figsize = (10 * pltsize ,pltsize))\n",
        "for i in range(10):\n",
        "  plt.subplot(1, 10 , i + 1)\n",
        "  plt.axis('off')\n",
        "  plt.imshow(X_train[i, : , :, :].numpy().reshape(28,28), cmap = 'gray_r')\n",
        "  plt.title('class:' + str(y_train[i].item()))"
      ],
      "execution_count": 39,
      "outputs": [
        {
          "output_type": "display_data",
          "data": {
            "image/png": "[encoded data removed]",
            "text/plain": [
              "<Figure size 720x72 with 10 Axes>"
            ]
          },
          "metadata": {
            "needs_background": "light"
          }
        }
      ]
    },
    {
      "cell_type": "markdown",
      "metadata": {
        "id": "jBn758Nq721y"
      },
      "source": [
        "### 3-2) 다양한 transforms 적용해보기"
      ]
    },
    {
      "cell_type": "markdown",
      "metadata": {
        "id": "m_AKbbCa721z"
      },
      "source": [
        "🔎 다양한 transforms 추가해서 Mnist 데이터셋을 변형해봅시다!   \n",
        "👉 (3-1에서 train_transform, test_transform를 바꿔보시길 바랍니다.)  \n",
        "🔔 [Hint](https://pytorch.org/vision/stable/transforms.html)"
      ]
    },
    {
      "cell_type": "markdown",
      "metadata": {
        "id": "qOiGrudY7210"
      },
      "source": [
        "### 3-3) 더 빠른 augmentation, albumentations "
      ]
    },
    {
      "cell_type": "markdown",
      "metadata": {
        "id": "95GvR8397214"
      },
      "source": [
        "🔎 Albumentations의 장점과 특징은 어떤게 있을까요?  \n",
        "👉  처리속도가 빠름, 기능이 다양 <br>\n",
        "🔔 [Hint](https://hoya012.github.io/blog/albumentation_tutorial/) "
      ]
    },
    {
      "cell_type": "markdown",
      "metadata": {
        "id": "7QOapvUn7214"
      },
      "source": [
        "# 2. Pytorch로 구현하는 MNIST 손글씨 분류기\n",
        "---\n",
        "우리는 위에서 DATASET과 DATALOADER를 살펴보았습니다.  \n",
        "이번에는 Pytorch로 MNIST를 학습하는 코드를 적용해보겠습니다.  \n",
        "마찬가지로 중간중간에 있는 문제를 푸시면 됩니다!"
      ]
    },
    {
      "cell_type": "markdown",
      "metadata": {
        "id": "c-wb6koj7215"
      },
      "source": [
        "## 1) 도우미 함수 정의"
      ]
    },
    {
      "cell_type": "code",
      "metadata": {
        "id": "9uoU8juA7215"
      },
      "source": [
        "def train_epoch(network, loader, optimizer, criterion):\n",
        "    cumu_loss = 0\n",
        "    cumu_acc = 0\n",
        "    total = 0\n",
        "\n",
        "    for _, (data, target) in enumerate(loader):\n",
        "        data, target = data.to(DEVICE), target.to(DEVICE)\n",
        "        optimizer.zero_grad()\n",
        "\n",
        "        loss = criterion(network(data), target)\n",
        "        cumu_loss += loss.item()\n",
        "        _, predicted = torch.max(network(data).data, 1)\n",
        "        total += target.size(0)\n",
        "        cumu_acc += (predicted == target).sum().item()\n",
        "\n",
        "        loss.backward()\n",
        "        optimizer.step()\n",
        "        network.eval() \n",
        "    return cumu_loss / len(loader), 100 * cumu_acc / total"
      ],
      "execution_count": 40,
      "outputs": []
    },
    {
      "cell_type": "code",
      "metadata": {
        "id": "nY7vlD-8BBCC"
      },
      "source": [
        "def evaluate(model, test_loader, criterion):\n",
        "  model.eval() # 모델을 평가상태(test 상태)로 지정 \n",
        "  test_loss = 0 # test_loss 초기값 \n",
        "  correct = 0 # 올바른 class로 분류한 카운트를 세기위해 0으로 설정 \n",
        "\n",
        "  with torch.no_grad(): # 평가시에는 gradiant를 통해 패러미터 업데이트를 하지않음 \n",
        "    for image, label in test_loader: # mini_batch 단위로 꺼내기 \n",
        "      image = image.to(DEVICE) # DEVICE 할당\n",
        "      label = label.to(DEVICE) # DEVICE에 할당\n",
        "      output = model(image)    # 모델에 input을 넣어 output 계산 \n",
        "      test_loss += criterion(output, label).item() # output과 label의 loss 계산 \n",
        "      prediction = output.max(1, keepdim = True)[1] # output은 길이가 10인 벡터값 \n",
        "                                                    # 그중에서 가장 큰값인 위치의 라벨로\n",
        "                                                    # 예측햇다고 판단 \n",
        "      correct += prediction.eq(label.view_as(prediction)).sum().item() # eq() 메서드는 라벨과 예측이 같으면(equal) 1\n",
        "                                                                        # 다르면 0. 그 값들을더해서 correct에 더해주기 \n",
        "  test_loss /= len(test_loader.dataset)\n",
        "  test_accuracy = 100. * correct / len(test_loader.dataset)\n",
        "  return test_loss, test_accuracy"
      ],
      "execution_count": 41,
      "outputs": []
    },
    {
      "cell_type": "markdown",
      "metadata": {
        "id": "qt0_dIHx7217"
      },
      "source": [
        "## 2) 모델 정의하기"
      ]
    },
    {
      "cell_type": "code",
      "metadata": {
        "id": "jkaFqWLH7218"
      },
      "source": [
        "class ConvNet(nn.Module):\n",
        "    def __init__(self, fc_layer_size, dropout):\n",
        "        super(ConvNet, self).__init__() # nn.Module 의 init 상속\n",
        "        self.layer1 = nn.Sequential(\n",
        "            nn.Conv2d(1, 32, 3, 1, 1),\n",
        "            nn.ReLU(),\n",
        "            nn.MaxPool2d(2, 2))\n",
        "        self.layer2 = nn.Sequential(\n",
        "            nn.Conv2d(32, 64, 3, 1, 1),\n",
        "            nn.ReLU(),\n",
        "            nn.MaxPool2d(2, 2))\n",
        "        self.layer3 = nn.Sequential(\n",
        "            nn.Linear(64 * 7 * 7, fc_layer_size, bias=True),\n",
        "            nn.ReLU(),\n",
        "            nn.Dropout2d(p=dropout))\n",
        "        self.layer4 = nn.Sequential(\n",
        "            nn.Linear(fc_layer_size, 84),\n",
        "            nn.ReLU(),\n",
        "            nn.Dropout2d(p=dropout))\n",
        "        self.fc3 = nn.Linear(84, 10)\n",
        "\n",
        "    # Forward Propagation 정의\n",
        "    def forward(self, x):\n",
        "        x = self.layer1(x)\n",
        "        x = self.layer2(x)\n",
        "        x = x.view(x.size(0),-1) # flatten ex) 128, 4, 4, 1 -> 128, 16\n",
        "        x = self.layer3(x)\n",
        "        x = self.layer4(x)\n",
        "        x = self.fc3(x)\n",
        "        return x\n",
        "\n",
        "model = ConvNet(FC_LAYER_SIZE, DROOUT).to(DEVICE) "
      ],
      "execution_count": 42,
      "outputs": []
    },
    {
      "cell_type": "markdown",
      "metadata": {
        "id": "PCSb_1JW7218"
      },
      "source": [
        "## 3) 학습 진행하기"
      ]
    },
    {
      "cell_type": "code",
      "metadata": {
        "id": "_OD4YKjG-tkc"
      },
      "source": [
        "if OPTIMIZER == \"sgd\":\n",
        "    optimizer = torch.optim.SGD(model.parameters(), lr=LR, momentum=0.9)\n",
        "elif OPTIMIZER == \"adam\":\n",
        "    optimizer = torch.optim.Adam(model.parameters(), lr=LR)\n",
        "criterion = nn.CrossEntropyLoss() # Loss 기준은 CrossEntropyLoss로"
      ],
      "execution_count": 43,
      "outputs": []
    },
    {
      "cell_type": "markdown",
      "metadata": {
        "id": "B8gefTlA7219"
      },
      "source": [
        "**🔎 torch.optim에는 어떤 optimizer들을 구현할 수 있나요? ([공식 document](https://pytorch.org/docs/stable/optim.html?highlight=optim#module-torch.optim)를 참조하여 2개 이상 적어주세요.)**  \n",
        "👉 Adagrad, Adam, RMSprop, SGD 등..."
      ]
    },
    {
      "cell_type": "markdown",
      "metadata": {
        "id": "ZaBnS50X721-"
      },
      "source": [
        "**🔎 nn.Module에서 활용할 수 있는 Loss function에는 어떤 것들이 구현할 수 있나요? ([공식 document-Loss function](https://pytorch.org/docs/stable/nn.html?highlight=loss#loss-functions)를 참조하여 2개 이상 적어주세요.)**  \n",
        "👉 nn.CrossEntropyLoss, nn.MSELoss 등..\n"
      ]
    },
    {
      "cell_type": "code",
      "metadata": {
        "id": "c2YcbudY721-",
        "colab": {
          "base_uri": "https://localhost:8080/"
        },
        "outputId": "f7cddf6d-4c77-4a42-80db-a821e3fe1acf"
      },
      "source": [
        "for epoch in range(EPOCH):\n",
        "    avg_loss, avg_acc = train_epoch(model, train_loader, optimizer, criterion)\n",
        "    print(f\"TRAIN: EPOCH {epoch + 1:04d} / {EPOCH:04d} | Epoch LOSS {avg_loss:.4f} | Epoch ACC {avg_acc:.2f}% \")"
      ],
      "execution_count": 44,
      "outputs": [
        {
          "output_type": "stream",
          "name": "stdout",
          "text": [
            "TRAIN: EPOCH 0001 / 0010 | Epoch LOSS 1.8575 | Epoch ACC 41.52% \n",
            "TRAIN: EPOCH 0002 / 0010 | Epoch LOSS 0.4238 | Epoch ACC 86.92% \n",
            "TRAIN: EPOCH 0003 / 0010 | Epoch LOSS 0.2174 | Epoch ACC 93.43% \n",
            "TRAIN: EPOCH 0004 / 0010 | Epoch LOSS 0.1512 | Epoch ACC 95.25% \n",
            "TRAIN: EPOCH 0005 / 0010 | Epoch LOSS 0.1142 | Epoch ACC 96.60% \n",
            "TRAIN: EPOCH 0006 / 0010 | Epoch LOSS 0.0894 | Epoch ACC 97.22% \n",
            "TRAIN: EPOCH 0007 / 0010 | Epoch LOSS 0.0764 | Epoch ACC 97.71% \n",
            "TRAIN: EPOCH 0008 / 0010 | Epoch LOSS 0.0639 | Epoch ACC 98.02% \n",
            "TRAIN: EPOCH 0009 / 0010 | Epoch LOSS 0.0542 | Epoch ACC 98.45% \n",
            "TRAIN: EPOCH 0010 / 0010 | Epoch LOSS 0.0443 | Epoch ACC 98.73% \n"
          ]
        }
      ]
    },
    {
      "cell_type": "code",
      "metadata": {
        "id": "BHReDHJk721_",
        "colab": {
          "base_uri": "https://localhost:8080/"
        },
        "outputId": "2348b179-62ee-435c-b624-c24516afe19b"
      },
      "source": [
        "test_loss, test_accuracy = evaluate(model, test_loader, criterion)\n",
        "print(f\"Test LOSS {test_loss:.4f} | Test ACC {test_accuracy:.2f}% \")"
      ],
      "execution_count": 45,
      "outputs": [
        {
          "output_type": "stream",
          "name": "stdout",
          "text": [
            "Test LOSS 0.0006 | Test ACC 97.75% \n"
          ]
        }
      ]
    },
    {
      "cell_type": "markdown",
      "metadata": {
        "id": "bdcO0JMa722A"
      },
      "source": [
        "## 4) BATCH Normalization적용하고 학습하기"
      ]
    },
    {
      "cell_type": "code",
      "metadata": {
        "id": "bYQCip9c722B"
      },
      "source": [
        "class ConvNet(nn.Module):\n",
        "    def __init__(self, fc_layer_size, dropout):\n",
        "        super(ConvNet, self).__init__() # nn.Module 의 init 상속\n",
        "        self.layer1 = nn.Sequential(\n",
        "            nn.Conv2d(1, 32, 3, 1, 1),\n",
        "            nn.ReLU(),\n",
        "            nn.MaxPool2d(2, 2))\n",
        "        self.layer2 = nn.Sequential(\n",
        "            nn.Conv2d(32, 64, 3, 1, 1),\n",
        "            nn.ReLU(),\n",
        "            nn.MaxPool2d(2, 2))\n",
        "        self.layer3 = nn.Sequential(\n",
        "            nn.Linear(64 * 7 * 7, fc_layer_size, bias=True),\n",
        "            nn.BatchNorm1d(fc_layer_size),\n",
        "            nn.ReLU(),\n",
        "            nn.Dropout2d(p=dropout),)\n",
        "        self.layer4 = nn.Sequential(\n",
        "            nn.Linear(fc_layer_size, 84),\n",
        "            nn.BatchNorm1d(84),\n",
        "            nn.ReLU(),\n",
        "            nn.Dropout2d(p=dropout),)\n",
        "        self.fc3 = nn.Linear(84, 10)\n",
        "\n",
        "    # Forward Propagation 정의\n",
        "    def forward(self, x):\n",
        "        x = self.layer1(x)\n",
        "        x = self.layer2(x)\n",
        "        x = x.view(x.size(0),-1) \n",
        "        x = self.layer3(x)\n",
        "        x = self.layer4(x)\n",
        "        x = self.fc3(x)\n",
        "        return x\n",
        "\n",
        "model = ConvNet(FC_LAYER_SIZE, DROOUT).to(DEVICE) "
      ],
      "execution_count": 46,
      "outputs": []
    },
    {
      "cell_type": "code",
      "metadata": {
        "id": "ikTC3VLw722B"
      },
      "source": [
        "if OPTIMIZER == \"sgd\":\n",
        "    optimizer = torch.optim.SGD(model.parameters(), lr=LR, momentum=0.9)\n",
        "elif OPTIMIZER == \"adam\":\n",
        "    optimizer = torch.optim.Adam(model.parameters(), lr=LR)\n",
        "criterion = nn.CrossEntropyLoss() # Loss 기준은 CrossEntropyLoss로"
      ],
      "execution_count": 47,
      "outputs": []
    },
    {
      "cell_type": "code",
      "metadata": {
        "id": "LElnrcIL722C",
        "colab": {
          "base_uri": "https://localhost:8080/"
        },
        "outputId": "cb443d90-7b85-430b-c8f2-c910870bb4a4"
      },
      "source": [
        "for epoch in range(EPOCH):\n",
        "    avg_loss, avg_acc = train_epoch(model, train_loader, optimizer, criterion)\n",
        "    print(f\"TRAIN: EPOCH {epoch + 1:04d} / {EPOCH:04d} | Epoch LOSS {avg_loss:.4f} | Epoch ACC {avg_acc:.2f}% \")"
      ],
      "execution_count": 48,
      "outputs": [
        {
          "output_type": "stream",
          "name": "stdout",
          "text": [
            "TRAIN: EPOCH 0001 / 0010 | Epoch LOSS 1.4186 | Epoch ACC 56.60% \n",
            "TRAIN: EPOCH 0002 / 0010 | Epoch LOSS 0.2632 | Epoch ACC 91.86% \n",
            "TRAIN: EPOCH 0003 / 0010 | Epoch LOSS 0.1546 | Epoch ACC 95.22% \n",
            "TRAIN: EPOCH 0004 / 0010 | Epoch LOSS 0.1054 | Epoch ACC 96.85% \n",
            "TRAIN: EPOCH 0005 / 0010 | Epoch LOSS 0.0794 | Epoch ACC 97.67% \n",
            "TRAIN: EPOCH 0006 / 0010 | Epoch LOSS 0.0629 | Epoch ACC 98.20% \n",
            "TRAIN: EPOCH 0007 / 0010 | Epoch LOSS 0.0541 | Epoch ACC 98.34% \n",
            "TRAIN: EPOCH 0008 / 0010 | Epoch LOSS 0.0477 | Epoch ACC 98.62% \n",
            "TRAIN: EPOCH 0009 / 0010 | Epoch LOSS 0.0412 | Epoch ACC 98.80% \n",
            "TRAIN: EPOCH 0010 / 0010 | Epoch LOSS 0.0362 | Epoch ACC 98.92% \n"
          ]
        }
      ]
    },
    {
      "cell_type": "code",
      "metadata": {
        "id": "qr-ChCOl722D",
        "colab": {
          "base_uri": "https://localhost:8080/"
        },
        "outputId": "7ae3c34b-3f0f-44f5-cd69-e73a26e2aa86"
      },
      "source": [
        "test_loss, test_accuracy = evaluate(model, test_loader, criterion)\n",
        "print(f\"Test LOSS {test_loss:.4f} | Test ACC {test_accuracy:.2f}% \")"
      ],
      "execution_count": 49,
      "outputs": [
        {
          "output_type": "stream",
          "name": "stdout",
          "text": [
            "Test LOSS 0.0007 | Test ACC 97.55% \n"
          ]
        }
      ]
    },
    {
      "cell_type": "markdown",
      "metadata": {
        "id": "qB-zIHI5722D"
      },
      "source": [
        "Batch norm을 적용하여서 성능 향상이 되었습니다."
      ]
    },
    {
      "cell_type": "markdown",
      "metadata": {
        "id": "QDC6OgbF722D"
      },
      "source": [
        "# 3. 모델 저장하고 불러오기\n",
        "---\n",
        "이번에는 저장하기나 불러오기를 통해 모델의 상태를 유지(persist)하고 모델의 예측을 실행하는 방법을 알아보겠습니다.  \n",
        "모델을 저장할 때는 두 가지 방법 중 한 방법을 선택할 수 있는데, 모델 전체를 저장하는 방법과 모델의 state_dict만 저장하는 방법이 있습니다."
      ]
    },
    {
      "cell_type": "markdown",
      "metadata": {
        "id": "Pc_7dPNa722E"
      },
      "source": [
        "## 1) 모델 전체 저장"
      ]
    },
    {
      "cell_type": "code",
      "metadata": {
        "id": "HfwnJuTk722E"
      },
      "source": [
        "# Case 1\n",
        "torch.save(model, 'ConvNet.pt')\n",
        "# Load model\n",
        "model = torch.load('ConvNet.pt')"
      ],
      "execution_count": null,
      "outputs": []
    },
    {
      "cell_type": "markdown",
      "metadata": {
        "id": "tjUawCYF722E"
      },
      "source": [
        "## 2) 모델의 state_dict만 저장"
      ]
    },
    {
      "cell_type": "code",
      "metadata": {
        "id": "tpNZSBGS722E"
      },
      "source": [
        "# Case 1\n",
        "torch.save(model.state_dict(), 'ConvNet_dict.pt')\n",
        "# Load model\n",
        "model.load_state_dict(torch.load('ConvNet_dict.pt'))"
      ],
      "execution_count": null,
      "outputs": []
    },
    {
      "cell_type": "markdown",
      "metadata": {
        "id": "efBuTodV722E"
      },
      "source": [
        "🔎 model 전체를 저장하는 것과 state_dict만 저장하는 것은 무슨 차이가 있을까요? ([모델 저장하기 & 불러오기](https://tutorials.pytorch.kr/beginner/saving_loading_models.html)를 참조하세요.)  \n",
        "👉 (괄호를 지우고 적어주세요!)"
      ]
    },
    {
      "cell_type": "markdown",
      "metadata": {
        "id": "pEjSnsE_722G"
      },
      "source": [
        "### 2-1) 체크포인트(checkpoint) 저장하기 & 불러오기"
      ]
    },
    {
      "cell_type": "code",
      "metadata": {
        "id": "hq975jKm722H"
      },
      "source": [
        "torch.save({\n",
        "            'epoch': EPOCH,\n",
        "            'model_state_dict': model.state_dict(),\n",
        "            'optimizer_state_dict': optimizer.state_dict(),\n",
        "            'loss': criterion,\n",
        "            }, \n",
        "           'ConvNet_dict.pt')"
      ],
      "execution_count": null,
      "outputs": []
    },
    {
      "cell_type": "code",
      "metadata": {
        "id": "7eXJFLwZ722H"
      },
      "source": [
        "model = ConvNet(FC_LAYER_SIZE, DROOUT).to(DEVICE) \n",
        "optimizer = torch.optim.SGD(model.parameters(), lr=LR, momentum=0.9)\n",
        "\n",
        "checkpoint = torch.load('ConvNet_dict.pt')\n",
        "model.load_state_dict(checkpoint['model_state_dict'])\n",
        "optimizer.load_state_dict(checkpoint['optimizer_state_dict'])\n",
        "epoch = checkpoint['epoch']\n",
        "loss = checkpoint['loss']"
      ],
      "execution_count": null,
      "outputs": []
    },
    {
      "cell_type": "code",
      "metadata": {
        "id": "6YumkYOX722I"
      },
      "source": [
        "print(optimizer)\n",
        "print(epoch)\n",
        "print(loss)"
      ],
      "execution_count": null,
      "outputs": []
    }
  ]
}