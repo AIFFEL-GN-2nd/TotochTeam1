{
  "nbformat": 4,
  "nbformat_minor": 0,
  "metadata": {
    "colab": {
      "name": "텐서(Tensor).ipynb의 사본",
      "provenance": [],
      "collapsed_sections": []
    },
    "kernelspec": {
      "name": "python3",
      "display_name": "Python 3.8.0 64-bit ('torch': conda)"
    },
    "language_info": {
      "name": "python",
      "version": "3.8.0",
      "mimetype": "text/x-python",
      "codemirror_mode": {
        "name": "ipython",
        "version": 3
      },
      "pygments_lexer": "ipython3",
      "nbconvert_exporter": "python",
      "file_extension": ".py"
    },
    "interpreter": {
      "hash": "93f0d9e47ee3596f3a4c40963a5f80a2a8195902cfa23a0f0d123dcd43c69f1e"
    },
    "widgets": {
      "application/vnd.jupyter.widget-state+json": {
        "e4716187f338471c9d2aa2a8fe383d1f": {
          "model_module": "@jupyter-widgets/controls",
          "model_name": "HBoxModel",
          "model_module_version": "1.5.0",
          "state": {
            "_view_name": "HBoxView",
            "_dom_classes": [],
            "_model_name": "HBoxModel",
            "_view_module": "@jupyter-widgets/controls",
            "_model_module_version": "1.5.0",
            "_view_count": null,
            "_view_module_version": "1.5.0",
            "box_style": "",
            "layout": "IPY_MODEL_64e184ae692c448fb57f205e98b447ea",
            "_model_module": "@jupyter-widgets/controls",
            "children": [
              "IPY_MODEL_f6c6c47a469447aba19f6f0ab14b7850",
              "IPY_MODEL_197e38be4dce4c6998f7368e3e1d1353",
              "IPY_MODEL_90d25432f3224d3f833aa80a417a0add"
            ]
          }
        },
        "64e184ae692c448fb57f205e98b447ea": {
          "model_module": "@jupyter-widgets/base",
          "model_name": "LayoutModel",
          "model_module_version": "1.2.0",
          "state": {
            "_view_name": "LayoutView",
            "grid_template_rows": null,
            "right": null,
            "justify_content": null,
            "_view_module": "@jupyter-widgets/base",
            "overflow": null,
            "_model_module_version": "1.2.0",
            "_view_count": null,
            "flex_flow": null,
            "width": null,
            "min_width": null,
            "border": null,
            "align_items": null,
            "bottom": null,
            "_model_module": "@jupyter-widgets/base",
            "top": null,
            "grid_column": null,
            "overflow_y": null,
            "overflow_x": null,
            "grid_auto_flow": null,
            "grid_area": null,
            "grid_template_columns": null,
            "flex": null,
            "_model_name": "LayoutModel",
            "justify_items": null,
            "grid_row": null,
            "max_height": null,
            "align_content": null,
            "visibility": null,
            "align_self": null,
            "height": null,
            "min_height": null,
            "padding": null,
            "grid_auto_rows": null,
            "grid_gap": null,
            "max_width": null,
            "order": null,
            "_view_module_version": "1.2.0",
            "grid_template_areas": null,
            "object_position": null,
            "object_fit": null,
            "grid_auto_columns": null,
            "margin": null,
            "display": null,
            "left": null
          }
        },
        "f6c6c47a469447aba19f6f0ab14b7850": {
          "model_module": "@jupyter-widgets/controls",
          "model_name": "HTMLModel",
          "model_module_version": "1.5.0",
          "state": {
            "_view_name": "HTMLView",
            "style": "IPY_MODEL_20dbd7c754d440939a4824e85ed8a811",
            "_dom_classes": [],
            "description": "",
            "_model_name": "HTMLModel",
            "placeholder": "​",
            "_view_module": "@jupyter-widgets/controls",
            "_model_module_version": "1.5.0",
            "value": "",
            "_view_count": null,
            "_view_module_version": "1.5.0",
            "description_tooltip": null,
            "_model_module": "@jupyter-widgets/controls",
            "layout": "IPY_MODEL_6eb9e051896b409492e33851b126054a"
          }
        },
        "197e38be4dce4c6998f7368e3e1d1353": {
          "model_module": "@jupyter-widgets/controls",
          "model_name": "FloatProgressModel",
          "model_module_version": "1.5.0",
          "state": {
            "_view_name": "ProgressView",
            "style": "IPY_MODEL_64d2214ae5184bf9a46929a04dcc4343",
            "_dom_classes": [],
            "description": "",
            "_model_name": "FloatProgressModel",
            "bar_style": "success",
            "max": 26421880,
            "_view_module": "@jupyter-widgets/controls",
            "_model_module_version": "1.5.0",
            "value": 26421880,
            "_view_count": null,
            "_view_module_version": "1.5.0",
            "orientation": "horizontal",
            "min": 0,
            "description_tooltip": null,
            "_model_module": "@jupyter-widgets/controls",
            "layout": "IPY_MODEL_a071f38b4523489099f570a2d2045dce"
          }
        },
        "90d25432f3224d3f833aa80a417a0add": {
          "model_module": "@jupyter-widgets/controls",
          "model_name": "HTMLModel",
          "model_module_version": "1.5.0",
          "state": {
            "_view_name": "HTMLView",
            "style": "IPY_MODEL_952b27bdfc0a485eaf70827b357a4f4d",
            "_dom_classes": [],
            "description": "",
            "_model_name": "HTMLModel",
            "placeholder": "​",
            "_view_module": "@jupyter-widgets/controls",
            "_model_module_version": "1.5.0",
            "value": " 26422272/? [00:00&lt;00:00, 98111019.22it/s]",
            "_view_count": null,
            "_view_module_version": "1.5.0",
            "description_tooltip": null,
            "_model_module": "@jupyter-widgets/controls",
            "layout": "IPY_MODEL_a29f5d7bd896434182f0ff34f966e804"
          }
        },
        "20dbd7c754d440939a4824e85ed8a811": {
          "model_module": "@jupyter-widgets/controls",
          "model_name": "DescriptionStyleModel",
          "model_module_version": "1.5.0",
          "state": {
            "_view_name": "StyleView",
            "_model_name": "DescriptionStyleModel",
            "description_width": "",
            "_view_module": "@jupyter-widgets/base",
            "_model_module_version": "1.5.0",
            "_view_count": null,
            "_view_module_version": "1.2.0",
            "_model_module": "@jupyter-widgets/controls"
          }
        },
        "6eb9e051896b409492e33851b126054a": {
          "model_module": "@jupyter-widgets/base",
          "model_name": "LayoutModel",
          "model_module_version": "1.2.0",
          "state": {
            "_view_name": "LayoutView",
            "grid_template_rows": null,
            "right": null,
            "justify_content": null,
            "_view_module": "@jupyter-widgets/base",
            "overflow": null,
            "_model_module_version": "1.2.0",
            "_view_count": null,
            "flex_flow": null,
            "width": null,
            "min_width": null,
            "border": null,
            "align_items": null,
            "bottom": null,
            "_model_module": "@jupyter-widgets/base",
            "top": null,
            "grid_column": null,
            "overflow_y": null,
            "overflow_x": null,
            "grid_auto_flow": null,
            "grid_area": null,
            "grid_template_columns": null,
            "flex": null,
            "_model_name": "LayoutModel",
            "justify_items": null,
            "grid_row": null,
            "max_height": null,
            "align_content": null,
            "visibility": null,
            "align_self": null,
            "height": null,
            "min_height": null,
            "padding": null,
            "grid_auto_rows": null,
            "grid_gap": null,
            "max_width": null,
            "order": null,
            "_view_module_version": "1.2.0",
            "grid_template_areas": null,
            "object_position": null,
            "object_fit": null,
            "grid_auto_columns": null,
            "margin": null,
            "display": null,
            "left": null
          }
        },
        "64d2214ae5184bf9a46929a04dcc4343": {
          "model_module": "@jupyter-widgets/controls",
          "model_name": "ProgressStyleModel",
          "model_module_version": "1.5.0",
          "state": {
            "_view_name": "StyleView",
            "_model_name": "ProgressStyleModel",
            "description_width": "",
            "_view_module": "@jupyter-widgets/base",
            "_model_module_version": "1.5.0",
            "_view_count": null,
            "_view_module_version": "1.2.0",
            "bar_color": null,
            "_model_module": "@jupyter-widgets/controls"
          }
        },
        "a071f38b4523489099f570a2d2045dce": {
          "model_module": "@jupyter-widgets/base",
          "model_name": "LayoutModel",
          "model_module_version": "1.2.0",
          "state": {
            "_view_name": "LayoutView",
            "grid_template_rows": null,
            "right": null,
            "justify_content": null,
            "_view_module": "@jupyter-widgets/base",
            "overflow": null,
            "_model_module_version": "1.2.0",
            "_view_count": null,
            "flex_flow": null,
            "width": null,
            "min_width": null,
            "border": null,
            "align_items": null,
            "bottom": null,
            "_model_module": "@jupyter-widgets/base",
            "top": null,
            "grid_column": null,
            "overflow_y": null,
            "overflow_x": null,
            "grid_auto_flow": null,
            "grid_area": null,
            "grid_template_columns": null,
            "flex": null,
            "_model_name": "LayoutModel",
            "justify_items": null,
            "grid_row": null,
            "max_height": null,
            "align_content": null,
            "visibility": null,
            "align_self": null,
            "height": null,
            "min_height": null,
            "padding": null,
            "grid_auto_rows": null,
            "grid_gap": null,
            "max_width": null,
            "order": null,
            "_view_module_version": "1.2.0",
            "grid_template_areas": null,
            "object_position": null,
            "object_fit": null,
            "grid_auto_columns": null,
            "margin": null,
            "display": null,
            "left": null
          }
        },
        "952b27bdfc0a485eaf70827b357a4f4d": {
          "model_module": "@jupyter-widgets/controls",
          "model_name": "DescriptionStyleModel",
          "model_module_version": "1.5.0",
          "state": {
            "_view_name": "StyleView",
            "_model_name": "DescriptionStyleModel",
            "description_width": "",
            "_view_module": "@jupyter-widgets/base",
            "_model_module_version": "1.5.0",
            "_view_count": null,
            "_view_module_version": "1.2.0",
            "_model_module": "@jupyter-widgets/controls"
          }
        },
        "a29f5d7bd896434182f0ff34f966e804": {
          "model_module": "@jupyter-widgets/base",
          "model_name": "LayoutModel",
          "model_module_version": "1.2.0",
          "state": {
            "_view_name": "LayoutView",
            "grid_template_rows": null,
            "right": null,
            "justify_content": null,
            "_view_module": "@jupyter-widgets/base",
            "overflow": null,
            "_model_module_version": "1.2.0",
            "_view_count": null,
            "flex_flow": null,
            "width": null,
            "min_width": null,
            "border": null,
            "align_items": null,
            "bottom": null,
            "_model_module": "@jupyter-widgets/base",
            "top": null,
            "grid_column": null,
            "overflow_y": null,
            "overflow_x": null,
            "grid_auto_flow": null,
            "grid_area": null,
            "grid_template_columns": null,
            "flex": null,
            "_model_name": "LayoutModel",
            "justify_items": null,
            "grid_row": null,
            "max_height": null,
            "align_content": null,
            "visibility": null,
            "align_self": null,
            "height": null,
            "min_height": null,
            "padding": null,
            "grid_auto_rows": null,
            "grid_gap": null,
            "max_width": null,
            "order": null,
            "_view_module_version": "1.2.0",
            "grid_template_areas": null,
            "object_position": null,
            "object_fit": null,
            "grid_auto_columns": null,
            "margin": null,
            "display": null,
            "left": null
          }
        },
        "ceaf8f33d5064426811dbee9e14eb548": {
          "model_module": "@jupyter-widgets/controls",
          "model_name": "HBoxModel",
          "model_module_version": "1.5.0",
          "state": {
            "_view_name": "HBoxView",
            "_dom_classes": [],
            "_model_name": "HBoxModel",
            "_view_module": "@jupyter-widgets/controls",
            "_model_module_version": "1.5.0",
            "_view_count": null,
            "_view_module_version": "1.5.0",
            "box_style": "",
            "layout": "IPY_MODEL_088132f9d20b47ffaaf2d720b4ac371d",
            "_model_module": "@jupyter-widgets/controls",
            "children": [
              "IPY_MODEL_e7649e1b383f4b62beabaf73e61a270e",
              "IPY_MODEL_29b41f1375c7469bba07e407a9a63ee3",
              "IPY_MODEL_17d2dd557472452ab067f78d9246093b"
            ]
          }
        },
        "088132f9d20b47ffaaf2d720b4ac371d": {
          "model_module": "@jupyter-widgets/base",
          "model_name": "LayoutModel",
          "model_module_version": "1.2.0",
          "state": {
            "_view_name": "LayoutView",
            "grid_template_rows": null,
            "right": null,
            "justify_content": null,
            "_view_module": "@jupyter-widgets/base",
            "overflow": null,
            "_model_module_version": "1.2.0",
            "_view_count": null,
            "flex_flow": null,
            "width": null,
            "min_width": null,
            "border": null,
            "align_items": null,
            "bottom": null,
            "_model_module": "@jupyter-widgets/base",
            "top": null,
            "grid_column": null,
            "overflow_y": null,
            "overflow_x": null,
            "grid_auto_flow": null,
            "grid_area": null,
            "grid_template_columns": null,
            "flex": null,
            "_model_name": "LayoutModel",
            "justify_items": null,
            "grid_row": null,
            "max_height": null,
            "align_content": null,
            "visibility": null,
            "align_self": null,
            "height": null,
            "min_height": null,
            "padding": null,
            "grid_auto_rows": null,
            "grid_gap": null,
            "max_width": null,
            "order": null,
            "_view_module_version": "1.2.0",
            "grid_template_areas": null,
            "object_position": null,
            "object_fit": null,
            "grid_auto_columns": null,
            "margin": null,
            "display": null,
            "left": null
          }
        },
        "e7649e1b383f4b62beabaf73e61a270e": {
          "model_module": "@jupyter-widgets/controls",
          "model_name": "HTMLModel",
          "model_module_version": "1.5.0",
          "state": {
            "_view_name": "HTMLView",
            "style": "IPY_MODEL_34a03d9a74c24248b55691123b464e10",
            "_dom_classes": [],
            "description": "",
            "_model_name": "HTMLModel",
            "placeholder": "​",
            "_view_module": "@jupyter-widgets/controls",
            "_model_module_version": "1.5.0",
            "value": "",
            "_view_count": null,
            "_view_module_version": "1.5.0",
            "description_tooltip": null,
            "_model_module": "@jupyter-widgets/controls",
            "layout": "IPY_MODEL_15d4d87586ef44e789b2afd9b2d6beb2"
          }
        },
        "29b41f1375c7469bba07e407a9a63ee3": {
          "model_module": "@jupyter-widgets/controls",
          "model_name": "FloatProgressModel",
          "model_module_version": "1.5.0",
          "state": {
            "_view_name": "ProgressView",
            "style": "IPY_MODEL_5ffa102a637f4ecda0ae0780f313d0b1",
            "_dom_classes": [],
            "description": "",
            "_model_name": "FloatProgressModel",
            "bar_style": "success",
            "max": 29515,
            "_view_module": "@jupyter-widgets/controls",
            "_model_module_version": "1.5.0",
            "value": 29515,
            "_view_count": null,
            "_view_module_version": "1.5.0",
            "orientation": "horizontal",
            "min": 0,
            "description_tooltip": null,
            "_model_module": "@jupyter-widgets/controls",
            "layout": "IPY_MODEL_54dd6af569864e3fa3cedae003d17b62"
          }
        },
        "17d2dd557472452ab067f78d9246093b": {
          "model_module": "@jupyter-widgets/controls",
          "model_name": "HTMLModel",
          "model_module_version": "1.5.0",
          "state": {
            "_view_name": "HTMLView",
            "style": "IPY_MODEL_187d4cd2fb704eb890a32448764fb298",
            "_dom_classes": [],
            "description": "",
            "_model_name": "HTMLModel",
            "placeholder": "​",
            "_view_module": "@jupyter-widgets/controls",
            "_model_module_version": "1.5.0",
            "value": " 29696/? [00:00&lt;00:00, 772960.31it/s]",
            "_view_count": null,
            "_view_module_version": "1.5.0",
            "description_tooltip": null,
            "_model_module": "@jupyter-widgets/controls",
            "layout": "IPY_MODEL_b676362f77134e0894b3953a9d057124"
          }
        },
        "34a03d9a74c24248b55691123b464e10": {
          "model_module": "@jupyter-widgets/controls",
          "model_name": "DescriptionStyleModel",
          "model_module_version": "1.5.0",
          "state": {
            "_view_name": "StyleView",
            "_model_name": "DescriptionStyleModel",
            "description_width": "",
            "_view_module": "@jupyter-widgets/base",
            "_model_module_version": "1.5.0",
            "_view_count": null,
            "_view_module_version": "1.2.0",
            "_model_module": "@jupyter-widgets/controls"
          }
        },
        "15d4d87586ef44e789b2afd9b2d6beb2": {
          "model_module": "@jupyter-widgets/base",
          "model_name": "LayoutModel",
          "model_module_version": "1.2.0",
          "state": {
            "_view_name": "LayoutView",
            "grid_template_rows": null,
            "right": null,
            "justify_content": null,
            "_view_module": "@jupyter-widgets/base",
            "overflow": null,
            "_model_module_version": "1.2.0",
            "_view_count": null,
            "flex_flow": null,
            "width": null,
            "min_width": null,
            "border": null,
            "align_items": null,
            "bottom": null,
            "_model_module": "@jupyter-widgets/base",
            "top": null,
            "grid_column": null,
            "overflow_y": null,
            "overflow_x": null,
            "grid_auto_flow": null,
            "grid_area": null,
            "grid_template_columns": null,
            "flex": null,
            "_model_name": "LayoutModel",
            "justify_items": null,
            "grid_row": null,
            "max_height": null,
            "align_content": null,
            "visibility": null,
            "align_self": null,
            "height": null,
            "min_height": null,
            "padding": null,
            "grid_auto_rows": null,
            "grid_gap": null,
            "max_width": null,
            "order": null,
            "_view_module_version": "1.2.0",
            "grid_template_areas": null,
            "object_position": null,
            "object_fit": null,
            "grid_auto_columns": null,
            "margin": null,
            "display": null,
            "left": null
          }
        },
        "5ffa102a637f4ecda0ae0780f313d0b1": {
          "model_module": "@jupyter-widgets/controls",
          "model_name": "ProgressStyleModel",
          "model_module_version": "1.5.0",
          "state": {
            "_view_name": "StyleView",
            "_model_name": "ProgressStyleModel",
            "description_width": "",
            "_view_module": "@jupyter-widgets/base",
            "_model_module_version": "1.5.0",
            "_view_count": null,
            "_view_module_version": "1.2.0",
            "bar_color": null,
            "_model_module": "@jupyter-widgets/controls"
          }
        },
        "54dd6af569864e3fa3cedae003d17b62": {
          "model_module": "@jupyter-widgets/base",
          "model_name": "LayoutModel",
          "model_module_version": "1.2.0",
          "state": {
            "_view_name": "LayoutView",
            "grid_template_rows": null,
            "right": null,
            "justify_content": null,
            "_view_module": "@jupyter-widgets/base",
            "overflow": null,
            "_model_module_version": "1.2.0",
            "_view_count": null,
            "flex_flow": null,
            "width": null,
            "min_width": null,
            "border": null,
            "align_items": null,
            "bottom": null,
            "_model_module": "@jupyter-widgets/base",
            "top": null,
            "grid_column": null,
            "overflow_y": null,
            "overflow_x": null,
            "grid_auto_flow": null,
            "grid_area": null,
            "grid_template_columns": null,
            "flex": null,
            "_model_name": "LayoutModel",
            "justify_items": null,
            "grid_row": null,
            "max_height": null,
            "align_content": null,
            "visibility": null,
            "align_self": null,
            "height": null,
            "min_height": null,
            "padding": null,
            "grid_auto_rows": null,
            "grid_gap": null,
            "max_width": null,
            "order": null,
            "_view_module_version": "1.2.0",
            "grid_template_areas": null,
            "object_position": null,
            "object_fit": null,
            "grid_auto_columns": null,
            "margin": null,
            "display": null,
            "left": null
          }
        },
        "187d4cd2fb704eb890a32448764fb298": {
          "model_module": "@jupyter-widgets/controls",
          "model_name": "DescriptionStyleModel",
          "model_module_version": "1.5.0",
          "state": {
            "_view_name": "StyleView",
            "_model_name": "DescriptionStyleModel",
            "description_width": "",
            "_view_module": "@jupyter-widgets/base",
            "_model_module_version": "1.5.0",
            "_view_count": null,
            "_view_module_version": "1.2.0",
            "_model_module": "@jupyter-widgets/controls"
          }
        },
        "b676362f77134e0894b3953a9d057124": {
          "model_module": "@jupyter-widgets/base",
          "model_name": "LayoutModel",
          "model_module_version": "1.2.0",
          "state": {
            "_view_name": "LayoutView",
            "grid_template_rows": null,
            "right": null,
            "justify_content": null,
            "_view_module": "@jupyter-widgets/base",
            "overflow": null,
            "_model_module_version": "1.2.0",
            "_view_count": null,
            "flex_flow": null,
            "width": null,
            "min_width": null,
            "border": null,
            "align_items": null,
            "bottom": null,
            "_model_module": "@jupyter-widgets/base",
            "top": null,
            "grid_column": null,
            "overflow_y": null,
            "overflow_x": null,
            "grid_auto_flow": null,
            "grid_area": null,
            "grid_template_columns": null,
            "flex": null,
            "_model_name": "LayoutModel",
            "justify_items": null,
            "grid_row": null,
            "max_height": null,
            "align_content": null,
            "visibility": null,
            "align_self": null,
            "height": null,
            "min_height": null,
            "padding": null,
            "grid_auto_rows": null,
            "grid_gap": null,
            "max_width": null,
            "order": null,
            "_view_module_version": "1.2.0",
            "grid_template_areas": null,
            "object_position": null,
            "object_fit": null,
            "grid_auto_columns": null,
            "margin": null,
            "display": null,
            "left": null
          }
        },
        "551099bd613b43d6bc60a1d8c04c3a6e": {
          "model_module": "@jupyter-widgets/controls",
          "model_name": "HBoxModel",
          "model_module_version": "1.5.0",
          "state": {
            "_view_name": "HBoxView",
            "_dom_classes": [],
            "_model_name": "HBoxModel",
            "_view_module": "@jupyter-widgets/controls",
            "_model_module_version": "1.5.0",
            "_view_count": null,
            "_view_module_version": "1.5.0",
            "box_style": "",
            "layout": "IPY_MODEL_d1b9a797e69642d0a4a645e3a3358fb9",
            "_model_module": "@jupyter-widgets/controls",
            "children": [
              "IPY_MODEL_a117169ab7174429aba26b4b0e7cc63a",
              "IPY_MODEL_0bf1240d16104656bddbb17334862e54",
              "IPY_MODEL_53e283f2c9124e638b2cfc77eac885d6"
            ]
          }
        },
        "d1b9a797e69642d0a4a645e3a3358fb9": {
          "model_module": "@jupyter-widgets/base",
          "model_name": "LayoutModel",
          "model_module_version": "1.2.0",
          "state": {
            "_view_name": "LayoutView",
            "grid_template_rows": null,
            "right": null,
            "justify_content": null,
            "_view_module": "@jupyter-widgets/base",
            "overflow": null,
            "_model_module_version": "1.2.0",
            "_view_count": null,
            "flex_flow": null,
            "width": null,
            "min_width": null,
            "border": null,
            "align_items": null,
            "bottom": null,
            "_model_module": "@jupyter-widgets/base",
            "top": null,
            "grid_column": null,
            "overflow_y": null,
            "overflow_x": null,
            "grid_auto_flow": null,
            "grid_area": null,
            "grid_template_columns": null,
            "flex": null,
            "_model_name": "LayoutModel",
            "justify_items": null,
            "grid_row": null,
            "max_height": null,
            "align_content": null,
            "visibility": null,
            "align_self": null,
            "height": null,
            "min_height": null,
            "padding": null,
            "grid_auto_rows": null,
            "grid_gap": null,
            "max_width": null,
            "order": null,
            "_view_module_version": "1.2.0",
            "grid_template_areas": null,
            "object_position": null,
            "object_fit": null,
            "grid_auto_columns": null,
            "margin": null,
            "display": null,
            "left": null
          }
        },
        "a117169ab7174429aba26b4b0e7cc63a": {
          "model_module": "@jupyter-widgets/controls",
          "model_name": "HTMLModel",
          "model_module_version": "1.5.0",
          "state": {
            "_view_name": "HTMLView",
            "style": "IPY_MODEL_af903f2a81a24914ad71b2aa0dc7214c",
            "_dom_classes": [],
            "description": "",
            "_model_name": "HTMLModel",
            "placeholder": "​",
            "_view_module": "@jupyter-widgets/controls",
            "_model_module_version": "1.5.0",
            "value": "",
            "_view_count": null,
            "_view_module_version": "1.5.0",
            "description_tooltip": null,
            "_model_module": "@jupyter-widgets/controls",
            "layout": "IPY_MODEL_210a8e285593406b907944841bd11109"
          }
        },
        "0bf1240d16104656bddbb17334862e54": {
          "model_module": "@jupyter-widgets/controls",
          "model_name": "FloatProgressModel",
          "model_module_version": "1.5.0",
          "state": {
            "_view_name": "ProgressView",
            "style": "IPY_MODEL_9f885696da7e4cc78bdd0451bb0e9ef4",
            "_dom_classes": [],
            "description": "",
            "_model_name": "FloatProgressModel",
            "bar_style": "success",
            "max": 4422102,
            "_view_module": "@jupyter-widgets/controls",
            "_model_module_version": "1.5.0",
            "value": 4422102,
            "_view_count": null,
            "_view_module_version": "1.5.0",
            "orientation": "horizontal",
            "min": 0,
            "description_tooltip": null,
            "_model_module": "@jupyter-widgets/controls",
            "layout": "IPY_MODEL_0b1545fea4f744038bf7d33173294ac8"
          }
        },
        "53e283f2c9124e638b2cfc77eac885d6": {
          "model_module": "@jupyter-widgets/controls",
          "model_name": "HTMLModel",
          "model_module_version": "1.5.0",
          "state": {
            "_view_name": "HTMLView",
            "style": "IPY_MODEL_ca46e827e00e4dc8bca668f256970690",
            "_dom_classes": [],
            "description": "",
            "_model_name": "HTMLModel",
            "placeholder": "​",
            "_view_module": "@jupyter-widgets/controls",
            "_model_module_version": "1.5.0",
            "value": " 4422656/? [00:00&lt;00:00, 18532694.44it/s]",
            "_view_count": null,
            "_view_module_version": "1.5.0",
            "description_tooltip": null,
            "_model_module": "@jupyter-widgets/controls",
            "layout": "IPY_MODEL_be19285203624325aa29e075fc387890"
          }
        },
        "af903f2a81a24914ad71b2aa0dc7214c": {
          "model_module": "@jupyter-widgets/controls",
          "model_name": "DescriptionStyleModel",
          "model_module_version": "1.5.0",
          "state": {
            "_view_name": "StyleView",
            "_model_name": "DescriptionStyleModel",
            "description_width": "",
            "_view_module": "@jupyter-widgets/base",
            "_model_module_version": "1.5.0",
            "_view_count": null,
            "_view_module_version": "1.2.0",
            "_model_module": "@jupyter-widgets/controls"
          }
        },
        "210a8e285593406b907944841bd11109": {
          "model_module": "@jupyter-widgets/base",
          "model_name": "LayoutModel",
          "model_module_version": "1.2.0",
          "state": {
            "_view_name": "LayoutView",
            "grid_template_rows": null,
            "right": null,
            "justify_content": null,
            "_view_module": "@jupyter-widgets/base",
            "overflow": null,
            "_model_module_version": "1.2.0",
            "_view_count": null,
            "flex_flow": null,
            "width": null,
            "min_width": null,
            "border": null,
            "align_items": null,
            "bottom": null,
            "_model_module": "@jupyter-widgets/base",
            "top": null,
            "grid_column": null,
            "overflow_y": null,
            "overflow_x": null,
            "grid_auto_flow": null,
            "grid_area": null,
            "grid_template_columns": null,
            "flex": null,
            "_model_name": "LayoutModel",
            "justify_items": null,
            "grid_row": null,
            "max_height": null,
            "align_content": null,
            "visibility": null,
            "align_self": null,
            "height": null,
            "min_height": null,
            "padding": null,
            "grid_auto_rows": null,
            "grid_gap": null,
            "max_width": null,
            "order": null,
            "_view_module_version": "1.2.0",
            "grid_template_areas": null,
            "object_position": null,
            "object_fit": null,
            "grid_auto_columns": null,
            "margin": null,
            "display": null,
            "left": null
          }
        },
        "9f885696da7e4cc78bdd0451bb0e9ef4": {
          "model_module": "@jupyter-widgets/controls",
          "model_name": "ProgressStyleModel",
          "model_module_version": "1.5.0",
          "state": {
            "_view_name": "StyleView",
            "_model_name": "ProgressStyleModel",
            "description_width": "",
            "_view_module": "@jupyter-widgets/base",
            "_model_module_version": "1.5.0",
            "_view_count": null,
            "_view_module_version": "1.2.0",
            "bar_color": null,
            "_model_module": "@jupyter-widgets/controls"
          }
        },
        "0b1545fea4f744038bf7d33173294ac8": {
          "model_module": "@jupyter-widgets/base",
          "model_name": "LayoutModel",
          "model_module_version": "1.2.0",
          "state": {
            "_view_name": "LayoutView",
            "grid_template_rows": null,
            "right": null,
            "justify_content": null,
            "_view_module": "@jupyter-widgets/base",
            "overflow": null,
            "_model_module_version": "1.2.0",
            "_view_count": null,
            "flex_flow": null,
            "width": null,
            "min_width": null,
            "border": null,
            "align_items": null,
            "bottom": null,
            "_model_module": "@jupyter-widgets/base",
            "top": null,
            "grid_column": null,
            "overflow_y": null,
            "overflow_x": null,
            "grid_auto_flow": null,
            "grid_area": null,
            "grid_template_columns": null,
            "flex": null,
            "_model_name": "LayoutModel",
            "justify_items": null,
            "grid_row": null,
            "max_height": null,
            "align_content": null,
            "visibility": null,
            "align_self": null,
            "height": null,
            "min_height": null,
            "padding": null,
            "grid_auto_rows": null,
            "grid_gap": null,
            "max_width": null,
            "order": null,
            "_view_module_version": "1.2.0",
            "grid_template_areas": null,
            "object_position": null,
            "object_fit": null,
            "grid_auto_columns": null,
            "margin": null,
            "display": null,
            "left": null
          }
        },
        "ca46e827e00e4dc8bca668f256970690": {
          "model_module": "@jupyter-widgets/controls",
          "model_name": "DescriptionStyleModel",
          "model_module_version": "1.5.0",
          "state": {
            "_view_name": "StyleView",
            "_model_name": "DescriptionStyleModel",
            "description_width": "",
            "_view_module": "@jupyter-widgets/base",
            "_model_module_version": "1.5.0",
            "_view_count": null,
            "_view_module_version": "1.2.0",
            "_model_module": "@jupyter-widgets/controls"
          }
        },
        "be19285203624325aa29e075fc387890": {
          "model_module": "@jupyter-widgets/base",
          "model_name": "LayoutModel",
          "model_module_version": "1.2.0",
          "state": {
            "_view_name": "LayoutView",
            "grid_template_rows": null,
            "right": null,
            "justify_content": null,
            "_view_module": "@jupyter-widgets/base",
            "overflow": null,
            "_model_module_version": "1.2.0",
            "_view_count": null,
            "flex_flow": null,
            "width": null,
            "min_width": null,
            "border": null,
            "align_items": null,
            "bottom": null,
            "_model_module": "@jupyter-widgets/base",
            "top": null,
            "grid_column": null,
            "overflow_y": null,
            "overflow_x": null,
            "grid_auto_flow": null,
            "grid_area": null,
            "grid_template_columns": null,
            "flex": null,
            "_model_name": "LayoutModel",
            "justify_items": null,
            "grid_row": null,
            "max_height": null,
            "align_content": null,
            "visibility": null,
            "align_self": null,
            "height": null,
            "min_height": null,
            "padding": null,
            "grid_auto_rows": null,
            "grid_gap": null,
            "max_width": null,
            "order": null,
            "_view_module_version": "1.2.0",
            "grid_template_areas": null,
            "object_position": null,
            "object_fit": null,
            "grid_auto_columns": null,
            "margin": null,
            "display": null,
            "left": null
          }
        },
        "d5bc5d4b6fe24c5d887918de626c39ae": {
          "model_module": "@jupyter-widgets/controls",
          "model_name": "HBoxModel",
          "model_module_version": "1.5.0",
          "state": {
            "_view_name": "HBoxView",
            "_dom_classes": [],
            "_model_name": "HBoxModel",
            "_view_module": "@jupyter-widgets/controls",
            "_model_module_version": "1.5.0",
            "_view_count": null,
            "_view_module_version": "1.5.0",
            "box_style": "",
            "layout": "IPY_MODEL_61f79de2c86c4505b409dd085dd182c6",
            "_model_module": "@jupyter-widgets/controls",
            "children": [
              "IPY_MODEL_603f2748e4df45019ef645e357202c19",
              "IPY_MODEL_63230ef45f6c41eb8aff22c863d76055",
              "IPY_MODEL_14990fda6ffa445a8123cea9cd3748a0"
            ]
          }
        },
        "61f79de2c86c4505b409dd085dd182c6": {
          "model_module": "@jupyter-widgets/base",
          "model_name": "LayoutModel",
          "model_module_version": "1.2.0",
          "state": {
            "_view_name": "LayoutView",
            "grid_template_rows": null,
            "right": null,
            "justify_content": null,
            "_view_module": "@jupyter-widgets/base",
            "overflow": null,
            "_model_module_version": "1.2.0",
            "_view_count": null,
            "flex_flow": null,
            "width": null,
            "min_width": null,
            "border": null,
            "align_items": null,
            "bottom": null,
            "_model_module": "@jupyter-widgets/base",
            "top": null,
            "grid_column": null,
            "overflow_y": null,
            "overflow_x": null,
            "grid_auto_flow": null,
            "grid_area": null,
            "grid_template_columns": null,
            "flex": null,
            "_model_name": "LayoutModel",
            "justify_items": null,
            "grid_row": null,
            "max_height": null,
            "align_content": null,
            "visibility": null,
            "align_self": null,
            "height": null,
            "min_height": null,
            "padding": null,
            "grid_auto_rows": null,
            "grid_gap": null,
            "max_width": null,
            "order": null,
            "_view_module_version": "1.2.0",
            "grid_template_areas": null,
            "object_position": null,
            "object_fit": null,
            "grid_auto_columns": null,
            "margin": null,
            "display": null,
            "left": null
          }
        },
        "603f2748e4df45019ef645e357202c19": {
          "model_module": "@jupyter-widgets/controls",
          "model_name": "HTMLModel",
          "model_module_version": "1.5.0",
          "state": {
            "_view_name": "HTMLView",
            "style": "IPY_MODEL_be45833591c544279d0f5305574990ff",
            "_dom_classes": [],
            "description": "",
            "_model_name": "HTMLModel",
            "placeholder": "​",
            "_view_module": "@jupyter-widgets/controls",
            "_model_module_version": "1.5.0",
            "value": "",
            "_view_count": null,
            "_view_module_version": "1.5.0",
            "description_tooltip": null,
            "_model_module": "@jupyter-widgets/controls",
            "layout": "IPY_MODEL_b3881bb9a3944063bacd749a5dbaca14"
          }
        },
        "63230ef45f6c41eb8aff22c863d76055": {
          "model_module": "@jupyter-widgets/controls",
          "model_name": "FloatProgressModel",
          "model_module_version": "1.5.0",
          "state": {
            "_view_name": "ProgressView",
            "style": "IPY_MODEL_2d217d31b2b247c6b2bf9ae273b08ec1",
            "_dom_classes": [],
            "description": "",
            "_model_name": "FloatProgressModel",
            "bar_style": "success",
            "max": 5148,
            "_view_module": "@jupyter-widgets/controls",
            "_model_module_version": "1.5.0",
            "value": 5148,
            "_view_count": null,
            "_view_module_version": "1.5.0",
            "orientation": "horizontal",
            "min": 0,
            "description_tooltip": null,
            "_model_module": "@jupyter-widgets/controls",
            "layout": "IPY_MODEL_3847c31cf3414bcba4d3e8ada97410af"
          }
        },
        "14990fda6ffa445a8123cea9cd3748a0": {
          "model_module": "@jupyter-widgets/controls",
          "model_name": "HTMLModel",
          "model_module_version": "1.5.0",
          "state": {
            "_view_name": "HTMLView",
            "style": "IPY_MODEL_05075dc937d44a5cb513a6aedd524442",
            "_dom_classes": [],
            "description": "",
            "_model_name": "HTMLModel",
            "placeholder": "​",
            "_view_module": "@jupyter-widgets/controls",
            "_model_module_version": "1.5.0",
            "value": " 6144/? [00:00&lt;00:00, 127556.87it/s]",
            "_view_count": null,
            "_view_module_version": "1.5.0",
            "description_tooltip": null,
            "_model_module": "@jupyter-widgets/controls",
            "layout": "IPY_MODEL_4b5d5b4a468848ebb08dcbdc01cceb3b"
          }
        },
        "be45833591c544279d0f5305574990ff": {
          "model_module": "@jupyter-widgets/controls",
          "model_name": "DescriptionStyleModel",
          "model_module_version": "1.5.0",
          "state": {
            "_view_name": "StyleView",
            "_model_name": "DescriptionStyleModel",
            "description_width": "",
            "_view_module": "@jupyter-widgets/base",
            "_model_module_version": "1.5.0",
            "_view_count": null,
            "_view_module_version": "1.2.0",
            "_model_module": "@jupyter-widgets/controls"
          }
        },
        "b3881bb9a3944063bacd749a5dbaca14": {
          "model_module": "@jupyter-widgets/base",
          "model_name": "LayoutModel",
          "model_module_version": "1.2.0",
          "state": {
            "_view_name": "LayoutView",
            "grid_template_rows": null,
            "right": null,
            "justify_content": null,
            "_view_module": "@jupyter-widgets/base",
            "overflow": null,
            "_model_module_version": "1.2.0",
            "_view_count": null,
            "flex_flow": null,
            "width": null,
            "min_width": null,
            "border": null,
            "align_items": null,
            "bottom": null,
            "_model_module": "@jupyter-widgets/base",
            "top": null,
            "grid_column": null,
            "overflow_y": null,
            "overflow_x": null,
            "grid_auto_flow": null,
            "grid_area": null,
            "grid_template_columns": null,
            "flex": null,
            "_model_name": "LayoutModel",
            "justify_items": null,
            "grid_row": null,
            "max_height": null,
            "align_content": null,
            "visibility": null,
            "align_self": null,
            "height": null,
            "min_height": null,
            "padding": null,
            "grid_auto_rows": null,
            "grid_gap": null,
            "max_width": null,
            "order": null,
            "_view_module_version": "1.2.0",
            "grid_template_areas": null,
            "object_position": null,
            "object_fit": null,
            "grid_auto_columns": null,
            "margin": null,
            "display": null,
            "left": null
          }
        },
        "2d217d31b2b247c6b2bf9ae273b08ec1": {
          "model_module": "@jupyter-widgets/controls",
          "model_name": "ProgressStyleModel",
          "model_module_version": "1.5.0",
          "state": {
            "_view_name": "StyleView",
            "_model_name": "ProgressStyleModel",
            "description_width": "",
            "_view_module": "@jupyter-widgets/base",
            "_model_module_version": "1.5.0",
            "_view_count": null,
            "_view_module_version": "1.2.0",
            "bar_color": null,
            "_model_module": "@jupyter-widgets/controls"
          }
        },
        "3847c31cf3414bcba4d3e8ada97410af": {
          "model_module": "@jupyter-widgets/base",
          "model_name": "LayoutModel",
          "model_module_version": "1.2.0",
          "state": {
            "_view_name": "LayoutView",
            "grid_template_rows": null,
            "right": null,
            "justify_content": null,
            "_view_module": "@jupyter-widgets/base",
            "overflow": null,
            "_model_module_version": "1.2.0",
            "_view_count": null,
            "flex_flow": null,
            "width": null,
            "min_width": null,
            "border": null,
            "align_items": null,
            "bottom": null,
            "_model_module": "@jupyter-widgets/base",
            "top": null,
            "grid_column": null,
            "overflow_y": null,
            "overflow_x": null,
            "grid_auto_flow": null,
            "grid_area": null,
            "grid_template_columns": null,
            "flex": null,
            "_model_name": "LayoutModel",
            "justify_items": null,
            "grid_row": null,
            "max_height": null,
            "align_content": null,
            "visibility": null,
            "align_self": null,
            "height": null,
            "min_height": null,
            "padding": null,
            "grid_auto_rows": null,
            "grid_gap": null,
            "max_width": null,
            "order": null,
            "_view_module_version": "1.2.0",
            "grid_template_areas": null,
            "object_position": null,
            "object_fit": null,
            "grid_auto_columns": null,
            "margin": null,
            "display": null,
            "left": null
          }
        },
        "05075dc937d44a5cb513a6aedd524442": {
          "model_module": "@jupyter-widgets/controls",
          "model_name": "DescriptionStyleModel",
          "model_module_version": "1.5.0",
          "state": {
            "_view_name": "StyleView",
            "_model_name": "DescriptionStyleModel",
            "description_width": "",
            "_view_module": "@jupyter-widgets/base",
            "_model_module_version": "1.5.0",
            "_view_count": null,
            "_view_module_version": "1.2.0",
            "_model_module": "@jupyter-widgets/controls"
          }
        },
        "4b5d5b4a468848ebb08dcbdc01cceb3b": {
          "model_module": "@jupyter-widgets/base",
          "model_name": "LayoutModel",
          "model_module_version": "1.2.0",
          "state": {
            "_view_name": "LayoutView",
            "grid_template_rows": null,
            "right": null,
            "justify_content": null,
            "_view_module": "@jupyter-widgets/base",
            "overflow": null,
            "_model_module_version": "1.2.0",
            "_view_count": null,
            "flex_flow": null,
            "width": null,
            "min_width": null,
            "border": null,
            "align_items": null,
            "bottom": null,
            "_model_module": "@jupyter-widgets/base",
            "top": null,
            "grid_column": null,
            "overflow_y": null,
            "overflow_x": null,
            "grid_auto_flow": null,
            "grid_area": null,
            "grid_template_columns": null,
            "flex": null,
            "_model_name": "LayoutModel",
            "justify_items": null,
            "grid_row": null,
            "max_height": null,
            "align_content": null,
            "visibility": null,
            "align_self": null,
            "height": null,
            "min_height": null,
            "padding": null,
            "grid_auto_rows": null,
            "grid_gap": null,
            "max_width": null,
            "order": null,
            "_view_module_version": "1.2.0",
            "grid_template_areas": null,
            "object_position": null,
            "object_fit": null,
            "grid_auto_columns": null,
            "margin": null,
            "display": null,
            "left": null
          }
        }
      }
    }
  },
  "cells": [
    {
      "cell_type": "markdown",
      "metadata": {
        "id": "C_FyQ99czaAS"
      },
      "source": [
        "# 이웃집 토토치 파이토치 : Day 1"
      ]
    },
    {
      "cell_type": "markdown",
      "metadata": {
        "id": "GIEtaQ_Czdkp"
      },
      "source": [
        "📢 해당 게시물은 파이토치 공식 튜토리얼 중 파이토치(PyTorch) 시작하기를 읽고 직접 작성해보는 실습 노트북입니다."
      ]
    },
    {
      "cell_type": "markdown",
      "metadata": {
        "id": "Jt7_JN5X-Pab"
      },
      "source": [
        "#### 목차\n",
        "1. 탠서(TENSOR)\n",
        "    1. 텐서(tensor) 초기화\n",
        "    2. 텐서의 속성(Attribute)\n",
        "    3. 텐서 연산(Operation)\n",
        "    4. NumPy 변환(Bridge)\n",
        "2. Autograd\n",
        "    1. 간단한 이미지 분류 학습\n",
        "    2. [실습] 연산 그래프 직접 구현하기\n",
        "3. DATASET과 DATALOADER\n",
        "    1. 데이터셋 불러오기\n",
        "    2. 데이터셋을 순회하고 시각화하기\n",
        "    3. 파일에서 사용자 정의 데이터셋 만들기\n",
        "    4. DataLoader로 학습용 데이터 준비하기\n",
        "    5. DataLoader를 통해 순회하기"
      ]
    },
    {
      "cell_type": "markdown",
      "metadata": {
        "id": "w5CTkc4nirPn"
      },
      "source": [
        "## 1. 텐서 (Tensor)"
      ]
    },
    {
      "cell_type": "code",
      "metadata": {
        "id": "mxpKzLnXimaU"
      },
      "source": [
        "import torch\n",
        "import numpy as np"
      ],
      "execution_count": 1,
      "outputs": []
    },
    {
      "cell_type": "markdown",
      "metadata": {
        "id": "Ul7rdwiRi5zl"
      },
      "source": [
        "### 텐서(tensor) 초기화"
      ]
    },
    {
      "cell_type": "markdown",
      "metadata": {
        "id": "ZVcsUDhcjCrD"
      },
      "source": [
        "**데이터로부터 직접(directly) 생성하기**"
      ]
    },
    {
      "cell_type": "code",
      "metadata": {
        "id": "10y9YFqZiopn",
        "colab": {
          "base_uri": "https://localhost:8080/"
        },
        "outputId": "4b25f015-d95c-4e1f-d910-cfed435d83c8"
      },
      "source": [
        "data = [[1, 2],[3, 4]]\n",
        "x_data = torch.tensor(data)\n",
        "x_data"
      ],
      "execution_count": 2,
      "outputs": [
        {
          "output_type": "execute_result",
          "data": {
            "text/plain": [
              "tensor([[1, 2],\n",
              "        [3, 4]])"
            ]
          },
          "metadata": {},
          "execution_count": 2
        }
      ]
    },
    {
      "cell_type": "markdown",
      "metadata": {
        "id": "BhK77YQwi6L1"
      },
      "source": [
        "**NumPy 배열로부터 생성하기**"
      ]
    },
    {
      "cell_type": "code",
      "metadata": {
        "id": "KvgWwsTUipiu",
        "colab": {
          "base_uri": "https://localhost:8080/"
        },
        "outputId": "6f4c7c1f-f07f-4496-f04b-6c65f77fa9d0"
      },
      "source": [
        "np_array = np.array(data)\n",
        "x_np = torch.from_numpy(np_array)\n",
        "x_np"
      ],
      "execution_count": 3,
      "outputs": [
        {
          "output_type": "execute_result",
          "data": {
            "text/plain": [
              "tensor([[1, 2],\n",
              "        [3, 4]])"
            ]
          },
          "metadata": {},
          "execution_count": 3
        }
      ]
    },
    {
      "cell_type": "markdown",
      "metadata": {
        "id": "CF0gt5U6jR8V"
      },
      "source": [
        "**다른 텐서로부터 생성하기**"
      ]
    },
    {
      "cell_type": "code",
      "metadata": {
        "id": "wikxshb9iqQ8",
        "colab": {
          "base_uri": "https://localhost:8080/"
        },
        "outputId": "322e86ed-ad5b-42d0-aff3-2ba6f89e6376"
      },
      "source": [
        "# x_data의 속성을 유지합니다.\n",
        "x_ones = torch.ones_like(x_data) \n",
        "print(f\"Ones Tensor: \\n {x_ones} \\n\")\n",
        "\n",
        "# x_data의 속성을 덮어씁니다.\n",
        "x_rand = torch.rand_like(x_data, dtype=torch.float) \n",
        "print(f\"Random Tensor: \\n {x_rand} \\n\")"
      ],
      "execution_count": 4,
      "outputs": [
        {
          "output_type": "stream",
          "name": "stdout",
          "text": [
            "Ones Tensor: \n",
            " tensor([[1, 1],\n",
            "        [1, 1]]) \n",
            "\n",
            "Random Tensor: \n",
            " tensor([[0.7417, 0.3019],\n",
            "        [0.1633, 0.9932]]) \n",
            "\n"
          ]
        }
      ]
    },
    {
      "cell_type": "markdown",
      "metadata": {
        "id": "Sepex-_YjYkG"
      },
      "source": [
        "**무작위(random) 또는 상수(constant) 값을 사용하기:**"
      ]
    },
    {
      "cell_type": "code",
      "metadata": {
        "id": "jmVb1QuTiqZb",
        "colab": {
          "base_uri": "https://localhost:8080/"
        },
        "outputId": "593c8308-02ea-4fec-bc6b-778730270361"
      },
      "source": [
        "shape = (2,3,)\n",
        "rand_tensor = torch.rand(shape)\n",
        "ones_tensor = torch.ones(shape)\n",
        "zeros_tensor = torch.zeros(shape)\n",
        "\n",
        "print(f\"Random Tensor: \\n {rand_tensor} \\n\")\n",
        "print(f\"Ones Tensor: \\n {ones_tensor} \\n\")\n",
        "print(f\"Zeros Tensor: \\n {zeros_tensor}\")"
      ],
      "execution_count": 5,
      "outputs": [
        {
          "output_type": "stream",
          "name": "stdout",
          "text": [
            "Random Tensor: \n",
            " tensor([[0.6258, 0.8072, 0.5944],\n",
            "        [0.7807, 0.7263, 0.5444]]) \n",
            "\n",
            "Ones Tensor: \n",
            " tensor([[1., 1., 1.],\n",
            "        [1., 1., 1.]]) \n",
            "\n",
            "Zeros Tensor: \n",
            " tensor([[0., 0., 0.],\n",
            "        [0., 0., 0.]])\n"
          ]
        }
      ]
    },
    {
      "cell_type": "code",
      "metadata": {
        "id": "va-Z1Qpt-Pav",
        "colab": {
          "base_uri": "https://localhost:8080/"
        },
        "outputId": "280f9198-faf8-4d95-f553-a49a31f52133"
      },
      "source": [
        "# add_ 메소드는 결과를 변수에 저장한다\n",
        "\n",
        "rand_tensor.add(ones_tensor)\n",
        "print(rand_tensor)\n",
        "rand_tensor.add_(ones_tensor)\n",
        "print(rand_tensor)"
      ],
      "execution_count": 6,
      "outputs": [
        {
          "output_type": "stream",
          "name": "stdout",
          "text": [
            "tensor([[0.6258, 0.8072, 0.5944],\n",
            "        [0.7807, 0.7263, 0.5444]])\n",
            "tensor([[1.6258, 1.8072, 1.5944],\n",
            "        [1.7807, 1.7263, 1.5444]])\n"
          ]
        }
      ]
    },
    {
      "cell_type": "markdown",
      "metadata": {
        "id": "p2blbrRdjgI2"
      },
      "source": [
        "### 텐서의 속성(Attribute)"
      ]
    },
    {
      "cell_type": "code",
      "metadata": {
        "id": "6HbUDrVljf_H",
        "colab": {
          "base_uri": "https://localhost:8080/"
        },
        "outputId": "9a55fcae-7024-4ccc-a90a-38cd9bf631a0"
      },
      "source": [
        "tensor = torch.rand(3,4)\n",
        "\n",
        "############################\n",
        "# 밑줄 친 곳을 채워주세요! #\n",
        "############################\n",
        "\n",
        "print(f\"Shape of tensor: {tensor.shape}\")\n",
        "print(f\"Datatype of tensor: {tensor.dtype}\")\n",
        "print(f\"Device tensor is stored on: {tensor.device}\")"
      ],
      "execution_count": 8,
      "outputs": [
        {
          "output_type": "stream",
          "name": "stdout",
          "text": [
            "Shape of tensor: torch.Size([3, 4])\n",
            "Datatype of tensor: torch.float32\n",
            "Device tensor is stored on: cpu\n"
          ]
        }
      ]
    },
    {
      "cell_type": "markdown",
      "metadata": {
        "id": "QdTMCC1KmPD-"
      },
      "source": [
        "### 텐서 연산(Operation)"
      ]
    },
    {
      "cell_type": "markdown",
      "metadata": {
        "id": "lrq4ODhO-Pax"
      },
      "source": [
        "<div class=\"alert alert-warning\">\n",
        "    <p><b>Q. 텐서를 사용하면 어떤 점이 좋을까요??</b></p>\n",
        "    <p>👉 (여기에 답을 입력해 주세요)</p>\n",
        "</div>"
      ]
    },
    {
      "cell_type": "code",
      "metadata": {
        "id": "nyM7zxmnjf3y"
      },
      "source": [
        "# GPU가 존재하면 텐서를 이동합니다\n",
        "if torch.cuda.is_available():\n",
        "  tensor = tensor.to('cuda')"
      ],
      "execution_count": 9,
      "outputs": []
    },
    {
      "cell_type": "markdown",
      "metadata": {
        "id": "LV3e7QrZmdF8"
      },
      "source": [
        "NumPy식의 표준 인덱싱과 슬라이싱:"
      ]
    },
    {
      "cell_type": "code",
      "metadata": {
        "id": "522O3OXJjfuB",
        "colab": {
          "base_uri": "https://localhost:8080/"
        },
        "outputId": "25c216f5-9351-4646-90e0-2bfdf4c70ad6"
      },
      "source": [
        "data = [[1, 2, 3],\n",
        "         [4, 5, 6],\n",
        "         [7, 8, 9]]\n",
        "t_data = torch.tensor(data)\n",
        "\n",
        "############################\n",
        "# 밑줄 친 곳을 채워주세요! #\n",
        "############################\n",
        "\n",
        "print('2번째 행 출력: ', t_data[1])\n",
        "print('t_data에서 5를 출력: ', t_data[1][1])\n",
        "print('마지막 column 출력:', t_data[:,-1])\n",
        "t_data[:, -1] = 0\n",
        "print('3번째 column을 0으로 만들기:')\n",
        "print(t_data)"
      ],
      "execution_count": 10,
      "outputs": [
        {
          "output_type": "stream",
          "name": "stdout",
          "text": [
            "2번째 행 출력:  tensor([4, 5, 6])\n",
            "t_data에서 5를 출력:  tensor(5)\n",
            "마지막 column 출력: tensor([3, 6, 9])\n",
            "3번째 column을 0으로 만들기:\n",
            "tensor([[1, 2, 0],\n",
            "        [4, 5, 0],\n",
            "        [7, 8, 0]])\n"
          ]
        }
      ]
    },
    {
      "cell_type": "markdown",
      "metadata": {
        "id": "4DbwAF-TpeBg"
      },
      "source": [
        "**텐서 합치기**"
      ]
    },
    {
      "cell_type": "code",
      "metadata": {
        "id": "kWGBUa0ljfi6",
        "colab": {
          "base_uri": "https://localhost:8080/"
        },
        "outputId": "2c71cd70-5e32-4015-b637-1e9f59179754"
      },
      "source": [
        "t1 = torch.cat([tensor, tensor, tensor], dim=1)\n",
        "print(t1)"
      ],
      "execution_count": 11,
      "outputs": [
        {
          "output_type": "stream",
          "name": "stdout",
          "text": [
            "tensor([[0.3700, 0.5485, 0.6548, 0.9194, 0.3700, 0.5485, 0.6548, 0.9194, 0.3700,\n",
            "         0.5485, 0.6548, 0.9194],\n",
            "        [0.1506, 0.0910, 0.6198, 0.2775, 0.1506, 0.0910, 0.6198, 0.2775, 0.1506,\n",
            "         0.0910, 0.6198, 0.2775],\n",
            "        [0.8948, 0.3805, 0.1971, 0.6873, 0.8948, 0.3805, 0.1971, 0.6873, 0.8948,\n",
            "         0.3805, 0.1971, 0.6873]])\n"
          ]
        }
      ]
    },
    {
      "cell_type": "markdown",
      "metadata": {
        "id": "VCf2__l_ppjd"
      },
      "source": [
        "**산술 연산(Arithmetic operations)**"
      ]
    },
    {
      "cell_type": "code",
      "metadata": {
        "id": "FAMnNAnurkDb"
      },
      "source": [
        "tensor = torch.rand(3,4)"
      ],
      "execution_count": 12,
      "outputs": []
    },
    {
      "cell_type": "code",
      "metadata": {
        "id": "8rl2lXktjfEx",
        "colab": {
          "base_uri": "https://localhost:8080/"
        },
        "outputId": "b7c7f3f0-db4a-4a1c-9d04-186245e5c22c"
      },
      "source": [
        "# 두 텐서 간의 행렬 곱(matrix multiplication)을 계산합니다. y1, y2, y3은 모두 같은 값을 갖습니다.\n",
        "y1 = tensor @ tensor.T\n",
        "y2 = tensor.matmul(tensor.T)\n",
        "\n",
        "y3 = torch.rand_like(tensor)\n",
        "torch.matmul(tensor, tensor.T, out=y3)  # 결과를 y3 변수에 저장\n",
        "print(y1)\n",
        "print(y2)\n",
        "print(y3)\n",
        "\n",
        "print('-- '*15)\n",
        "# 요소별 곱(element-wise product)을 계산합니다. z1, z2, z3는 모두 같은 값을 갖습니다.\n",
        "z1 = tensor * tensor\n",
        "z2 = tensor.mul(tensor)\n",
        "\n",
        "z3 = torch.rand_like(tensor)\n",
        "torch.mul(tensor, tensor, out=z3)\n",
        "print(z1)\n",
        "print(z2)\n",
        "print(z3)"
      ],
      "execution_count": 13,
      "outputs": [
        {
          "output_type": "stream",
          "name": "stdout",
          "text": [
            "tensor([[1.0555, 0.6451, 1.0353],\n",
            "        [0.6451, 0.5302, 0.6017],\n",
            "        [1.0353, 0.6017, 1.8267]])\n",
            "tensor([[1.0555, 0.6451, 1.0353],\n",
            "        [0.6451, 0.5302, 0.6017],\n",
            "        [1.0353, 0.6017, 1.8267]])\n",
            "tensor([[1.0555, 0.6451, 1.0353],\n",
            "        [0.6451, 0.5302, 0.6017],\n",
            "        [1.0353, 0.6017, 1.8267]])\n",
            "-- -- -- -- -- -- -- -- -- -- -- -- -- -- -- \n",
            "tensor([[0.1141, 0.0022, 0.1584, 0.7808],\n",
            "        [0.0008, 0.0072, 0.3052, 0.2170],\n",
            "        [0.4339, 0.7573, 0.0889, 0.5466]])\n",
            "tensor([[0.1141, 0.0022, 0.1584, 0.7808],\n",
            "        [0.0008, 0.0072, 0.3052, 0.2170],\n",
            "        [0.4339, 0.7573, 0.0889, 0.5466]])\n",
            "tensor([[0.1141, 0.0022, 0.1584, 0.7808],\n",
            "        [0.0008, 0.0072, 0.3052, 0.2170],\n",
            "        [0.4339, 0.7573, 0.0889, 0.5466]])\n"
          ]
        }
      ]
    },
    {
      "cell_type": "markdown",
      "metadata": {
        "id": "r_KISyAA-Pa0"
      },
      "source": [
        "<div class=\"alert alert-warning\">\n",
        "    <p><b>Q. 행렬 곱(matrix multiplication)과 요소별 곱(element-wise product)의 차이점이 뭘까요??</b></p>\n",
        "    <p>👉 (여기에 답을 입력해 주세요)</p>\n",
        "</div>"
      ]
    },
    {
      "cell_type": "markdown",
      "metadata": {
        "id": "tS823HhDsI6Z"
      },
      "source": [
        "**단일-요소(single-element)**"
      ]
    },
    {
      "cell_type": "code",
      "metadata": {
        "id": "C9_IWxvHsIqV",
        "colab": {
          "base_uri": "https://localhost:8080/"
        },
        "outputId": "4218b9f5-e99b-4e7e-ae5a-c9bd56f7de0f"
      },
      "source": [
        "agg = tensor.sum()\n",
        "agg_item = agg.item()\n",
        "print(agg_item, type(agg_item))"
      ],
      "execution_count": 14,
      "outputs": [
        {
          "output_type": "stream",
          "name": "stdout",
          "text": [
            "5.364258766174316 <class 'float'>\n"
          ]
        }
      ]
    },
    {
      "cell_type": "markdown",
      "metadata": {
        "id": "F6VGHAC4wWCi"
      },
      "source": [
        "**텐서차원 축소/확장(Squeeze/Unsqueeze) 연산**"
      ]
    },
    {
      "cell_type": "code",
      "metadata": {
        "id": "DYhTcpCor2wC",
        "colab": {
          "base_uri": "https://localhost:8080/"
        },
        "outputId": "522b3af0-9723-4fb3-9b3a-f356d7edcde4"
      },
      "source": [
        "# Squeeze/Unsqueeze\n",
        "x = torch.rand((1,1,3,4))\n",
        "y = x.squeeze()\n",
        "print(y.size())\n",
        "print(y.unsqueeze(1).size())"
      ],
      "execution_count": 15,
      "outputs": [
        {
          "output_type": "stream",
          "name": "stdout",
          "text": [
            "torch.Size([3, 4])\n",
            "torch.Size([3, 1, 4])\n"
          ]
        }
      ]
    },
    {
      "cell_type": "markdown",
      "metadata": {
        "id": "55n7m7kz-Pa1"
      },
      "source": [
        "<div class=\"alert alert-warning\">\n",
        "    <p><b>Q. Squeeze와 Unsqueeze는 어떤 경우에 사용 될까요? 자유롭게 생각해보죠!</b></p>\n",
        "    <p>👉 (여기에 답을 입력해 주세요)</p>\n",
        "</div>"
      ]
    },
    {
      "cell_type": "markdown",
      "metadata": {
        "id": "vf3FPixi-Pa1"
      },
      "source": [
        "**스태킹(Stacking)**"
      ]
    },
    {
      "cell_type": "code",
      "metadata": {
        "id": "OtRs64BC-Pa2",
        "colab": {
          "base_uri": "https://localhost:8080/"
        },
        "outputId": "74031022-8eda-4d8c-b27f-fb03f86e87ac"
      },
      "source": [
        "x = torch.FloatTensor([1, 4])\n",
        "y = torch.FloatTensor([2, 5])\n",
        "z = torch.FloatTensor([3, 6])\n",
        "\n",
        "print(torch.stack([x, y, z]))"
      ],
      "execution_count": 16,
      "outputs": [
        {
          "output_type": "stream",
          "name": "stdout",
          "text": [
            "tensor([[1., 4.],\n",
            "        [2., 5.],\n",
            "        [3., 6.]])\n"
          ]
        }
      ]
    },
    {
      "cell_type": "markdown",
      "metadata": {
        "id": "99Xuvy45-Pa2"
      },
      "source": [
        "### 넘파이(Numpy)"
      ]
    },
    {
      "cell_type": "markdown",
      "metadata": {
        "id": "17IUYsqNxUxp"
      },
      "source": [
        "**텐서를 NumPy 배열로 변환하기**"
      ]
    },
    {
      "cell_type": "code",
      "metadata": {
        "id": "5EuvEtoIxUl-",
        "colab": {
          "base_uri": "https://localhost:8080/"
        },
        "outputId": "b19e279a-987e-4c5d-ed96-384a4ec5dce1"
      },
      "source": [
        "t = torch.ones(5)\n",
        "print(f\"t: {t}\")\n",
        "n = t.numpy()\n",
        "print(f\"n: {n}\")"
      ],
      "execution_count": 17,
      "outputs": [
        {
          "output_type": "stream",
          "name": "stdout",
          "text": [
            "t: tensor([1., 1., 1., 1., 1.])\n",
            "n: [1. 1. 1. 1. 1.]\n"
          ]
        }
      ]
    },
    {
      "cell_type": "markdown",
      "metadata": {
        "id": "IDV_kHfJxYvM"
      },
      "source": [
        "텐서의 변경 사항이 NumPy 배열에 반영됩니다."
      ]
    },
    {
      "cell_type": "code",
      "metadata": {
        "id": "FcKNnWvFxUhd",
        "colab": {
          "base_uri": "https://localhost:8080/"
        },
        "outputId": "b33c6ca8-77a8-4b13-ea39-18b84aea66b8"
      },
      "source": [
        "t.add_(1)\n",
        "print(f\"t: {t}\")\n",
        "print(f\"n: {n}\")"
      ],
      "execution_count": 18,
      "outputs": [
        {
          "output_type": "stream",
          "name": "stdout",
          "text": [
            "t: tensor([2., 2., 2., 2., 2.])\n",
            "n: [2. 2. 2. 2. 2.]\n"
          ]
        }
      ]
    },
    {
      "cell_type": "markdown",
      "metadata": {
        "id": "4D5LXTwDxcap"
      },
      "source": [
        "**NumPy 배열을 텐서로 변환하기**"
      ]
    },
    {
      "cell_type": "code",
      "metadata": {
        "id": "0GLooKX3xUfd"
      },
      "source": [
        "n = np.ones(5)\n",
        "t = torch.from_numpy(n)"
      ],
      "execution_count": 19,
      "outputs": []
    },
    {
      "cell_type": "markdown",
      "metadata": {
        "id": "Y0VP8MyOxfq_"
      },
      "source": [
        "NumPy 배열의 변경 사항이 텐서에 반영됩니다."
      ]
    },
    {
      "cell_type": "code",
      "metadata": {
        "id": "9XJL53PRxUZc",
        "colab": {
          "base_uri": "https://localhost:8080/"
        },
        "outputId": "7c694661-9378-4b21-d45f-a7f850f00649"
      },
      "source": [
        "np.add(n, 1, out=n)\n",
        "print(f\"t: {t}\")\n",
        "print(f\"n: {n}\")"
      ],
      "execution_count": 20,
      "outputs": [
        {
          "output_type": "stream",
          "name": "stdout",
          "text": [
            "t: tensor([2., 2., 2., 2., 2.], dtype=torch.float64)\n",
            "n: [2. 2. 2. 2. 2.]\n"
          ]
        }
      ]
    },
    {
      "cell_type": "markdown",
      "metadata": {
        "id": "xMUQ6oT5-Pa4"
      },
      "source": [
        "# 2. Autograd"
      ]
    },
    {
      "cell_type": "markdown",
      "metadata": {
        "id": "pTJt-pJE-Pa5"
      },
      "source": [
        "## 간단 이미지 분류 모델 학습"
      ]
    },
    {
      "cell_type": "code",
      "metadata": {
        "id": "szNLbi0R-Pa5",
        "colab": {
          "base_uri": "https://localhost:8080/"
        },
        "outputId": "8d8831bc-a92d-4f5a-a7c5-fb45d9f59d00"
      },
      "source": [
        "random_seed = 99\n",
        "torch.manual_seed(random_seed)"
      ],
      "execution_count": 21,
      "outputs": [
        {
          "output_type": "execute_result",
          "data": {
            "text/plain": [
              "<torch._C.Generator at 0x7f9693383b10>"
            ]
          },
          "metadata": {},
          "execution_count": 21
        }
      ]
    },
    {
      "cell_type": "markdown",
      "metadata": {
        "id": "0PzI5OIj-Pa5"
      },
      "source": [
        "동일한 출력을 얻기 위해서 random seed 값 설정"
      ]
    },
    {
      "cell_type": "markdown",
      "metadata": {
        "id": "sDF--AF8-Pa5"
      },
      "source": [
        "### 1) 데이터 준비하기"
      ]
    },
    {
      "cell_type": "code",
      "metadata": {
        "id": "RyZG7JVP-Pa6",
        "colab": {
          "base_uri": "https://localhost:8080/"
        },
        "outputId": "d7ae7043-a4f0-4227-82a8-07069e5ab981"
      },
      "source": [
        "model = torch.nn.Sequential(\n",
        "    torch.nn.Linear(6, 1),\n",
        "    torch.nn.Flatten()\n",
        ")\n",
        "data = torch.rand(2, 6)\n",
        "labels = torch.ones(2, 1)\n",
        "labels"
      ],
      "execution_count": 22,
      "outputs": [
        {
          "output_type": "execute_result",
          "data": {
            "text/plain": [
              "tensor([[1.],\n",
              "        [1.]])"
            ]
          },
          "metadata": {},
          "execution_count": 22
        }
      ]
    },
    {
      "cell_type": "markdown",
      "metadata": {
        "id": "2xKx5DVi-Pa6"
      },
      "source": [
        "랜덤으로 설정된 label 값은 ([1.], [1.])입니다."
      ]
    },
    {
      "cell_type": "markdown",
      "metadata": {
        "id": "tfmkfjiD-Pa6"
      },
      "source": [
        "<div class=\"alert alert-warning\">\n",
        "    <p><b>Q. 각자 그림을 그리면서 이해하시는 것을 추천드립니다!</b></p>\n",
        "    <p>👉 (해답은 토론 시간에 공유해볼게요))</p>\n",
        "</div>"
      ]
    },
    {
      "cell_type": "markdown",
      "metadata": {
        "id": "9gGXqL2--Pa6"
      },
      "source": [
        "### 2) 순전파 (Forward Propagation)"
      ]
    },
    {
      "cell_type": "code",
      "metadata": {
        "id": "rqFMcQ8h-Pa7",
        "colab": {
          "base_uri": "https://localhost:8080/"
        },
        "outputId": "68691a83-1b5e-4fe2-8bf2-e73099e4295e"
      },
      "source": [
        "prediction = model(data) # 순전파 단계(forward pass)\n",
        "prediction"
      ],
      "execution_count": 23,
      "outputs": [
        {
          "output_type": "execute_result",
          "data": {
            "text/plain": [
              "tensor([[0.3425],\n",
              "        [0.2512]], grad_fn=<AddmmBackward>)"
            ]
          },
          "metadata": {},
          "execution_count": 23
        }
      ]
    },
    {
      "cell_type": "markdown",
      "metadata": {
        "id": "5d7ocNf5-Pa8"
      },
      "source": [
        "순전파 단계에서는 입력(input) 데이터를 모델의 각 층(layer)에 통과시켜 예측값(prediction)을 생성합니다.   \n",
        "모델의 output으로 나온 pred 값은 ([0.3425], [0.2512])입니다."
      ]
    },
    {
      "cell_type": "code",
      "metadata": {
        "id": "awVKRSqu-Pa8",
        "colab": {
          "base_uri": "https://localhost:8080/"
        },
        "outputId": "bf250723-b41d-4b70-efff-f8e4baf0d26b"
      },
      "source": [
        "layer = model[0]\n",
        "print(f'Result: y = {layer.bias.item()} + {layer.weight[:, 0].item()} x + {layer.weight[:, 1].item()} x^2 + {layer.weight[:, 2].item()} x^3')"
      ],
      "execution_count": 24,
      "outputs": [
        {
          "output_type": "stream",
          "name": "stdout",
          "text": [
            "Result: y = -0.36719897389411926 + -0.32389628887176514 x + 0.38388070464134216 x^2 + 0.36584773659706116 x^3\n"
          ]
        }
      ]
    },
    {
      "cell_type": "markdown",
      "metadata": {
        "id": "X9byFPB9-Pa9"
      },
      "source": [
        "모델의 초기 weight와 bias를 확인 해보시길 바랍니다.  \n",
        "손실함수와 옵티마이저를 사용해서 이 값들을 변경할 것입니다."
      ]
    },
    {
      "cell_type": "markdown",
      "metadata": {
        "id": "jswwvWZf-Pa9"
      },
      "source": [
        "### 3) 손실함수 (loss) 계산하기"
      ]
    },
    {
      "cell_type": "code",
      "metadata": {
        "id": "31TuOSa0-Pa-",
        "colab": {
          "base_uri": "https://localhost:8080/"
        },
        "outputId": "78860e4d-bdaa-4432-adac-06977b94cd25"
      },
      "source": [
        "loss = (prediction - labels).sum() \n",
        "print(loss)\n",
        "loss.backward() # 역전파 단계(backward pass)"
      ],
      "execution_count": 25,
      "outputs": [
        {
          "output_type": "stream",
          "name": "stdout",
          "text": [
            "tensor(-1.4063, grad_fn=<SumBackward0>)\n"
          ]
        }
      ]
    },
    {
      "cell_type": "markdown",
      "metadata": {
        "id": "W_K1b38d-Pa-"
      },
      "source": [
        "- 모델의 예측값(prediction)과 그에 해당하는 정답(label)의 차이를 합하여 오차(error, 손실(loss) )를 계산하였습니다. 손실함수를 구하는 방법은 다양하지만 이번글에서는 간단하게 차이값으로만 구하도록 하겠습니다.\n",
        "\n",
        "-  오차 텐서(error tensor)에 .backward() 를 호출하면 역전파가 시작되며, 그 다음 Autograd가 매개변수(parameter)의 .grad 속성(attribute)에, 모델의 각 매개변수에 대한 변화도(gradient)를 계산하고 저장합니다."
      ]
    },
    {
      "cell_type": "markdown",
      "metadata": {
        "id": "65g8eThP-Pa-"
      },
      "source": [
        "<div class=\"alert alert-warning\">\n",
        "    <p><b>Q. loss의 결과는 -1.4063이 나왔습니다, 직접 labels 값과 pred 값을 비교해서 계산해봅시다!</b></p>\n",
        "    <p>👉 (해답은 토론 시간에 공유해볼게요))</p>\n",
        "</div>"
      ]
    },
    {
      "cell_type": "markdown",
      "metadata": {
        "id": "5m2r1k34-Pa_"
      },
      "source": [
        "### 4) 옵티마이저 설정"
      ]
    },
    {
      "cell_type": "code",
      "metadata": {
        "id": "rmzfa1Ml-Pa_"
      },
      "source": [
        "optim = torch.optim.SGD(model.parameters(), lr=1e-2, momentum=0.9)"
      ],
      "execution_count": 26,
      "outputs": []
    },
    {
      "cell_type": "markdown",
      "metadata": {
        "id": "kpEi8MSL-Pa_"
      },
      "source": [
        "- 학습율(learning rate) 0.01과 모멘텀(momentum) 0.9를 갖는 SGD로 옵티마이즈를 설정하였으며, 옵티마이저(optimizer)에 모델의 모든 매개변수(models.parameters())를 등록합니다."
      ]
    },
    {
      "cell_type": "markdown",
      "metadata": {
        "id": "WVK1IZZ--PbA"
      },
      "source": [
        "### 5) 경사하강법"
      ]
    },
    {
      "cell_type": "code",
      "metadata": {
        "id": "TENIc0UX-PbA"
      },
      "source": [
        "optim.step() # 경사하강법(gradient descent)"
      ],
      "execution_count": 27,
      "outputs": []
    },
    {
      "cell_type": "markdown",
      "metadata": {
        "id": "qeRpR1t4-PbA"
      },
      "source": [
        "- step 을 호출하여 경사하강법(gradient descent)을 시작합니다. 옵티마이저는 .grad 에 저장된 기울기(gradient)에 따라 각 매개변수를 조정(adjust)합니다."
      ]
    },
    {
      "cell_type": "code",
      "metadata": {
        "id": "mQXkMEO1-PbA",
        "colab": {
          "base_uri": "https://localhost:8080/"
        },
        "outputId": "8802ebaa-48e9-4589-cfbb-b9aa690e7e94"
      },
      "source": [
        "layer = model[0]\n",
        "print(f'Result: y = {layer.bias.item()} + {layer.weight[:, 0].item()} x + {layer.weight[:, 1].item()} x^2 + {layer.weight[:, 2].item()} x^3')"
      ],
      "execution_count": 28,
      "outputs": [
        {
          "output_type": "stream",
          "name": "stdout",
          "text": [
            "Result: y = -0.3871989846229553 + -0.3374588191509247 x + 0.36573174595832825 x^2 + 0.3557245135307312 x^3\n"
          ]
        }
      ]
    },
    {
      "cell_type": "code",
      "metadata": {
        "id": "dMtJywCE-PbA",
        "colab": {
          "base_uri": "https://localhost:8080/"
        },
        "outputId": "2172f16f-7a40-4ff5-cebc-d959ab7200ff"
      },
      "source": [
        "prediction = model(data) # 순전파 단계(forward pass)\n",
        "prediction"
      ],
      "execution_count": 29,
      "outputs": [
        {
          "output_type": "execute_result",
          "data": {
            "text/plain": [
              "tensor([[0.2804],\n",
              "        [0.1692]], grad_fn=<AddmmBackward>)"
            ]
          },
          "metadata": {},
          "execution_count": 29
        }
      ]
    },
    {
      "cell_type": "markdown",
      "metadata": {
        "id": "JouUpsI4-PbB"
      },
      "source": [
        "## 실습 문제\n",
        "다음과 같은 연산 그래프를 직접 구현하면서 Autograd를 이해해보는 시간을 갖겠습니다.   \n",
        "이번 실습에서는 backpop의 미분 값이 어떻게 계산되는 지 살펴볼 것입니다.  \n",
        "x는 초기 값으로 2x2의 1로 채워진 행렬을 사용할 것입니다.  \n",
        "\n",
        "<img src=\"https://github.com/PEBpung/TotochTeam1/blob/main/day_1/img/ex1.jpg?raw=1\" width='600'>"
      ]
    },
    {
      "cell_type": "code",
      "metadata": {
        "id": "eH5ikq_z-PbB",
        "colab": {
          "base_uri": "https://localhost:8080/"
        },
        "outputId": "b5de1f58-7c29-4576-8a90-cc907c7d2ba8"
      },
      "source": [
        "x = torch.ones(2, 2)\n",
        "print(x)\n",
        "print(x.requires_grad)\n",
        "print('-'*10)\n",
        "\n",
        "x = torch.ones(2, 2, requires_grad=True)\n",
        "print(x)\n",
        "print(x.requires_grad)"
      ],
      "execution_count": 73,
      "outputs": [
        {
          "output_type": "stream",
          "name": "stdout",
          "text": [
            "tensor([[1., 1.],\n",
            "        [1., 1.]])\n",
            "False\n",
            "----------\n",
            "tensor([[1., 1.],\n",
            "        [1., 1.]], requires_grad=True)\n",
            "True\n"
          ]
        }
      ]
    },
    {
      "cell_type": "markdown",
      "metadata": {
        "id": "cY6ESNEs-PbB"
      },
      "source": [
        "<div class=\"alert alert-warning\">\n",
        "    <p><b>Q. requires_grad는 어떤 역할을 하는 파라미터일까요?</b></p>\n",
        "    <p>👉 (여기에 답을 입력해 주세요)</p>\n",
        "</div>"
      ]
    },
    {
      "cell_type": "code",
      "metadata": {
        "id": "_d6BpM_h-PbC",
        "colab": {
          "base_uri": "https://localhost:8080/"
        },
        "outputId": "b5e18032-abcc-46c4-f494-7b3dd8138b59"
      },
      "source": [
        "############################\n",
        "# 밑줄 친 곳을 채워주세요! #\n",
        "############################\n",
        "y = x + 2\n",
        "print(y)\n",
        "print(y.requires_grad)"
      ],
      "execution_count": 74,
      "outputs": [
        {
          "output_type": "stream",
          "name": "stdout",
          "text": [
            "tensor([[3., 3.],\n",
            "        [3., 3.]], grad_fn=<AddBackward0>)\n",
            "True\n"
          ]
        }
      ]
    },
    {
      "cell_type": "code",
      "metadata": {
        "id": "ynvvz11c-PbC",
        "colab": {
          "base_uri": "https://localhost:8080/"
        },
        "outputId": "b343f870-276c-4186-d518-a91c413dbee1"
      },
      "source": [
        "print(y.grad_fn)"
      ],
      "execution_count": 75,
      "outputs": [
        {
          "output_type": "stream",
          "name": "stdout",
          "text": [
            "<AddBackward0 object at 0x7f968b2da490>\n"
          ]
        }
      ]
    },
    {
      "cell_type": "code",
      "metadata": {
        "id": "Nhi7h5em-PbC",
        "colab": {
          "base_uri": "https://localhost:8080/"
        },
        "outputId": "cd8819d6-50b1-45be-aa19-5843d00a573c"
      },
      "source": [
        "############################\n",
        "# 밑줄 친 곳을 채워주세요! #\n",
        "############################\n",
        "\n",
        "z = 3 * y ** 2\n",
        "out = z.mean()\n",
        "print(z)\n",
        "print(out)"
      ],
      "execution_count": 77,
      "outputs": [
        {
          "output_type": "stream",
          "name": "stdout",
          "text": [
            "tensor([[27., 27.],\n",
            "        [27., 27.]], grad_fn=<MulBackward0>)\n",
            "tensor(27., grad_fn=<MeanBackward0>)\n"
          ]
        }
      ]
    },
    {
      "cell_type": "markdown",
      "metadata": {
        "id": "OlMnssOK-PbD"
      },
      "source": [
        "### Gradient, 경사/기울기"
      ]
    },
    {
      "cell_type": "markdown",
      "metadata": {
        "id": "r7mXr2ma-PbD"
      },
      "source": [
        "역전파를 해보겠습니다. out.backward()과 out.backward(torch.Tensor([1.0]))은 동일하게 동작합니다."
      ]
    },
    {
      "cell_type": "code",
      "metadata": {
        "id": "2po1BG-1-PbD"
      },
      "source": [
        "out.backward() # upstream grad init: 1"
      ],
      "execution_count": 78,
      "outputs": []
    },
    {
      "cell_type": "code",
      "metadata": {
        "id": "MwBVjpmj-PbD",
        "colab": {
          "base_uri": "https://localhost:8080/"
        },
        "outputId": "7ad5d3d3-93d2-4d71-872e-9a9a49536a62"
      },
      "source": [
        "print(x.grad)"
      ],
      "execution_count": 79,
      "outputs": [
        {
          "output_type": "stream",
          "name": "stdout",
          "text": [
            "tensor([[4.5000, 4.5000],\n",
            "        [4.5000, 4.5000]])\n"
          ]
        }
      ]
    },
    {
      "cell_type": "code",
      "metadata": {
        "id": "0nmWyWc5-PbC",
        "colab": {
          "base_uri": "https://localhost:8080/"
        },
        "outputId": "9e5ed4ff-eb8e-4942-c32c-9c909f9c6cf7"
      },
      "source": [
        "x = torch.ones(5)  # input tensor\n",
        "w = torch.randn(5, 3, requires_grad=True)\n",
        "b = torch.randn(3, requires_grad=True)\n",
        "\n",
        "z = torch.matmul(x, w)+b\n",
        "print(z.requires_grad)\n",
        "\n",
        "with torch.no_grad():\n",
        "    z = torch.matmul(x, w)+b\n",
        "print(z.requires_grad)\n"
      ],
      "execution_count": 80,
      "outputs": [
        {
          "output_type": "stream",
          "name": "stdout",
          "text": [
            "True\n",
            "False\n"
          ]
        }
      ]
    },
    {
      "cell_type": "markdown",
      "metadata": {
        "id": "UFjpX-Jc-PbE"
      },
      "source": [
        "<div class=\"alert alert-warning\">\n",
        "    <p><b>Q. requires_grad = True를 하면 무슨 일이 일어나길래, grad()를 호출하면 바로 미분값을 합산해줄까?</b></p>\n",
        "    <p>👉 (여기에 답을 입력해 주세요)</p>\n",
        "</div>"
      ]
    },
    {
      "cell_type": "markdown",
      "metadata": {
        "id": "u0S4XTOk-PbE"
      },
      "source": [
        "# 3. DATASET과 DATALOADER\n",
        "\n",
        "데이터 샘플을 처리하는 코드는 지저분(messy)하고 유지보수가 어려울 수 있습니다. 더 나은 가독성(readability)과 모듈성(modularity)을 위해 데이터셋 코드를 모델 학습 코드로부터 분리하는 것이 이상적입니다. PyTorch는 ``torch.utils.data.DataLoader``와 ``torch.utils.data.Dataset`` 의 두 가지 데이터 기본 요소를 제공하여 미리 준비해된(pre-loaded) 데이터셋 뿐만 아니라 가지고 있는 데이터를 사용할 수 있도록 합니다.\n",
        "``Dataset`` 은 샘플과 정답(label)을 저장하고, ``DataLoader`` 는 ``Dataset`` 을 샘플에 쉽게 접근할 수 있도록 순회 가능한 객체(iterable)로 감쌉니다.\n",
        "\n",
        "PyTorch의 도메인 특화 라이브러리들은 (FashionMNIST와 같은) 다양한 미리 준비해둔(pre-loaded) 데이터셋을 제공합니다. 데이터셋은 ``torch.utils.data.Dataset`` 의 하위 클래스로 개별 데이터를 특정하는 함수가 구현되어 있습니다. 이러한 데이터셋은 모델을 만들어보고(prototype) 성능을 측정(benchmark)하는데 사용할 수 있습니다.\n",
        "\n",
        "여기에서 데이터셋들을 찾아볼 수 있습니다:\n",
        "[이미지 데이터셋](https://pytorch.org/vision/stable/datasets.html), \n",
        "[텍스트 데이터셋](https://pytorch.org/text/stable/datasets.html) 및\n",
        "[오디오 데이터셋](https://pytorch.org/audio/stable/datasets.html)"
      ]
    },
    {
      "cell_type": "markdown",
      "metadata": {
        "id": "B5KAoq-A-PbF"
      },
      "source": [
        "### A. 데이터셋 불러오기\n",
        "\n",
        "`TorchVision` 에서 [Fashion-MNIST](https://research.zalando.com/project/fashion_mnist/fashion_mnist) 데이터셋을\n",
        "불러오는 예제를 살펴보겠습니다. Fashion-MNIST는 Zalando의 기사 이미지 데이터셋으로 60,000개의 학습 예제와 10,000개의 테스트 예제로 이루어져 있습니다. 각 예제는 흑백(grayscale)의 28x28 이미지와 10개 분류(class) 중 하나인 정답(label)으로 구성됩니다.\n",
        "\n",
        "다음 매개변수들을 사용하여 [FashionMNIST 데이터셋](https://pytorch.org/vision/stable/datasets.html#fashion-mnist)을 불러옵니다:\n",
        " - ``root`` 는 학습/테스트 데이터가 저장되는 경로입니다.\n",
        " - ``train`` 은 학습용 또는 테스트용 데이터셋 여부를 지정합니다.\n",
        " - ``download=True`` 는 ``root`` 에 데이터가 없는 경우 인터넷에서 다운로드합니다.\n",
        " - ``transform`` 과 ``target_transform`` 은 특징(feature)과 정답(label) 변형(transform)을 지정합니다.\n"
      ]
    },
    {
      "cell_type": "code",
      "metadata": {
        "id": "WBWYKtsA-PbF",
        "colab": {
          "base_uri": "https://localhost:8080/",
          "height": 489,
          "referenced_widgets": [
            "e4716187f338471c9d2aa2a8fe383d1f",
            "64e184ae692c448fb57f205e98b447ea",
            "f6c6c47a469447aba19f6f0ab14b7850",
            "197e38be4dce4c6998f7368e3e1d1353",
            "90d25432f3224d3f833aa80a417a0add",
            "20dbd7c754d440939a4824e85ed8a811",
            "6eb9e051896b409492e33851b126054a",
            "64d2214ae5184bf9a46929a04dcc4343",
            "a071f38b4523489099f570a2d2045dce",
            "952b27bdfc0a485eaf70827b357a4f4d",
            "a29f5d7bd896434182f0ff34f966e804",
            "ceaf8f33d5064426811dbee9e14eb548",
            "088132f9d20b47ffaaf2d720b4ac371d",
            "e7649e1b383f4b62beabaf73e61a270e",
            "29b41f1375c7469bba07e407a9a63ee3",
            "17d2dd557472452ab067f78d9246093b",
            "34a03d9a74c24248b55691123b464e10",
            "15d4d87586ef44e789b2afd9b2d6beb2",
            "5ffa102a637f4ecda0ae0780f313d0b1",
            "54dd6af569864e3fa3cedae003d17b62",
            "187d4cd2fb704eb890a32448764fb298",
            "b676362f77134e0894b3953a9d057124",
            "551099bd613b43d6bc60a1d8c04c3a6e",
            "d1b9a797e69642d0a4a645e3a3358fb9",
            "a117169ab7174429aba26b4b0e7cc63a",
            "0bf1240d16104656bddbb17334862e54",
            "53e283f2c9124e638b2cfc77eac885d6",
            "af903f2a81a24914ad71b2aa0dc7214c",
            "210a8e285593406b907944841bd11109",
            "9f885696da7e4cc78bdd0451bb0e9ef4",
            "0b1545fea4f744038bf7d33173294ac8",
            "ca46e827e00e4dc8bca668f256970690",
            "be19285203624325aa29e075fc387890",
            "d5bc5d4b6fe24c5d887918de626c39ae",
            "61f79de2c86c4505b409dd085dd182c6",
            "603f2748e4df45019ef645e357202c19",
            "63230ef45f6c41eb8aff22c863d76055",
            "14990fda6ffa445a8123cea9cd3748a0",
            "be45833591c544279d0f5305574990ff",
            "b3881bb9a3944063bacd749a5dbaca14",
            "2d217d31b2b247c6b2bf9ae273b08ec1",
            "3847c31cf3414bcba4d3e8ada97410af",
            "05075dc937d44a5cb513a6aedd524442",
            "4b5d5b4a468848ebb08dcbdc01cceb3b"
          ]
        },
        "outputId": "735e113c-84ae-43de-d3fa-d5cc1ebbdddd"
      },
      "source": [
        "import torch\n",
        "from torch.utils.data import Dataset\n",
        "from torchvision import datasets\n",
        "from torchvision.transforms import ToTensor\n",
        "import matplotlib.pyplot as plt\n",
        "\n",
        "\n",
        "training_data = datasets.FashionMNIST(\n",
        "    root=\"data\",\n",
        "    train=True,\n",
        "    download=True,\n",
        "    transform=ToTensor()\n",
        ")\n",
        "\n",
        "test_data = datasets.FashionMNIST(\n",
        "    root=\"data\",\n",
        "    train=False,\n",
        "    download=True,\n",
        "    transform=ToTensor()\n",
        ")"
      ],
      "execution_count": 56,
      "outputs": [
        {
          "output_type": "stream",
          "name": "stdout",
          "text": [
            "Downloading http://fashion-mnist.s3-website.eu-central-1.amazonaws.com/train-images-idx3-ubyte.gz\n",
            "Downloading http://fashion-mnist.s3-website.eu-central-1.amazonaws.com/train-images-idx3-ubyte.gz to data/FashionMNIST/raw/train-images-idx3-ubyte.gz\n"
          ]
        },
        {
          "output_type": "display_data",
          "data": {
            "application/vnd.jupyter.widget-view+json": {
              "model_id": "e4716187f338471c9d2aa2a8fe383d1f",
              "version_minor": 0,
              "version_major": 2
            },
            "text/plain": [
              "  0%|          | 0/26421880 [00:00<?, ?it/s]"
            ]
          },
          "metadata": {}
        },
        {
          "output_type": "stream",
          "name": "stdout",
          "text": [
            "Extracting data/FashionMNIST/raw/train-images-idx3-ubyte.gz to data/FashionMNIST/raw\n",
            "\n",
            "Downloading http://fashion-mnist.s3-website.eu-central-1.amazonaws.com/train-labels-idx1-ubyte.gz\n",
            "Downloading http://fashion-mnist.s3-website.eu-central-1.amazonaws.com/train-labels-idx1-ubyte.gz to data/FashionMNIST/raw/train-labels-idx1-ubyte.gz\n"
          ]
        },
        {
          "output_type": "display_data",
          "data": {
            "application/vnd.jupyter.widget-view+json": {
              "model_id": "ceaf8f33d5064426811dbee9e14eb548",
              "version_minor": 0,
              "version_major": 2
            },
            "text/plain": [
              "  0%|          | 0/29515 [00:00<?, ?it/s]"
            ]
          },
          "metadata": {}
        },
        {
          "output_type": "stream",
          "name": "stdout",
          "text": [
            "Extracting data/FashionMNIST/raw/train-labels-idx1-ubyte.gz to data/FashionMNIST/raw\n",
            "\n",
            "Downloading http://fashion-mnist.s3-website.eu-central-1.amazonaws.com/t10k-images-idx3-ubyte.gz\n",
            "Downloading http://fashion-mnist.s3-website.eu-central-1.amazonaws.com/t10k-images-idx3-ubyte.gz to data/FashionMNIST/raw/t10k-images-idx3-ubyte.gz\n"
          ]
        },
        {
          "output_type": "display_data",
          "data": {
            "application/vnd.jupyter.widget-view+json": {
              "model_id": "551099bd613b43d6bc60a1d8c04c3a6e",
              "version_minor": 0,
              "version_major": 2
            },
            "text/plain": [
              "  0%|          | 0/4422102 [00:00<?, ?it/s]"
            ]
          },
          "metadata": {}
        },
        {
          "output_type": "stream",
          "name": "stdout",
          "text": [
            "Extracting data/FashionMNIST/raw/t10k-images-idx3-ubyte.gz to data/FashionMNIST/raw\n",
            "\n",
            "Downloading http://fashion-mnist.s3-website.eu-central-1.amazonaws.com/t10k-labels-idx1-ubyte.gz\n",
            "Downloading http://fashion-mnist.s3-website.eu-central-1.amazonaws.com/t10k-labels-idx1-ubyte.gz to data/FashionMNIST/raw/t10k-labels-idx1-ubyte.gz\n"
          ]
        },
        {
          "output_type": "display_data",
          "data": {
            "application/vnd.jupyter.widget-view+json": {
              "model_id": "d5bc5d4b6fe24c5d887918de626c39ae",
              "version_minor": 0,
              "version_major": 2
            },
            "text/plain": [
              "  0%|          | 0/5148 [00:00<?, ?it/s]"
            ]
          },
          "metadata": {}
        },
        {
          "output_type": "stream",
          "name": "stdout",
          "text": [
            "Extracting data/FashionMNIST/raw/t10k-labels-idx1-ubyte.gz to data/FashionMNIST/raw\n",
            "\n"
          ]
        },
        {
          "output_type": "stream",
          "name": "stderr",
          "text": [
            "/usr/local/lib/python3.7/dist-packages/torchvision/datasets/mnist.py:498: UserWarning: The given NumPy array is not writeable, and PyTorch does not support non-writeable tensors. This means you can write to the underlying (supposedly non-writeable) NumPy array using the tensor. You may want to copy the array to protect its data or make it writeable before converting it to a tensor. This type of warning will be suppressed for the rest of this program. (Triggered internally at  /pytorch/torch/csrc/utils/tensor_numpy.cpp:180.)\n",
            "  return torch.from_numpy(parsed.astype(m[2], copy=False)).view(*s)\n"
          ]
        }
      ]
    },
    {
      "cell_type": "markdown",
      "metadata": {
        "id": "DNZacYNny2Nx"
      },
      "source": [
        "### B. 데이터셋을 순회하고 시각화하기\n",
        "\n",
        "Dataset 에 리스트(list)처럼 직접 접근(index)할 수 있습니다: training_data[index]. matplotlib 을 사용하여 학습 데이터의 일부를 시각화해보겠습니다."
      ]
    },
    {
      "cell_type": "code",
      "metadata": {
        "id": "b6cOiITJ-PbG",
        "colab": {
          "base_uri": "https://localhost:8080/",
          "height": 482
        },
        "outputId": "9f67fa7d-7c11-4da2-f1a3-7042fb06317d"
      },
      "source": [
        "labels_map = {\n",
        "    0: \"T-Shirt\",\n",
        "    1: \"Trouser\",\n",
        "    2: \"Pullover\",\n",
        "    3: \"Dress\",\n",
        "    4: \"Coat\",\n",
        "    5: \"Sandal\",\n",
        "    6: \"Shirt\",\n",
        "    7: \"Sneaker\",\n",
        "    8: \"Bag\",\n",
        "    9: \"Ankle Boot\",\n",
        "}\n",
        "figure = plt.figure(figsize=(8, 8))\n",
        "cols, rows = 3, 3\n",
        "for i in range(1, cols * rows + 1):\n",
        "    sample_idx = torch.randint(len(training_data), size=(1,)).item()\n",
        "    img, label = training_data[sample_idx]\n",
        "    figure.add_subplot(rows, cols, i)\n",
        "    plt.title(labels_map[label])\n",
        "    plt.axis(\"off\")\n",
        "    plt.imshow(img.squeeze(), cmap=\"gray\")\n",
        "plt.show()\n"
      ],
      "execution_count": 57,
      "outputs": [
        {
          "output_type": "display_data",
          "data": {
            "image/png": "[encoded data removed]",
            "text/plain": [
              "<Figure size 576x576 with 9 Axes>"
            ]
          },
          "metadata": {
            "needs_background": "light"
          }
        }
      ]
    },
    {
      "cell_type": "markdown",
      "metadata": {
        "id": "FTj6goeS-PbG"
      },
      "source": [
        "### C. 파일에서 사용자 정의 데이터셋 만들기\n",
        "\n",
        "사용자 정의 Dataset 클래스는 반드시 3개 함수를 구현해야 합니다: `__init__`, `__len__`, and `__getitem__`. 아래 구현을 살펴보면 FashionMNIST 이미지들은 img_dir 디렉토리에 저장되고, 정답은 `annotations_file csv` 파일에 별도로 저장됩니다.\n",
        "\n",
        "다음 장에서 각 함수들에서 일어나는 일들을 자세히 살펴보겠습니다"
      ]
    },
    {
      "cell_type": "code",
      "metadata": {
        "id": "8QredXEs-PbG"
      },
      "source": [
        "import os\n",
        "import pandas as pd\n",
        "from torchvision.io import read_image\n",
        "\n",
        "class CustomImageDataset(Dataset):\n",
        "    def __init__(self, annotations_file, img_dir, transform=None, target_transform=None):\n",
        "        self.img_labels = pd.read_csv(annotations_file)\n",
        "        self.img_dir = img_dir\n",
        "        self.transform = transform\n",
        "        self.target_transform = target_transform\n",
        "\n",
        "    def __len__(self):\n",
        "        return len(self.img_labels)\n",
        "\n",
        "    def __getitem__(self, idx):\n",
        "        img_path = os.path.join(self.img_dir, self.img_labels.iloc[idx, 0])\n",
        "        image = read_image(img_path)\n",
        "        label = self.img_labels.iloc[idx, 1]  # label\n",
        "        if self.transform:\n",
        "            image = self.transform(image)\n",
        "        if self.target_transform:\n",
        "            label = self.target_transform(label)\n",
        "        return image, label"
      ],
      "execution_count": 59,
      "outputs": []
    },
    {
      "cell_type": "markdown",
      "metadata": {
        "id": "c7fmizsQ-PbH"
      },
      "source": [
        "#### a. \\_\\_init\\_\\_\n",
        "\n",
        "`__init__` 함수는 Dataset 객체가 생성(instantiate)될 때 한 번만 실행됩니다. 여기서는 이미지와 주석 파일(annotation_file)이 포함된 디렉토리와 (다음 장에서 자세히 살펴볼) 두가지 변형(transform)을 초기화합니다. \n",
        "\n",
        "labels.csv 파일은 다음과 같습니다: \n",
        "```\n",
        "tshirt1.jpg, 0\n",
        "tshirt2.jpg, 0\n",
        "......\n",
        "ankleboot999.jpg, 9\n",
        "```"
      ]
    },
    {
      "cell_type": "markdown",
      "metadata": {
        "id": "KHFu65II-PbI"
      },
      "source": [
        "#### b. \\_\\_len\\_\\_\n",
        "\n",
        "`__len__` 함수는 데이터셋의 샘플 개수를 반환합니다.\n",
        "\n",
        "예:"
      ]
    },
    {
      "cell_type": "markdown",
      "metadata": {
        "id": "EJ6WCKIR-PbI"
      },
      "source": [
        "#### c. \\_\\_getitem\\_\\_\n",
        "\n",
        "`__getitem__` 함수는 주어진 인덱스 ``idx`` 에 해당하는 샘플을 데이터셋에서 불러오고 반환합니다.<br>\n",
        "인덱스를 기반으로, 디스크에서 이미지의 위치를 식별하고, ``read_image`` 를 사용하여 이미지를 텐서로 변환하고, ``self.img_labels`` 의 csv 데이터로부터 해당하는 정답(label)을 가져오고, (해당하는 경우) 변형(transform) 함수들을 호출한 뒤, 텐서 이미지와 라벨을 Python 사전(dict)형으로 반환합니다."
      ]
    },
    {
      "cell_type": "code",
      "metadata": {
        "id": "QBm5yZJ5-PbJ"
      },
      "source": [
        "def __getitem__(self, idx):\n",
        "    img_path = os.path.join(self.img_dir, self.img_labels.iloc[idx, 0])\n",
        "    image = read_image(img_path)\n",
        "    label = self.img_labels.iloc[idx, 1]\n",
        "    if self.transform:\n",
        "        image = self.transform(image)\n",
        "    if self.target_transform:\n",
        "        label = self.target_transform(label)\n",
        "    sample = {\"image\": image, \"label\": label}\n",
        "    return sample"
      ],
      "execution_count": 60,
      "outputs": []
    },
    {
      "cell_type": "markdown",
      "metadata": {
        "id": "t4h8nOU3-PbJ"
      },
      "source": [
        "### D. DataLoader로 학습용 데이터 준비하기\n",
        "\n",
        "`Dataset`은 데이터셋의 특징(feature)을 가져오고 하나의 샘플에 정답(label)을 지정하는 일을 한 번에 합니다. 모델을 학습할 때, 일반적으로 샘플들을 “미니배치(minibatch)”로 전달하고, 매 에폭(epoch)마다 데이터를 다시 섞어서 과적합(overfit)을 막고, Python의 multiprocessing 을 사용하여 데이터 검색 속도를 높이려고 합니다.\n",
        "\n",
        "`DataLoader`는 간단한 API로 이러한 복잡한 과정들을 추상화한 순회 가능한 객체(iteratable)입니다."
      ]
    },
    {
      "cell_type": "code",
      "metadata": {
        "id": "8p0IClim-PbK",
        "colab": {
          "base_uri": "https://localhost:8080/"
        },
        "outputId": "c2dd605a-17e7-4c66-fe98-7e980325f6d3"
      },
      "source": [
        "from torch.utils.data import DataLoader\n",
        "\n",
        "train_dataloader = DataLoader(training_data, batch_size=64, shuffle=True)\n",
        "test_dataloader = DataLoader(test_data, batch_size=64, shuffle=True)\n",
        "\n",
        "train_dataloader, test_dataloader"
      ],
      "execution_count": 61,
      "outputs": [
        {
          "output_type": "execute_result",
          "data": {
            "text/plain": [
              "(<torch.utils.data.dataloader.DataLoader at 0x7f968b7ffb50>,\n",
              " <torch.utils.data.dataloader.DataLoader at 0x7f968b7ff110>)"
            ]
          },
          "metadata": {},
          "execution_count": 61
        }
      ]
    },
    {
      "cell_type": "markdown",
      "metadata": {
        "id": "1FSYD1pQ-PbK"
      },
      "source": [
        "### E. DataLoader를 통해 순회하기(iterate)\n",
        "\n",
        "``DataLoader`` 에 데이터셋을 불러온 뒤에는 필요에 따라 데이터셋을 순회(iterate)할 수 있습니다.\n",
        "아래의 각 순회(iteration)는 (각각 ``batch_size=64`` 의 특징(feature)과 정답(label)을 포함하는) ``train_features`` 와\n",
        "``train_labels`` 의 묶음(batch)을 반환합니다. ``shuffle=True`` 로 지정했으므로, 모든 배치를 순회한 뒤 데이터가 섞입니다.\n",
        "(데이터 불러오기 순서를 보다 세밀하게(finer-grained) 제어하려면 [Samplers](https://pytorch.org/docs/stable/data.html#data-loading-order-and-sampler)\n",
        "를 살펴보세요.)"
      ]
    },
    {
      "cell_type": "code",
      "metadata": {
        "id": "LBorf2mU-PbK",
        "colab": {
          "base_uri": "https://localhost:8080/",
          "height": 319
        },
        "outputId": "5eec733e-5276-448d-d0a5-62a9944ea999"
      },
      "source": [
        "# 이미지와 정답(label)을 표시합니다.\n",
        "train_features, train_labels = next(iter(train_dataloader))\n",
        "print(f\"Feature batch shape: {train_features.size()}\")\n",
        "print(f\"Labels batch shape: {train_labels.size()}\")\n",
        "img = train_features[0].squeeze()\n",
        "label = train_labels[0]\n",
        "plt.imshow(img, cmap=\"gray\")\n",
        "plt.show()\n",
        "print(f\"Label: {label}\")"
      ],
      "execution_count": 62,
      "outputs": [
        {
          "output_type": "stream",
          "name": "stdout",
          "text": [
            "Feature batch shape: torch.Size([64, 1, 28, 28])\n",
            "Labels batch shape: torch.Size([64])\n"
          ]
        },
        {
          "output_type": "display_data",
          "data": {
            "image/png": "[encoded data removed]",
            "text/plain": [
              "<Figure size 432x288 with 1 Axes>"
            ]
          },
          "metadata": {
            "needs_background": "light"
          }
        },
        {
          "output_type": "stream",
          "name": "stdout",
          "text": [
            "Label: 2\n"
          ]
        }
      ]
    },
    {
      "cell_type": "code",
      "metadata": {
        "id": "XKqOrK2KH3uB"
      },
      "source": [
        ""
      ],
      "execution_count": null,
      "outputs": []
    }
  ]
}